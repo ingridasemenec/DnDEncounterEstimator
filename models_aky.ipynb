{
 "cells": [
  {
   "cell_type": "code",
   "execution_count": null,
   "id": "ef10cd86-e9fe-4476-b618-932de609718b",
   "metadata": {},
   "outputs": [],
   "source": [
    "import numpy as np\n",
    "import pandas as pd\n",
    "import json\n",
    "import glob\n",
    "import ast\n",
    "import gzip\n",
    "import os\n",
    "import yaml\n",
    "from tqdm import tqdm\n",
    "import re\n",
    "from collections import defaultdict\n",
    "import seaborn as sns\n",
    "import matplotlib.pyplot as plt\n",
    "import ast"
   ]
  },
  {
   "cell_type": "code",
   "execution_count": 10,
   "id": "fa2b029f-399f-4266-a0ce-6e75b20fdf8b",
   "metadata": {
    "tags": []
   },
   "outputs": [],
   "source": [
    "df = pd.read_csv('scaled_filtered_24_4_10.csv')"
   ]
  },
  {
   "cell_type": "code",
   "execution_count": 15,
   "id": "2b2f5d29-f352-423f-a677-f4cae2420627",
   "metadata": {
    "tags": []
   },
   "outputs": [
    {
     "data": {
      "text/plain": [
       "(10132, 62)"
      ]
     },
     "execution_count": 15,
     "metadata": {},
     "output_type": "execute_result"
    }
   ],
   "source": [
    "# df = df.drop('Unnamed: 0', axis =1)\n",
    "df = df[df['party_total_hpratio'] <= 1]\n",
    "df.shape"
   ]
  },
  {
   "cell_type": "code",
   "execution_count": 20,
   "id": "aa1855fb-8ff3-4006-b723-43a6baff5758",
   "metadata": {
    "tags": []
   },
   "outputs": [
    {
     "data": {
      "image/png": "[encoded data removed]",
      "text/plain": [
       "<Figure size 640x480 with 1 Axes>"
      ]
     },
     "metadata": {},
     "output_type": "display_data"
    }
   ],
   "source": [
    "plt.hist(df['party_total_hpratio'], bins=20, edgecolor='black')  # Adjust the number of bins as needed\n",
    "plt.xlabel('Health Ratios')\n",
    "plt.ylabel('Count')\n",
    "plt.title('Distribution of Post-combat Health Ratios')\n",
    "plt.grid(True)  # Add grid\n",
    "\n",
    "plt.savefig('distribution_of_hpratios.png')"
   ]
  },
  {
   "cell_type": "code",
   "execution_count": 21,
   "id": "7f12a2d4-b21c-4710-9819-537d2042ba58",
   "metadata": {
    "tags": []
   },
   "outputs": [
    {
     "data": {
      "text/plain": [
       "(332, 62)"
      ]
     },
     "execution_count": 21,
     "metadata": {},
     "output_type": "execute_result"
    }
   ],
   "source": [
    "df[df['party_total_hpratio'] == 0].shape"
   ]
  },
  {
   "cell_type": "code",
   "execution_count": null,
   "id": "c03d2dcb-5cc7-4e55-95bd-9c7847991083",
   "metadata": {
    "tags": []
   },
   "outputs": [],
   "source": [
    "plt.scatter(df_temp['party_total_hpratio'],df_temp['weighted_monster_level'])"
   ]
  },
  {
   "cell_type": "code",
   "execution_count": null,
   "id": "5afaf480-d272-4baf-a982-47c32355a3b1",
   "metadata": {
    "tags": []
   },
   "outputs": [],
   "source": [
    "df.columns"
   ]
  },
  {
   "cell_type": "code",
   "execution_count": null,
   "id": "1d430df0-9b8f-4c77-b879-618e2225574d",
   "metadata": {
    "tags": []
   },
   "outputs": [],
   "source": [
    "pred_features = ['party_size','number_of_rounds',\n",
    "                       'monster_number','monster_total_level','party_total_ac',\n",
    "                      'party_total_prof_bonus',\n",
    "                      'party_total_strength', 'party_total_dexterity',\n",
    "                       'party_total_constitution',\n",
    "                      'party_total_intelligence',\n",
    "                      'party_total_wisdom','party_level1_spellslots',\n",
    "       'party_level2_spellslots', 'party_level3_spellslots',\n",
    "       'party_level4_spellslots', 'party_level5_spellslots',\n",
    "       'party_level6_spellslots', 'party_level7_spellslots',\n",
    "       'party_level8_spellslots', 'party_level9_spellslots',\n",
    "                       'party_total_charisma','monster_player_ratio', 'Druid','Cleric','Wizard','Rogue','Warlock','Sorcerer',\n",
    "                       'Blood Hunter','Monk','Bard','Barbarian','Fighter','Paladin','Ranger',\n",
    "                      'weighted_monster_level']"
   ]
  },
  {
   "cell_type": "code",
   "execution_count": null,
   "id": "2f41c115-ee1b-40e5-a9c5-5931fc9c0d36",
   "metadata": {
    "tags": []
   },
   "outputs": [],
   "source": [
    "\n"
   ]
  },
  {
   "cell_type": "markdown",
   "id": "93aaf090-83ca-4d38-9825-acb0721fe37e",
   "metadata": {
    "tags": []
   },
   "source": [
    "## Baseline Model"
   ]
  },
  {
   "cell_type": "code",
   "execution_count": null,
   "id": "35f3260c-fa7a-4721-82d4-9e129e55d690",
   "metadata": {
    "tags": []
   },
   "outputs": [],
   "source": [
    "from sklearn.model_selection import train_test_split\n",
    "from sklearn.linear_model import LinearRegression\n",
    "from sklearn.metrics import mean_squared_error\n",
    "import numpy as np\n",
    "\n",
    "# Assuming df is your DataFrame\n",
    "\n",
    "# Prepare your data\n",
    "X = df['monster_total_level'].values.reshape(-1,1) # Predictor\n",
    "y = df['party_total_hpratio']  # Target variable\n",
    "\n",
    "# Split the data\n",
    "X_train, X_test, y_train, y_test = train_test_split(X, y, test_size=0.2, random_state=455)\n",
    "\n",
    "# Train a Linear Regression Model\n",
    "model = LinearRegression()\n",
    "model.fit(X_train, y_train)\n",
    "\n",
    "# Predicting on the test set\n",
    "y_pred = model.predict(X_test)\n",
    "\n",
    "# Evaluating the model\n",
    "mse = mean_squared_error(y_test, y_pred)\n",
    "rmse = np.sqrt(mse)\n",
    "\n",
    "print(\"Baseline Model RMSE:\", rmse)\n"
   ]
  },
  {
   "cell_type": "code",
   "execution_count": null,
   "id": "207a316a-2872-451d-98d6-f627920fef05",
   "metadata": {
    "tags": []
   },
   "outputs": [],
   "source": [
    "from sklearn.model_selection import train_test_split\n",
    "from sklearn.linear_model import LinearRegression\n",
    "from sklearn.metrics import mean_squared_error\n",
    "import numpy as np\n",
    "\n",
    "\n",
    "# Prepare your data\n",
    "X = df['weighted_monster_level'].values.reshape(-1,1)  # Predictor\n",
    "\n",
    "y = df['party_total_hpratio']  # Target variable\n",
    "\n",
    "# Split the data\n",
    "X_train, X_test, y_train, y_test = train_test_split(X, y, test_size=0.2, random_state=42)\n",
    "\n",
    "# Train a Linear Regression Model\n",
    "model = LinearRegression()\n",
    "model.fit(X_train, y_train)\n",
    "\n",
    "# Predicting on the test set\n",
    "y_pred = model.predict(X_test)\n",
    "\n",
    "# Evaluating the model\n",
    "mse = mean_squared_error(y_test, y_pred)\n",
    "rmse = np.sqrt(mse)\n",
    "\n",
    "print(\"Baseline Model RMSE:\", rmse)\n"
   ]
  },
  {
   "cell_type": "markdown",
   "id": "a4928965-c64d-4b9c-b963-21c33226ca5b",
   "metadata": {
    "tags": []
   },
   "source": [
    "## Random Forest Regressor"
   ]
  },
  {
   "cell_type": "code",
   "execution_count": null,
   "id": "9fa9a99a-2c48-49f2-9e3b-5c9a90b30e8a",
   "metadata": {
    "tags": []
   },
   "outputs": [],
   "source": [
    "from sklearn.model_selection import train_test_split\n",
    "from sklearn.preprocessing import StandardScaler\n",
    "from sklearn.ensemble import RandomForestRegressor\n",
    "from sklearn.decomposition import PCA\n",
    "from sklearn.pipeline import Pipeline\n",
    "from sklearn.metrics import mean_squared_error\n",
    "from sklearn.impute import SimpleImputer\n",
    "from sklearn.compose import ColumnTransformer\n",
    "from sklearn.preprocessing import OneHotEncoder\n",
    "\n",
    "\n",
    "# Defining the target variable\n",
    "target = 'party_total_hpratio'\n",
    "\n",
    "# Preparing the features and target variable\n",
    "X_rf = df[features_to_include].copy()\n",
    "y = df[target].copy()\n",
    "\n",
    "# Splitting the data into training and test sets\n",
    "X_train, X_test, y_train, y_test = train_test_split(X_rf, y, test_size=0.2, random_state=42)\n",
    "\n",
    "\n",
    "\n",
    "# Creating the RandomForestRegressor\n",
    "regressor = RandomForestRegressor(n_estimators=100)\n",
    "\n",
    "# Training the model\n",
    "regressor.fit(X_train, y_train)\n",
    "\n",
    "# Predicting on the test set\n",
    "y_pred = regressor.predict(X_test)\n",
    "\n",
    "# Evaluating the model\n",
    "mse = mean_squared_error(y_test, y_pred)\n",
    "rmse = mse ** 0.5\n",
    "rmse\n",
    "plt.scatter(y_test,y_pred)"
   ]
  },
  {
   "cell_type": "code",
   "execution_count": null,
   "id": "0885a397-1914-49db-bb44-9b72001ca4ef",
   "metadata": {
    "tags": []
   },
   "outputs": [],
   "source": [
    "rmse"
   ]
  },
  {
   "cell_type": "markdown",
   "id": "2e7fea1b-2536-4901-8765-89e68bdbd2e0",
   "metadata": {
    "tags": []
   },
   "source": [
    "## PLA"
   ]
  },
  {
   "cell_type": "code",
   "execution_count": null,
   "id": "047fbd75-460b-49dd-a785-c88f72f34aca",
   "metadata": {
    "tags": []
   },
   "outputs": [],
   "source": [
    "from sklearn.cross_decomposition import PLSRegression\n",
    "from sklearn.model_selection import cross_val_predict\n",
    "from sklearn.metrics import mean_squared_error, r2_score\n",
    "from sklearn.datasets import make_regression\n",
    "from sklearn.model_selection import train_test_split, KFold, cross_val_score\n",
    "from sklearn.metrics import r2_score, mean_squared_error\n",
    "from sklearn.preprocessing import StandardScaler\n",
    "\n",
    "# Scaling numerical values\n",
    "df_pls = df[pred_features]  \n",
    "df_pls['health_ratio'] = df['party_total_hpratio']  \n",
    "\n",
    "# Identify numerical columns\n",
    "numerical_cols = df_pls.select_dtypes(include=['int64', 'float64']).columns.tolist()\n",
    "\n",
    "# Define the list of categorical columns (one-hot encoded class columns) and the column to be predicted\n",
    "excluded_cols = ['Druid', 'Cleric', 'Wizard', 'Rogue', 'Warlock', 'Sorcerer',\n",
    "                    'Blood Hunter', 'Monk', 'Bard', 'Barbarian', 'Fighter',\n",
    "                    'Paladin', 'Ranger','health_ratio']\n",
    "\n",
    "# Exclude needed columns from the list of numerical columns\n",
    "numerical_cols = [col for col in numerical_cols if col not in excluded_cols]\n",
    "assert all(col in df_pls.columns for col in numerical_cols), \"Some columns are missing in the DataFrame.\"\n",
    "\n",
    "scaler = StandardScaler()\n",
    "df_pls_num = df_pls[numerical_cols]\n",
    "# Apply fit_transform to each column\n",
    "scaled_data = df_pls_num.apply(lambda x: scaler.fit_transform(x.values.reshape(-1, 1)).flatten())\n",
    "\n",
    "# Create a new DataFrame with scaled data\n",
    "scaled_df = pd.DataFrame(scaled_data, columns=df_pls_num.columns)\n",
    "scaled_df.shape\n",
    "df_pls = pd.concat([scaled_df, df_pls[excluded_cols]], axis=1)\n",
    "\n",
    "\n",
    "\n",
    "\n",
    "X_PLA = df_pls[pred_features].copy()\n",
    "Y = df_pls['health_ratio']\n",
    "\n",
    "# Splitting the dataset\n",
    "X_train, X_test, y_train, y_test = train_test_split(X_PLA, Y)\n",
    "\n",
    "# Initial PLS model fitting with a predefined number of components\n",
    "pls = PLSRegression(n_components=15)\n",
    "pls.fit(X_train, y_train)\n",
    "Y_pred = pls.predict(X_test)\n",
    "r_squared = r2_score(y_test, Y_pred)\n",
    "print(\"R-squared:\", r_squared)\n",
    "\n",
    "# loadings = pls.x_loadings_\n",
    "\n",
    "# def plot_correlation_loadings(loadings, feature_names=df_pls[pred_features].columns.tolist()):\n",
    "#     plt.figure(figsize=(10, 7))\n",
    "#     for i in range(loadings.shape[0]):\n",
    "#         plt.arrow(0, 0, loadings[i, 0], loadings[i, 1], head_width=0.05, head_length=0.1)\n",
    "#         plt.text(loadings[i, 0], loadings[i, 1], 'Var'+str(i+1) if not feature_names else feature_names[i],\n",
    "#                  verticalalignment='bottom', horizontalalignment='right')\n",
    "\n",
    "#     plt.xlabel(\"Component 1 Loadings\")\n",
    "#     plt.ylabel(\"Component 2 Loadings\")\n",
    "#     plt.title('PLS Correlation Loadings Plot')\n",
    "#     plt.grid(True)\n",
    "#     plt.axhline(0, color='black',linewidth=0.5)\n",
    "#     plt.axvline(0, color='black',linewidth=0.5)\n",
    "#     plt.xlim(-0.50, 0.50)\n",
    "#     plt.ylim(-0.50, 0.50)\n",
    "#     plt.show()\n",
    "\n",
    "# Assuming you don't have specific names, using default Var1, Var2, ...\n",
    "# plot_correlation_loadings(loadings)\n",
    "\n",
    "\n",
    "\n",
    "\n",
    "\n"
   ]
  },
  {
   "cell_type": "code",
   "execution_count": null,
   "id": "e51a3a63-8a4f-4753-8688-79a9500aff76",
   "metadata": {
    "tags": []
   },
   "outputs": [],
   "source": [
    "plt.scatter(y_test,Y_pred)"
   ]
  },
  {
   "cell_type": "code",
   "execution_count": null,
   "id": "d91311c2-fc58-46df-8a3a-7c52af3b404b",
   "metadata": {
    "tags": []
   },
   "outputs": [],
   "source": [
    "from sklearn.decomposition import PCA\n",
    "\n",
    "\n",
    "# Scaling numerical values\n",
    "df_pca = df[pred_features]  \n",
    "df_pca['health_ratio'] = df['party_total_hpratio']  \n",
    "\n",
    "# Identify numerical columns\n",
    "numerical_cols = df_pca.select_dtypes(include=['int64', 'float64']).columns.tolist()\n",
    "\n",
    "# Define the list of categorical columns (one-hot encoded class columns) and the column to be predicted\n",
    "excluded_cols = ['Druid', 'Cleric', 'Wizard', 'Rogue', 'Warlock', 'Sorcerer',\n",
    "                    'Blood Hunter', 'Monk', 'Bard', 'Barbarian', 'Fighter',\n",
    "                    'Paladin', 'Ranger','health_ratio']\n",
    "\n",
    "# Exclude needed columns from the list of numerical columns\n",
    "numerical_cols = [col for col in numerical_cols if col not in excluded_cols]\n",
    "assert all(col in df_pca.columns for col in numerical_cols), \"Some columns are missing in the DataFrame.\"\n",
    "\n",
    "scaler = StandardScaler()\n",
    "df_pca_num = df_pca[numerical_cols]\n",
    "# Apply fit_transform to each column\n",
    "scaled_data = df_pca_num.apply(lambda x: scaler.fit_transform(x.values.reshape(-1, 1)).flatten())\n",
    "\n",
    "# Create a new DataFrame with scaled data\n",
    "scaled_df = pd.DataFrame(scaled_data, columns=df_pca_num.columns)\n",
    "scaled_df.shape\n",
    "df_pca = pd.concat([scaled_df, df_pca[excluded_cols]], axis=1)\n",
    "\n",
    "X_PCA = df_pca[pred_features].copy()\n",
    "Y = df_pca['health_ratio']\n",
    "\n",
    "pca = PCA(n_components=2)  # Adjust n_components as needed\n",
    "X_pca = pca.fit_transform(X_PCA)\n",
    "\n",
    "X_train, X_test, y_train, y_test = train_test_split(X_pca, Y, test_size=0.2, random_state=42)\n",
    "\n",
    "model = LinearRegression()\n",
    "model.fit(X_train, y_train)\n",
    "y_pred = model.predict(X_test)\n",
    "\n",
    "mse = mean_squared_error(y_test, y_pred)\n",
    "\n",
    "pca.explained_variance_ratio_, mse"
   ]
  },
  {
   "cell_type": "code",
   "execution_count": null,
   "id": "691690fd-09d0-4373-816d-3d15ff1f337c",
   "metadata": {
    "tags": []
   },
   "outputs": [],
   "source": [
    "plt.scatter(y_test,y_pred)"
   ]
  }
 ],
 "metadata": {
  "kernelspec": {
   "display_name": "Python 3 (ipykernel)",
   "language": "python",
   "name": "python3"
  },
  "language_info": {
   "codemirror_mode": {
    "name": "ipython",
    "version": 3
   },
   "file_extension": ".py",
   "mimetype": "text/x-python",
   "name": "python",
   "nbconvert_exporter": "python",
   "pygments_lexer": "ipython3",
   "version": "3.11.5"
  }
 },
 "nbformat": 4,
 "nbformat_minor": 5
}
