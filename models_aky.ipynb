{
 "cells": [
  {
   "cell_type": "code",
   "execution_count": null,
   "id": "ef10cd86-e9fe-4476-b618-932de609718b",
   "metadata": {},
   "outputs": [],
   "source": []
  },
  {
   "cell_type": "code",
   "execution_count": null,
   "id": "fa2b029f-399f-4266-a0ce-6e75b20fdf8b",
   "metadata": {
    "tags": []
   },
   "outputs": [],
   "source": [
    "df = x.copy()\n",
    "df.dtypes"
   ]
  },
  {
   "cell_type": "code",
   "execution_count": null,
   "id": "2b2f5d29-f352-423f-a677-f4cae2420627",
   "metadata": {
    "tags": []
   },
   "outputs": [],
   "source": [
    "df.columns"
   ]
  },
  {
   "cell_type": "code",
   "execution_count": null,
   "id": "1d430df0-9b8f-4c77-b879-618e2225574d",
   "metadata": {
    "tags": []
   },
   "outputs": [],
   "source": [
    "features_to_include = ['party_size','monster_number','monster_total_level','party_total_ac',\n",
    "                      'party_total_prof_bonus',\n",
    "                      'party_total_strength', 'party_total_dexterity',\n",
    "                       'party_total_constitution',\n",
    "                      'party_total_intelligence',\n",
    "                      'party_total_wisdom',\n",
    "                       'party_total_charisma', 'player_monster_ratio','monster_player_ratio', 'Druid','Cleric','Wizard','Rogue','Warlock','Sorcerer',\n",
    "                       'Blood Hunter','Monk','Bard','Barbarian','Fighter','Paladin','Ranger',\n",
    "                      'weighted_monster_level']"
   ]
  },
  {
   "cell_type": "markdown",
   "id": "93aaf090-83ca-4d38-9825-acb0721fe37e",
   "metadata": {
    "tags": []
   },
   "source": [
    "## Baseline Model"
   ]
  },
  {
   "cell_type": "code",
   "execution_count": null,
   "id": "4bf158e8-31ae-43ca-9226-e462263a9354",
   "metadata": {
    "tags": []
   },
   "outputs": [],
   "source": [
    "from sklearn.model_selection import train_test_split\n",
    "from sklearn.linear_model import LinearRegression\n",
    "from sklearn.metrics import mean_squared_error\n",
    "import numpy as np\n",
    "\n",
    "# Assuming df is your DataFrame\n",
    "\n",
    "# Prepare your data\n",
    "X = df[['monster_total_level']]  # Predictor\n",
    "y = df['party_total_hpratio']  # Target variable\n",
    "\n",
    "# Split the data\n",
    "X_train, X_test, y_train, y_test = train_test_split(X, y, test_size=0.2, random_state=42)\n",
    "\n",
    "# Always predicting the mean\n",
    "mean_train = np.mean(y_train)\n",
    "\n",
    "# Create an array filled with the mean value that matches the length of the test set\n",
    "mean_predictions = np.full(shape=y_test.shape, fill_value=mean_train)\n",
    "\n",
    "# Evaluating the model\n",
    "mse = mean_squared_error(y_test, mean_predictions)\n",
    "rmse = np.sqrt(mse)\n",
    "\n",
    "print(\"Baseline Model RMSE:\", rmse)\n"
   ]
  },
  {
   "cell_type": "code",
   "execution_count": null,
   "id": "35f3260c-fa7a-4721-82d4-9e129e55d690",
   "metadata": {
    "tags": []
   },
   "outputs": [],
   "source": [
    "from sklearn.model_selection import train_test_split\n",
    "from sklearn.linear_model import LinearRegression\n",
    "from sklearn.metrics import mean_squared_error\n",
    "import numpy as np\n",
    "\n",
    "# Assuming df is your DataFrame\n",
    "\n",
    "# Prepare your data\n",
    "X = df['monster_total_level'].values.reshape(-1,1) # Predictor\n",
    "y = df['party_total_hpratio']  # Target variable\n",
    "\n",
    "# Split the data\n",
    "X_train, X_test, y_train, y_test = train_test_split(X, y, test_size=0.2, random_state=455)\n",
    "\n",
    "# Train a Linear Regression Model\n",
    "model = LinearRegression()\n",
    "model.fit(X_train, y_train)\n",
    "\n",
    "# Predicting on the test set\n",
    "y_pred = model.predict(X_test)\n",
    "\n",
    "# Evaluating the model\n",
    "mse = mean_squared_error(y_test, y_pred)\n",
    "rmse = np.sqrt(mse)\n",
    "\n",
    "print(\"Baseline Model RMSE:\", rmse)\n"
   ]
  },
  {
   "cell_type": "code",
   "execution_count": null,
   "id": "207a316a-2872-451d-98d6-f627920fef05",
   "metadata": {
    "tags": []
   },
   "outputs": [],
   "source": [
    "from sklearn.model_selection import train_test_split\n",
    "from sklearn.linear_model import LinearRegression\n",
    "from sklearn.metrics import mean_squared_error\n",
    "import numpy as np\n",
    "\n",
    "\n",
    "# Prepare your data\n",
    "X = df['weighted_monster_level'].values.reshape(-1,1)  # Predictor\n",
    "\n",
    "y = df['party_total_hpratio']  # Target variable\n",
    "\n",
    "# Split the data\n",
    "X_train, X_test, y_train, y_test = train_test_split(X, y, test_size=0.2, random_state=42)\n",
    "\n",
    "# Train a Linear Regression Model\n",
    "model = LinearRegression()\n",
    "model.fit(X_train, y_train)\n",
    "\n",
    "# Predicting on the test set\n",
    "y_pred = model.predict(X_test)\n",
    "\n",
    "# Evaluating the model\n",
    "mse = mean_squared_error(y_test, y_pred)\n",
    "rmse = np.sqrt(mse)\n",
    "\n",
    "print(\"Baseline Model RMSE:\", rmse)\n"
   ]
  },
  {
   "cell_type": "markdown",
   "id": "a4928965-c64d-4b9c-b963-21c33226ca5b",
   "metadata": {
    "tags": []
   },
   "source": [
    "## Random Forest Regressor"
   ]
  },
  {
   "cell_type": "code",
   "execution_count": null,
   "id": "9fa9a99a-2c48-49f2-9e3b-5c9a90b30e8a",
   "metadata": {
    "tags": []
   },
   "outputs": [],
   "source": [
    "from sklearn.model_selection import train_test_split\n",
    "from sklearn.preprocessing import StandardScaler\n",
    "from sklearn.ensemble import RandomForestRegressor\n",
    "from sklearn.decomposition import PCA\n",
    "from sklearn.pipeline import Pipeline\n",
    "from sklearn.metrics import mean_squared_error\n",
    "from sklearn.impute import SimpleImputer\n",
    "from sklearn.compose import ColumnTransformer\n",
    "from sklearn.preprocessing import OneHotEncoder\n",
    "\n",
    "\n",
    "# Defining the target variable\n",
    "target = 'party_total_hpratio'\n",
    "\n",
    "# Preparing the features and target variable\n",
    "X_rf = df[features_to_include].copy()\n",
    "y = df[target].copy()\n",
    "\n",
    "# Splitting the data into training and test sets\n",
    "X_train, X_test, y_train, y_test = train_test_split(X_rf, y, test_size=0.2, random_state=42)\n",
    "\n",
    "\n",
    "\n",
    "# Creating the RandomForestRegressor\n",
    "regressor = RandomForestRegressor(n_estimators=100, random_state=42)\n",
    "\n",
    "# Training the model\n",
    "regressor.fit(X_train, y_train)\n",
    "\n",
    "# Predicting on the test set\n",
    "y_pred = regressor.predict(X_test)\n",
    "\n",
    "# Evaluating the model\n",
    "mse = mean_squared_error(y_test, y_pred)\n",
    "rmse = mse ** 0.5\n",
    "rmse\n",
    "plt.scatter(y_test,y_pred)"
   ]
  },
  {
   "cell_type": "markdown",
   "id": "2e7fea1b-2536-4901-8765-89e68bdbd2e0",
   "metadata": {
    "tags": []
   },
   "source": [
    "## PLA"
   ]
  },
  {
   "cell_type": "code",
   "execution_count": null,
   "id": "047fbd75-460b-49dd-a785-c88f72f34aca",
   "metadata": {
    "tags": []
   },
   "outputs": [],
   "source": [
    "import numpy as np\n",
    "from sklearn.cross_decomposition import PLSRegression\n",
    "from sklearn.model_selection import cross_val_predict\n",
    "from sklearn.metrics import mean_squared_error, r2_score\n",
    "import matplotlib.pyplot as plt\n",
    "\n",
    "from sklearn.model_selection import train_test_split, KFold, cross_val_score\n",
    "from sklearn.metrics import r2_score, mean_squared_error\n",
    "\n",
    "X_PLA = df[features_to_include].copy()\n",
    "Y = df[target]\n",
    "\n",
    "# Splitting the dataset\n",
    "X_train, X_test, y_train, y_test = train_test_split(X_PLA, Y, random_state=35)\n",
    "\n",
    "# Initial PLS model fitting with a predefined number of components\n",
    "pls = PLSRegression(n_components=4)\n",
    "pls.fit(X_train, y_train)\n",
    "Y_pred = pls.predict(X_test)\n",
    "\n",
    "# Using KFold for cross-validation to find the optimal number of components\n",
    "kf = KFold(n_splits=5, shuffle=True, random_state=42)\n",
    "max_components = 20\n",
    "scores = []\n",
    "for i in range(1, max_components + 1):\n",
    "    pls = PLSRegression(n_components=i)\n",
    "    # Make sure to use X_train and y_train for cross-validation\n",
    "    score = -cross_val_score(pls, X_train, y_train, cv=kf, scoring='neg_mean_squared_error').mean()\n",
    "    scores.append(score)\n",
    "    \n",
    "optimal_components = np.argmin(scores) + 1\n",
    "\n",
    "# Evaluation metrics for the initial model (consider re-evaluating after selecting the optimal number of components)\n",
    "print(f\"R-squared: {r2_score(y_test, Y_pred)}\")\n",
    "print(f\"Mean Squared Error: {mean_squared_error(y_test, Y_pred)}\")\n",
    "print(f\"Optimal number of components based on CV: {optimal_components}\")\n",
    "\n"
   ]
  },
  {
   "cell_type": "code",
   "execution_count": null,
   "id": "e51a3a63-8a4f-4753-8688-79a9500aff76",
   "metadata": {
    "tags": []
   },
   "outputs": [],
   "source": [
    "plt.scatter(y_test,Y_pred)"
   ]
  }
 ],
 "metadata": {
  "kernelspec": {
   "display_name": "Python 3 (ipykernel)",
   "language": "python",
   "name": "python3"
  },
  "language_info": {
   "codemirror_mode": {
    "name": "ipython",
    "version": 3
   },
   "file_extension": ".py",
   "mimetype": "text/x-python",
   "name": "python",
   "nbconvert_exporter": "python",
   "pygments_lexer": "ipython3",
   "version": "3.11.5"
  }
 },
 "nbformat": 4,
 "nbformat_minor": 5
}
