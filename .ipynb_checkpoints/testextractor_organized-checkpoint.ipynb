{
 "cells": [
  {
   "cell_type": "code",
   "execution_count": 1,
   "metadata": {
    "tags": []
   },
   "outputs": [],
   "source": [
    "import pandas as pd\n",
    "import numpy as np\n",
    "import gzip\n",
    "import json\n",
    "import os\n",
    "import yaml\n",
    "from tqdm import tqdm\n",
    "import re"
   ]
  },
  {
   "cell_type": "code",
   "execution_count": 10,
   "metadata": {
    "tags": []
   },
   "outputs": [
    {
     "name": "stdout",
     "output_type": "stream",
     "text": [
      "C:\\Erdos\\Project\\DnDFireballProject\\anonymized\\data\n"
     ]
    }
   ],
   "source": [
    "# Code to take a peak at the data structure\n",
    "\n",
    "# Trying to standardize paths across machines\n",
    "current_dir = os.path.dirname(os.path.abspath(\"textextractor_organized.ipynl\"))\n",
    "file_path = os.path.join(current_dir,\"anonymized\", \"data\")\n",
    "\n",
    "\n",
    "# logs = []\n",
    "# with gzip.open(file_path, 'rt', encoding='utf-8') as file:\n",
    "#         for line in file:\n",
    "#             event = json.loads(line)\n",
    "#             if event.get(\"event_type\") == \"combat_state_update\":\n",
    "#                 combat = event.get(\"data\")\n",
    "#                 for actor in combat.get(\"combatants\", []):\n",
    "#                     if actor[\"type\"] == \"monster\":\n",
    "#                         logs.append(actor)\n",
    "                        \n",
    "# # logs[1]"
   ]
  },
  {
   "cell_type": "code",
   "execution_count": null,
   "metadata": {
    "tags": []
   },
   "outputs": [],
   "source": [
    "# Main function that parses each combat session\n",
    "\n",
    "from collections import defaultdict\n",
    "combat_data = defaultdict(lambda: {\n",
    "     'start_time': None, \n",
    "     'player_ids': set(),\n",
    "     'player_info': {} \n",
    "})\n",
    "def process_file(file_path):\n",
    "    monsters_found = False\n",
    "    players_found = False\n",
    "    with gzip.open(file_path, 'rt', encoding='utf-8') as file:\n",
    "        for line in file:\n",
    "            event = json.loads(line)\n",
    "            if event.get(\"event_type\") == \"combat_state_update\":\n",
    "                combat = event.get(\"data\")\n",
    "                for actor in combat.get(\"combatants\", []):\n",
    "                    if actor[\"type\"] == \"monster\":\n",
    "                        monsters_found = True\n",
    "                    elif actor[\"type\"] == \"player\":\n",
    "                        players_found = True\n",
    "                    if monsters_found and players_found:\n",
    "                        break  # Break from the inner loop if both found\n",
    "                if monsters_found and players_found:\n",
    "                    break  # Break from the outer loop if both found\n",
    "\n",
    "    # If no monsters or players were found, return immediately\n",
    "    if not monsters_found or not players_found:\n",
    "        return None  # Or an appropriate indicator that the file was skipped\n",
    "    \n",
    "    \n",
    "\n",
    "    last_human_readable = {}\n",
    "\n",
    "    with gzip.open(file_path, 'rt', encoding='utf-8') as file:\n",
    "        for line in file:\n",
    "            event = json.loads(line)\n",
    "            combat_id = event.get(\"combat_id\")\n",
    "\n",
    "            # Checking for combat start and getting timestamp (dont think we actually need timestamp)\n",
    "            if event.get(\"event_type\") == \"combat_start\":\n",
    "                combat_data[combat_id]['start_time'] = event.get(\"timestamp\")\n",
    "\n",
    "            # counting players who joined initiative and counting spell slots\n",
    "            #elif event.get(\"event_type\") == \"command\" and event.get(\"command_name\") == \"init join\":\n",
    "              #  player_id = event.get(\"author_id\")\n",
    "              #  player_name = event.get(\"caster\", {}).get(\"name\", event.get(\"author_name\"))\n",
    "              #  combat_data[combat_id]['player_ids'].add(player_id)\n",
    "              #  combat_data[combat_id]['player_info'][player_name] = {'hp_ratio': None}\n",
    "              #  classes_dict = event['caster']['levels']['classes']\n",
    "              #  combat_data[combat_id]['player_info'][player_name]['class'] = list(classes_dict.items())\n",
    "            elif event.get(\"event_type\") == \"command\" and event.get(\"command_name\") == \"init join\":\n",
    "                player_id = event.get(\"author_id\")\n",
    "                player_name = event.get(\"caster\", {}).get(\"name\", event.get(\"author_name\"))\n",
    "                combat_data[combat_id]['player_ids'].add(player_id)\n",
    "                classes_dict = event['caster']['levels']['classes']\n",
    "                combat_data[combat_id]['player_info'][player_name] = {\n",
    "                    'hp_ratio': None,\n",
    "                    'class': list(classes_dict.items()),\n",
    "                    'slots': event['caster']['spellbook']['slots'],\n",
    "                    'max_slots': event['caster']['spellbook']['max_slots'],\n",
    "                    'ac': event['caster']['ac'],  # Adding AC value\n",
    "                    'stats': event['caster']['stats']  # Adding stats\n",
    "                }\n",
    "\n",
    "                # Initialize slot sums \n",
    "                if 'total_slots' not in combat_data[combat_id]:\n",
    "                    combat_data[combat_id]['total_slots'] = defaultdict(int)\n",
    "                    combat_data[combat_id]['total_max_slots'] = defaultdict(int)\n",
    "\n",
    "                # Summing slots and max_slots\n",
    "                for slot, value in event['caster']['spellbook']['slots'].items():\n",
    "                    combat_data[combat_id]['total_slots'][slot] += value\n",
    "\n",
    "                for slot, value in event['caster']['spellbook']['max_slots'].items():\n",
    "                    combat_data[combat_id]['total_max_slots'][slot] += value\n",
    "\n",
    "            elif event.get(\"event_type\") == \"combat_state_update\":\n",
    "                combat = event.get(\"data\")\n",
    "                for actor in combat.get(\"combatants\", []):\n",
    "                    if actor[\"type\"] == \"monster\":\n",
    "                        # Ensure 'monsters' is initialized as a list if it doesn't already exist\n",
    "                        if 'monsters' not in combat_data[combat_id]:\n",
    "                            combat_data[combat_id]['monsters'] = []\n",
    "\n",
    "                        # Define a helper function to check if the monster is already added\n",
    "                        def monster_exists(monster_list, monster_id):\n",
    "                            return any(monster['monster_id'] == monster_id for monster in monster_list)\n",
    "\n",
    "                        # Check if this monster is already added, to avoid duplication\n",
    "                        if not monster_exists(combat_data[combat_id]['monsters'], actor[\"id\"]):\n",
    "                            # If the monster is not in the list, add it with all its details\n",
    "                            combat_data[combat_id]['monsters'].append({\n",
    "                                'monster_id': actor[\"id\"],\n",
    "                                'monster_code': actor[\"name\"],\n",
    "                                'monster_name': actor['monster_name'],\n",
    "                                'level': actor['levels']['total_level']\n",
    "                            })\n",
    "\n",
    "\n",
    "                #trying to get that human readable part\n",
    "                human_readable = event.get(\"human_readable\")\n",
    "\n",
    "                if human_readable:\n",
    "                    last_human_readable[combat_id] = human_readable\n",
    "  \n",
    "    # Grab player names from combat_data dictionary\n",
    "    player_names = ', '.join(str(key) for key in combat_data[combat_id]['player_info'].keys())\n",
    "    if len(player_names) != 0:\n",
    "        player_names = player_names.split(',')\n",
    "        player_names = [name.lstrip() for name in player_names]\n",
    "\n",
    "    \n",
    "\n",
    "\n",
    "    if last_human_readable[combat_id]:\n",
    "        # print(last_human_readable[combat_id])\n",
    "\n",
    "        # Iterating through player names and finding their health in the human_readable string\n",
    "        if len(player_names) != 0:\n",
    "            for player in player_names:\n",
    "                try: \n",
    "                    pattern = rf\"{player} <(\\d+)/(\\d+) HP>\"\n",
    "\n",
    "                    match = re.search(pattern, last_human_readable[combat_id])\n",
    "\n",
    "                    if match:\n",
    "                        current_hp, max_hp = match.groups()\n",
    "\n",
    "                        if player in combat_data[combat_id]['player_info'] and current_hp and max_hp:\n",
    "                            combat_data[combat_id]['player_info'][player]['hp_ratio'] = [int(current_hp), int(max_hp)]\n",
    "                        else:\n",
    "                            continue\n",
    "                except re.error:\n",
    "                    print(f\"Skipping due to an error with pattern: {pattern}\")\n",
    "                    continue\n",
    "\n",
    "\n",
    "#     # Processing the last human_readable to extract HP ratios (this is not working ....)\n",
    "#     for cid, human_readable in last_human_readable.items():\n",
    "#         pattern = r'\\d+: ([\\w\\s.-]+) <(\\d+/\\d+ HP)>'\n",
    "#         matches = re.findall(pattern, human_readable)\n",
    "\n",
    "#         for name, hp_ratio in matches:\n",
    "#             if name in combat_data[cid]['player_info']:\n",
    "#                 combat_data[cid]['player_info'][name]['hp_ratio'] = hp_ratio\n",
    "\n",
    "#     # Printing the last human_readable string for each combat ID\n",
    "#     for cid, human_readable in last_human_readable.items():\n",
    "#         print(f\"Last 'human_readable' for {cid}: {human_readable}\")\n",
    "\n",
    "    # # Creating the DataFrame from collected data\n",
    "    # processed_data = []\n",
    "    # for cid, data in combat_data.items():\n",
    "    #     processed_data.append({\n",
    "    #         \"combat_id\": cid,\n",
    "    #         \"start_time\": data['start_time'],\n",
    "    #         \"num_player_actors\": len(data['player_ids']),\n",
    "    #         \"player_info\": data['player_info'],\n",
    "    #         \"num_monster_actors\": len(data['monster_ids']),\n",
    "    #         \"monster_ids\": list(data['monster_ids']),\n",
    "    #         \"monster_names\": list(data['monster_names']),\n",
    "    #     })\n",
    "\n",
    "    # return pd.DataFrame(processed_data)\n",
    "    return combat_data\n",
    "    \n",
    "# Define a file path\n",
    "file_path = 'C:\\\\Erdos\\\\Project\\\\data\\\\1658856717-0ee5416d-77c0-48c2-acdb-895f644be1c2.jsonl.gz'\n",
    "\n",
    "# Process the file and create DataFrame\n",
    "combat_data = process_file(file_path)\n",
    "\n",
    "# # Export to CSV\n",
    "# csv_file_path = 'C:/Users/josep/OneDrive/Desktop/Erdos/anonymized/data/combat_analysis_with_hp.csv'\n",
    "# df.to_csv(csv_file_path, index=False)\n",
    "\n",
    "# print(f\"Data exported to CSV file at: {csv_file_path}\")\n",
    "\n",
    "combat_data"
   ]
  },
  {
   "cell_type": "code",
   "execution_count": 12,
   "metadata": {
    "tags": []
   },
   "outputs": [
    {
     "name": "stderr",
     "output_type": "stream",
     "text": [
      "Processing files:  52%|█████▏    | 12778/24748 [07:11<07:32, 26.45it/s] "
     ]
    },
    {
     "name": "stdout",
     "output_type": "stream",
     "text": [
      "Skipping due to an error with pattern: Zeppelin Waverunner (TD <(\\d+)/(\\d+) HP>\n",
      "Skipping due to an error with pattern: SRS) <(\\d+)/(\\d+) HP>\n"
     ]
    },
    {
     "name": "stderr",
     "output_type": "stream",
     "text": [
      "Processing files:  72%|███████▏  | 17936/24748 [10:04<03:31, 32.22it/s]"
     ]
    },
    {
     "name": "stdout",
     "output_type": "stream",
     "text": [
      "Skipping due to an error with pattern: Laz (Ripper lasso <(\\d+)/(\\d+) HP>\n"
     ]
    },
    {
     "name": "stderr",
     "output_type": "stream",
     "text": [
      "Processing files:  73%|███████▎  | 17945/24748 [10:04<04:30, 25.19it/s]"
     ]
    },
    {
     "name": "stdout",
     "output_type": "stream",
     "text": [
      "Skipping due to an error with pattern: Laz (Ripper lasso <(\\d+)/(\\d+) HP>\n"
     ]
    },
    {
     "name": "stderr",
     "output_type": "stream",
     "text": [
      "Processing files:  73%|███████▎  | 18079/24748 [10:08<02:55, 38.02it/s]"
     ]
    },
    {
     "name": "stdout",
     "output_type": "stream",
     "text": [
      "Skipping due to an error with pattern: Laz (Ripper lasso <(\\d+)/(\\d+) HP>\n"
     ]
    },
    {
     "name": "stderr",
     "output_type": "stream",
     "text": [
      "Processing files:  73%|███████▎  | 18104/24748 [10:09<03:48, 29.10it/s]"
     ]
    },
    {
     "name": "stdout",
     "output_type": "stream",
     "text": [
      "Skipping due to an error with pattern: Laz (Ripper lasso <(\\d+)/(\\d+) HP>\n"
     ]
    },
    {
     "name": "stderr",
     "output_type": "stream",
     "text": [
      "Processing files:  76%|███████▋  | 18871/24748 [10:41<03:39, 26.74it/s]"
     ]
    },
    {
     "name": "stdout",
     "output_type": "stream",
     "text": [
      "Skipping due to an error with pattern: Laz (Ripper lasso <(\\d+)/(\\d+) HP>\n"
     ]
    },
    {
     "name": "stderr",
     "output_type": "stream",
     "text": [
      "Processing files:  77%|███████▋  | 19072/24748 [10:48<04:26, 21.26it/s]"
     ]
    },
    {
     "name": "stdout",
     "output_type": "stream",
     "text": [
      "Skipping due to an error with pattern: Laz (Ripper lasso <(\\d+)/(\\d+) HP>\n"
     ]
    },
    {
     "name": "stderr",
     "output_type": "stream",
     "text": [
      "Processing files:  79%|███████▉  | 19535/24748 [11:04<03:20, 26.04it/s]"
     ]
    },
    {
     "name": "stdout",
     "output_type": "stream",
     "text": [
      "Skipping due to an error with pattern: Laz (Ripper lasso <(\\d+)/(\\d+) HP>\n"
     ]
    },
    {
     "name": "stderr",
     "output_type": "stream",
     "text": [
      "Processing files:  79%|███████▉  | 19627/24748 [11:07<03:04, 27.79it/s]"
     ]
    },
    {
     "name": "stdout",
     "output_type": "stream",
     "text": [
      "Skipping due to an error with pattern: Rosemary Gwindlelin (dnd realm <(\\d+)/(\\d+) HP>\n",
      "Skipping due to an error with pattern: ) <(\\d+)/(\\d+) HP>\n"
     ]
    },
    {
     "name": "stderr",
     "output_type": "stream",
     "text": [
      "Processing files:  80%|████████  | 19828/24748 [11:14<01:55, 42.72it/s]"
     ]
    },
    {
     "name": "stdout",
     "output_type": "stream",
     "text": [
      "Skipping due to an error with pattern: Rosemary Gwindlelin (dnd realm <(\\d+)/(\\d+) HP>\n",
      "Skipping due to an error with pattern: ) <(\\d+)/(\\d+) HP>\n"
     ]
    },
    {
     "name": "stderr",
     "output_type": "stream",
     "text": [
      "Processing files:  81%|████████  | 20082/24748 [11:24<03:15, 23.92it/s]"
     ]
    },
    {
     "name": "stdout",
     "output_type": "stream",
     "text": [
      "Skipping due to an error with pattern: Rosemary Gwindlelin (dnd realm <(\\d+)/(\\d+) HP>\n",
      "Skipping due to an error with pattern: ) <(\\d+)/(\\d+) HP>\n",
      "Skipping due to an error with pattern: ??? <(\\d+)/(\\d+) HP>\n"
     ]
    },
    {
     "name": "stderr",
     "output_type": "stream",
     "text": [
      "Processing files:  81%|████████▏ | 20166/24748 [11:28<03:18, 23.04it/s]"
     ]
    },
    {
     "name": "stdout",
     "output_type": "stream",
     "text": [
      "Skipping due to an error with pattern: Rosemary Gwindlelin (dnd realm <(\\d+)/(\\d+) HP>\n",
      "Skipping due to an error with pattern: ) <(\\d+)/(\\d+) HP>\n"
     ]
    },
    {
     "name": "stderr",
     "output_type": "stream",
     "text": [
      "Processing files:  83%|████████▎ | 20556/24748 [11:46<02:32, 27.58it/s]"
     ]
    },
    {
     "name": "stdout",
     "output_type": "stream",
     "text": [
      "Skipping due to an error with pattern: Rosemary Gwindlelin (dnd realm <(\\d+)/(\\d+) HP>\n",
      "Skipping due to an error with pattern: ) <(\\d+)/(\\d+) HP>\n"
     ]
    },
    {
     "name": "stderr",
     "output_type": "stream",
     "text": [
      "Processing files:  84%|████████▍ | 20793/24748 [11:55<02:20, 28.18it/s]"
     ]
    },
    {
     "name": "stdout",
     "output_type": "stream",
     "text": [
      "Skipping due to an error with pattern: ??? <(\\d+)/(\\d+) HP>\n"
     ]
    },
    {
     "name": "stderr",
     "output_type": "stream",
     "text": [
      "Processing files:  85%|████████▍ | 20931/24748 [12:00<01:13, 52.00it/s]"
     ]
    },
    {
     "name": "stdout",
     "output_type": "stream",
     "text": [
      "Skipping due to an error with pattern: Rosemary Gwindlelin (dnd realm <(\\d+)/(\\d+) HP>\n",
      "Skipping due to an error with pattern: ) <(\\d+)/(\\d+) HP>\n"
     ]
    },
    {
     "name": "stderr",
     "output_type": "stream",
     "text": [
      "Processing files:  85%|████████▍ | 21028/24748 [12:04<02:15, 27.50it/s]"
     ]
    },
    {
     "name": "stdout",
     "output_type": "stream",
     "text": [
      "Skipping due to an error with pattern: Rosemary Gwindlelin (dnd realm <(\\d+)/(\\d+) HP>\n",
      "Skipping due to an error with pattern: ) <(\\d+)/(\\d+) HP>\n"
     ]
    },
    {
     "name": "stderr",
     "output_type": "stream",
     "text": [
      "Processing files:  86%|████████▌ | 21193/24748 [12:10<01:25, 41.46it/s]"
     ]
    },
    {
     "name": "stdout",
     "output_type": "stream",
     "text": [
      "Skipping due to an error with pattern: Rosemary Gwindlelin (dnd realm <(\\d+)/(\\d+) HP>\n",
      "Skipping due to an error with pattern: ) <(\\d+)/(\\d+) HP>\n"
     ]
    },
    {
     "name": "stderr",
     "output_type": "stream",
     "text": [
      "Processing files:  86%|████████▌ | 21332/24748 [12:16<01:38, 34.69it/s]"
     ]
    },
    {
     "name": "stdout",
     "output_type": "stream",
     "text": [
      "Skipping due to an error with pattern: Rosemary Gwindlelin (dnd realm <(\\d+)/(\\d+) HP>\n",
      "Skipping due to an error with pattern: ) <(\\d+)/(\\d+) HP>\n"
     ]
    },
    {
     "name": "stderr",
     "output_type": "stream",
     "text": [
      "Processing files:  87%|████████▋ | 21607/24748 [12:29<02:10, 24.13it/s]"
     ]
    },
    {
     "name": "stdout",
     "output_type": "stream",
     "text": [
      "Skipping due to an error with pattern: Rosemary Gwindlelin (dnd realm <(\\d+)/(\\d+) HP>\n",
      "Skipping due to an error with pattern: ) <(\\d+)/(\\d+) HP>\n"
     ]
    },
    {
     "name": "stderr",
     "output_type": "stream",
     "text": [
      "Processing files:  88%|████████▊ | 21713/24748 [12:34<01:49, 27.59it/s]"
     ]
    },
    {
     "name": "stdout",
     "output_type": "stream",
     "text": [
      "Skipping due to an error with pattern: ???? <(\\d+)/(\\d+) HP>\n"
     ]
    },
    {
     "name": "stderr",
     "output_type": "stream",
     "text": [
      "Processing files:  89%|████████▉ | 22115/24748 [12:48<01:22, 31.77it/s]"
     ]
    },
    {
     "name": "stdout",
     "output_type": "stream",
     "text": [
      "Skipping due to an error with pattern: Rosemary Gwindlelin (dnd realm <(\\d+)/(\\d+) HP>\n",
      "Skipping due to an error with pattern: ) <(\\d+)/(\\d+) HP>\n"
     ]
    },
    {
     "name": "stderr",
     "output_type": "stream",
     "text": [
      "Processing files:  91%|█████████▏| 22593/24748 [13:08<01:14, 29.04it/s]"
     ]
    },
    {
     "name": "stdout",
     "output_type": "stream",
     "text": [
      "Skipping due to an error with pattern: Rosemary Gwindlelin (dnd realm <(\\d+)/(\\d+) HP>\n",
      "Skipping due to an error with pattern: ) <(\\d+)/(\\d+) HP>\n"
     ]
    },
    {
     "name": "stderr",
     "output_type": "stream",
     "text": [
      "Processing files:  91%|█████████▏| 22609/24748 [13:08<01:05, 32.49it/s]"
     ]
    },
    {
     "name": "stdout",
     "output_type": "stream",
     "text": [
      "Skipping due to an error with pattern: Rosemary Gwindlelin (dnd realm <(\\d+)/(\\d+) HP>\n",
      "Skipping due to an error with pattern: ) <(\\d+)/(\\d+) HP>\n"
     ]
    },
    {
     "name": "stderr",
     "output_type": "stream",
     "text": [
      "Processing files:  92%|█████████▏| 22839/24748 [13:18<01:28, 21.63it/s]"
     ]
    },
    {
     "name": "stdout",
     "output_type": "stream",
     "text": [
      "Skipping due to an error with pattern: Rosemary Gwindlelin (dnd realm <(\\d+)/(\\d+) HP>\n",
      "Skipping due to an error with pattern: ) <(\\d+)/(\\d+) HP>\n"
     ]
    },
    {
     "name": "stderr",
     "output_type": "stream",
     "text": [
      "Processing files: 100%|██████████| 24748/24748 [14:51<00:00, 27.77it/s]\n"
     ]
    }
   ],
   "source": [
    "# Function that takes the above function and iterates it over a directory of files\n",
    "\n",
    "directory_path = 'C:\\\\Erdos\\\\Project\\\\data'\n",
    "files = [os.path.join(directory_path, f) for f in os.listdir(directory_path) if f.endswith('.jsonl.gz')]\n",
    "#files = files[:50]\n",
    "def process_combat_files(file_paths):\n",
    "    combat_datas = {}  # This will store the combined data from all files\n",
    "\n",
    "    for file_path in tqdm(file_paths, desc=\"Processing files\"):\n",
    "        # Process each file to get its combat data\n",
    "        combat_data_latest = process_file(file_path)\n",
    "        \n",
    "        # If combat_data_latest is None (file was skipped), continue to the next file\n",
    "        if combat_data_latest is None:\n",
    "            continue\n",
    "\n",
    "        # Merge the data into combat_datas\n",
    "        # Assuming combat_data_latest contains data keyed by combat_id\n",
    "        for combat_id, data in combat_data_latest.items():\n",
    "            if combat_id in combat_datas:\n",
    "                # If combat_id already exists, merge or update data as needed\n",
    "                # This part depends on how you want to handle duplicate combat_ids\n",
    "                # For simplicity, let's just update the existing data with the new one\n",
    "                combat_datas[combat_id].update(data)\n",
    "            else:\n",
    "                # Add the new combat_id and its data to combat_datas\n",
    "                combat_datas[combat_id] = data\n",
    "\n",
    "    return combat_datas\n",
    "\n",
    "\n",
    "final_combat_data = process_combat_files(files)\n"
   ]
  },
  {
   "cell_type": "code",
   "execution_count": null,
   "metadata": {
    "tags": []
   },
   "outputs": [],
   "source": [
    "final_combat_data[list(final_combat_data.keys())[np.random.randint(0,len(final_combat_data))]] # Randomly selecting an item from the list to see if the function is working properly"
   ]
  },
  {
   "cell_type": "code",
   "execution_count": 14,
   "metadata": {
    "tags": []
   },
   "outputs": [
    {
     "data": {
      "text/plain": [
       "19069"
      ]
     },
     "execution_count": 14,
     "metadata": {},
     "output_type": "execute_result"
    }
   ],
   "source": [
    "len(final_combat_data)"
   ]
  },
  {
   "cell_type": "code",
   "execution_count": null,
   "metadata": {
    "tags": []
   },
   "outputs": [],
   "source": [
    "from tqdm import tqdm\n",
    "import numpy as np\n",
    "\n",
    "def calculate_averages_for_encounters(encounters_dict):\n",
    "    monster_levels = []  # List to accumulate monster levels\n",
    "    player_healths = []  # List to accumulate player health percentages\n",
    "\n",
    "    for encounter_name in tqdm(encounters_dict.keys(), desc=\"Calculating averages\"):\n",
    "        encounter_data = encounters_dict[encounter_name]\n",
    "\n",
    "        # Accumulate monster levels\n",
    "        total_level = sum(monster['level'] for monster in encounter_data['monsters'])\n",
    "        monster_levels.append(total_level) if encounter_data['monsters'] else 0\n",
    "\n",
    "        # Handle missing or None hp_ratio\n",
    "        player_infos = encounter_data['player_info'].values()\n",
    "        total_health_ratio = sum(player['hp_ratio'][0] for player in player_infos if player.get('hp_ratio'))\n",
    "        total_max_health = sum(player['hp_ratio'][1] for player in player_infos if player.get('hp_ratio'))\n",
    "        \n",
    "        # Calculate and accumulate average health left over, handling division by zero\n",
    "        if total_max_health > 0:\n",
    "            player_healths.append(total_health_ratio / total_max_health * 100)\n",
    "        else:\n",
    "            player_healths.append(0)  # Default value or handle as appropriate\n",
    "\n",
    "    # Convert lists to NumPy arrays for final calculation\n",
    "    monster_levels_array = np.array(monster_levels)\n",
    "    player_healths_array = np.array(player_healths)\n",
    "\n",
    "    # Calculate overall averages\n",
    "    monster_average = np.mean(monster_levels_array)\n",
    "    player_average = np.mean(player_healths_array)\n",
    "\n",
    "    return monster_levels, player_healths, monster_average, player_average\n",
    "\n",
    "\n",
    "mls,phs, monster_average, player_average = calculate_averages_for_encounters(final_combat_data)"
   ]
  },
  {
   "cell_type": "code",
   "execution_count": null,
   "metadata": {
    "tags": []
   },
   "outputs": [],
   "source": [
    "\n",
    "final_combat_data[list(final_combat_data.keys())[0]]"
   ]
  },
  {
   "cell_type": "code",
   "execution_count": null,
   "metadata": {
    "tags": []
   },
   "outputs": [],
   "source": [
    "monster_average, player_average"
   ]
  },
  {
   "cell_type": "markdown",
   "metadata": {},
   "source": [
    "## Dataframe Organization & .CSV Output"
   ]
  },
  {
   "cell_type": "code",
   "execution_count": 15,
   "metadata": {
    "tags": []
   },
   "outputs": [
    {
     "data": {
      "text/html": [
       "<div>\n",
       "<style scoped>\n",
       "    .dataframe tbody tr th:only-of-type {\n",
       "        vertical-align: middle;\n",
       "    }\n",
       "\n",
       "    .dataframe tbody tr th {\n",
       "        vertical-align: top;\n",
       "    }\n",
       "\n",
       "    .dataframe thead th {\n",
       "        text-align: right;\n",
       "    }\n",
       "</style>\n",
       "<table border=\"1\" class=\"dataframe\">\n",
       "  <thead>\n",
       "    <tr style=\"text-align: right;\">\n",
       "      <th></th>\n",
       "      <th>start_time</th>\n",
       "      <th>player_ids</th>\n",
       "      <th>player_info</th>\n",
       "      <th>total_slots</th>\n",
       "      <th>total_max_slots</th>\n",
       "      <th>monsters</th>\n",
       "    </tr>\n",
       "    <tr>\n",
       "      <th>combat_id</th>\n",
       "      <th></th>\n",
       "      <th></th>\n",
       "      <th></th>\n",
       "      <th></th>\n",
       "      <th></th>\n",
       "      <th></th>\n",
       "    </tr>\n",
       "  </thead>\n",
       "  <tbody>\n",
       "    <tr>\n",
       "      <th>1658856717-0ee5416d-77c0-48c2-acdb-895f644be1c2</th>\n",
       "      <td>1658856717.372768</td>\n",
       "      <td>{651343489256905760, 919179080066629870, 13555...</td>\n",
       "      <td>{'Kay': {'hp_ratio': None, 'class': [('Blood H...</td>\n",
       "      <td>{'1': 42, '2': 20, '3': 0, '4': 0, '5': 0, '6'...</td>\n",
       "      <td>{'1': 50, '2': 28, '3': 0, '4': 0, '5': 0, '6'...</td>\n",
       "      <td>[{'monster_id': '539922a1-a879-401f-9655-90b38...</td>\n",
       "    </tr>\n",
       "    <tr>\n",
       "      <th>1653817902-15ec25a2-6757-4ceb-ac41-d44352b97705</th>\n",
       "      <td>1653817902.7366</td>\n",
       "      <td>{209330647903743785}</td>\n",
       "      <td>{'Tægen Morlé': {'hp_ratio': [65, 65], 'class'...</td>\n",
       "      <td>{'1': 4, '2': 3, '3': 2, '4': 0, '5': 0, '6': ...</td>\n",
       "      <td>{'1': 4, '2': 3, '3': 2, '4': 0, '5': 0, '6': ...</td>\n",
       "      <td>[{'monster_id': 'c0cdb522-64c2-42ee-b1a8-6ef22...</td>\n",
       "    </tr>\n",
       "    <tr>\n",
       "      <th>1653869455-12ddde04-29c5-4313-ac49-585f2f3bdf19</th>\n",
       "      <td>1653869455.30104</td>\n",
       "      <td>{259867457597965956}</td>\n",
       "      <td>{'Bompi': {'hp_ratio': [51, 51], 'class': [('A...</td>\n",
       "      <td>{'1': 4, '2': 2, '3': 0, '4': 0, '5': 0, '6': ...</td>\n",
       "      <td>{'1': 4, '2': 2, '3': 0, '4': 0, '5': 0, '6': ...</td>\n",
       "      <td>[{'monster_id': 'f233409e-008e-4f04-a66c-9a9d4...</td>\n",
       "    </tr>\n",
       "    <tr>\n",
       "      <th>1653869871-e7fd0606-de62-4688-a55b-ae4c25a14beb</th>\n",
       "      <td>1653869871.83937</td>\n",
       "      <td>{176588704091156599}</td>\n",
       "      <td>{'Mehrunes': {'hp_ratio': [0, 38], 'class': [(...</td>\n",
       "      <td>{'1': 2, '2': 0, '3': 0, '4': 0, '5': 0, '6': ...</td>\n",
       "      <td>{'1': 2, '2': 0, '3': 0, '4': 0, '5': 0, '6': ...</td>\n",
       "      <td>[{'monster_id': '3bdb4cc1-6ca9-47e8-9610-d68ef...</td>\n",
       "    </tr>\n",
       "    <tr>\n",
       "      <th>1653870265-3912208d-8851-4441-90a7-9473068eb93e</th>\n",
       "      <td>1653870266.000481</td>\n",
       "      <td>{219174602203404794, 743069156064144035}</td>\n",
       "      <td>{'Kaith Deathgaze': {'hp_ratio': [33, 73], 'cl...</td>\n",
       "      <td>{'1': 4, '2': 3, '3': 3, '4': 3, '5': 1, '6': ...</td>\n",
       "      <td>{'1': 7, '2': 3, '3': 3, '4': 3, '5': 1, '6': ...</td>\n",
       "      <td>[{'monster_id': '203bce70-7a28-4c79-a990-fba6f...</td>\n",
       "    </tr>\n",
       "  </tbody>\n",
       "</table>\n",
       "</div>"
      ],
      "text/plain": [
       "                                                        start_time  \\\n",
       "combat_id                                                            \n",
       "1658856717-0ee5416d-77c0-48c2-acdb-895f644be1c2  1658856717.372768   \n",
       "1653817902-15ec25a2-6757-4ceb-ac41-d44352b97705    1653817902.7366   \n",
       "1653869455-12ddde04-29c5-4313-ac49-585f2f3bdf19   1653869455.30104   \n",
       "1653869871-e7fd0606-de62-4688-a55b-ae4c25a14beb   1653869871.83937   \n",
       "1653870265-3912208d-8851-4441-90a7-9473068eb93e  1653870266.000481   \n",
       "\n",
       "                                                                                        player_ids  \\\n",
       "combat_id                                                                                            \n",
       "1658856717-0ee5416d-77c0-48c2-acdb-895f644be1c2  {651343489256905760, 919179080066629870, 13555...   \n",
       "1653817902-15ec25a2-6757-4ceb-ac41-d44352b97705                               {209330647903743785}   \n",
       "1653869455-12ddde04-29c5-4313-ac49-585f2f3bdf19                               {259867457597965956}   \n",
       "1653869871-e7fd0606-de62-4688-a55b-ae4c25a14beb                               {176588704091156599}   \n",
       "1653870265-3912208d-8851-4441-90a7-9473068eb93e           {219174602203404794, 743069156064144035}   \n",
       "\n",
       "                                                                                       player_info  \\\n",
       "combat_id                                                                                            \n",
       "1658856717-0ee5416d-77c0-48c2-acdb-895f644be1c2  {'Kay': {'hp_ratio': None, 'class': [('Blood H...   \n",
       "1653817902-15ec25a2-6757-4ceb-ac41-d44352b97705  {'Tægen Morlé': {'hp_ratio': [65, 65], 'class'...   \n",
       "1653869455-12ddde04-29c5-4313-ac49-585f2f3bdf19  {'Bompi': {'hp_ratio': [51, 51], 'class': [('A...   \n",
       "1653869871-e7fd0606-de62-4688-a55b-ae4c25a14beb  {'Mehrunes': {'hp_ratio': [0, 38], 'class': [(...   \n",
       "1653870265-3912208d-8851-4441-90a7-9473068eb93e  {'Kaith Deathgaze': {'hp_ratio': [33, 73], 'cl...   \n",
       "\n",
       "                                                                                       total_slots  \\\n",
       "combat_id                                                                                            \n",
       "1658856717-0ee5416d-77c0-48c2-acdb-895f644be1c2  {'1': 42, '2': 20, '3': 0, '4': 0, '5': 0, '6'...   \n",
       "1653817902-15ec25a2-6757-4ceb-ac41-d44352b97705  {'1': 4, '2': 3, '3': 2, '4': 0, '5': 0, '6': ...   \n",
       "1653869455-12ddde04-29c5-4313-ac49-585f2f3bdf19  {'1': 4, '2': 2, '3': 0, '4': 0, '5': 0, '6': ...   \n",
       "1653869871-e7fd0606-de62-4688-a55b-ae4c25a14beb  {'1': 2, '2': 0, '3': 0, '4': 0, '5': 0, '6': ...   \n",
       "1653870265-3912208d-8851-4441-90a7-9473068eb93e  {'1': 4, '2': 3, '3': 3, '4': 3, '5': 1, '6': ...   \n",
       "\n",
       "                                                                                   total_max_slots  \\\n",
       "combat_id                                                                                            \n",
       "1658856717-0ee5416d-77c0-48c2-acdb-895f644be1c2  {'1': 50, '2': 28, '3': 0, '4': 0, '5': 0, '6'...   \n",
       "1653817902-15ec25a2-6757-4ceb-ac41-d44352b97705  {'1': 4, '2': 3, '3': 2, '4': 0, '5': 0, '6': ...   \n",
       "1653869455-12ddde04-29c5-4313-ac49-585f2f3bdf19  {'1': 4, '2': 2, '3': 0, '4': 0, '5': 0, '6': ...   \n",
       "1653869871-e7fd0606-de62-4688-a55b-ae4c25a14beb  {'1': 2, '2': 0, '3': 0, '4': 0, '5': 0, '6': ...   \n",
       "1653870265-3912208d-8851-4441-90a7-9473068eb93e  {'1': 7, '2': 3, '3': 3, '4': 3, '5': 1, '6': ...   \n",
       "\n",
       "                                                                                          monsters  \n",
       "combat_id                                                                                           \n",
       "1658856717-0ee5416d-77c0-48c2-acdb-895f644be1c2  [{'monster_id': '539922a1-a879-401f-9655-90b38...  \n",
       "1653817902-15ec25a2-6757-4ceb-ac41-d44352b97705  [{'monster_id': 'c0cdb522-64c2-42ee-b1a8-6ef22...  \n",
       "1653869455-12ddde04-29c5-4313-ac49-585f2f3bdf19  [{'monster_id': 'f233409e-008e-4f04-a66c-9a9d4...  \n",
       "1653869871-e7fd0606-de62-4688-a55b-ae4c25a14beb  [{'monster_id': '3bdb4cc1-6ca9-47e8-9610-d68ef...  \n",
       "1653870265-3912208d-8851-4441-90a7-9473068eb93e  [{'monster_id': '203bce70-7a28-4c79-a990-fba6f...  "
      ]
     },
     "execution_count": 15,
     "metadata": {},
     "output_type": "execute_result"
    }
   ],
   "source": [
    "# create dataframe from final dictionary\n",
    "final_combat_data_df = pd.DataFrame.from_dict(final_combat_data)\n",
    "\n",
    "# transpose dataframe to improve readability\n",
    "final_combat_data_df_T = final_combat_data_df.transpose()\n",
    "\n",
    "# name index column to combat_id\n",
    "final_combat_data_df_T.index.name = 'combat_id'\n",
    "\n",
    "final_combat_data_df_T.head()"
   ]
  },
  {
   "cell_type": "markdown",
   "metadata": {},
   "source": [
    "### Column Parsing\n",
    "#### Party/Player Information"
   ]
  },
  {
   "cell_type": "code",
   "execution_count": 16,
   "metadata": {
    "tags": []
   },
   "outputs": [],
   "source": [
    "# add column for party size (read from number of player_ids)\n",
    "player_number_list = []\n",
    "\n",
    "for index, row in final_combat_data_df_T.iterrows():\n",
    "  num_players_val = len(row['player_ids'])\n",
    "  player_number_list.append(num_players_val)\n",
    "\n",
    "final_combat_data_df_T['party_size']  = player_number_list"
   ]
  },
  {
   "cell_type": "code",
   "execution_count": 17,
   "metadata": {
    "tags": []
   },
   "outputs": [],
   "source": [
    "# parsing player info (read from player_info)\n",
    "# column for class and level\n",
    "party_class_list = []\n",
    "\n",
    "for index, row in final_combat_data_df_T.iterrows():\n",
    "  row_dict = row['player_info']\n",
    "  party_classes_and_levels = [val.get('class') for val in row_dict.values()]\n",
    "  party_class_list.append(party_classes_and_levels)\n",
    "\n",
    "final_combat_data_df_T['party_classes_with_level']  = party_class_list"
   ]
  },
  {
   "cell_type": "code",
   "execution_count": 18,
   "metadata": {
    "tags": []
   },
   "outputs": [],
   "source": [
    "# column for total party level (read from player_info)\n",
    "party_total_level_list = []\n",
    "\n",
    "for index, row in final_combat_data_df_T.iterrows():\n",
    "  row_dict = row['party_classes_with_level']\n",
    "  party_total_level = 0\n",
    "  for x in row_dict:\n",
    "    for y in x:\n",
    "      class_level = y[-1]\n",
    "      party_total_level = party_total_level + class_level\n",
    "  party_total_level_list.append(party_total_level)\n",
    "\n",
    "final_combat_data_df_T['party_total_level']  = party_total_level_list"
   ]
  },
  {
   "cell_type": "code",
   "execution_count": 19,
   "metadata": {
    "tags": []
   },
   "outputs": [],
   "source": [
    "# column for party class composition (read from player_info)\n",
    "party_total_class_composition_list = []\n",
    "\n",
    "for index, row in final_combat_data_df_T.iterrows():\n",
    "  row_dict = row['party_classes_with_level']\n",
    "  party_class_composition_list = []\n",
    "  for x in row_dict:\n",
    "    for y in x:\n",
    "      class_type = y[0]\n",
    "      party_class_composition_list.append(class_type)\n",
    "  party_total_class_composition_list.append(party_class_composition_list)\n",
    "\n",
    "final_combat_data_df_T['party_total_class_composition']  = party_total_class_composition_list"
   ]
  },
  {
   "cell_type": "code",
   "execution_count": 20,
   "metadata": {
    "tags": []
   },
   "outputs": [],
   "source": [
    "# column for HP ratios (by party member) (read from player_info)\n",
    "player_individual_hpratio_list = []\n",
    "\n",
    "for index, row in final_combat_data_df_T.iterrows():\n",
    "  row_dict = row['player_info']\n",
    "  player_hpratio = [val.get('hp_ratio') for val in row_dict.values()]\n",
    "  player_individual_hpratio_list.append(player_hpratio)\n",
    "\n",
    "final_combat_data_df_T['player_individual_hp_ratios']  = player_individual_hpratio_list"
   ]
  },
  {
   "cell_type": "code",
   "execution_count": 21,
   "metadata": {
    "tags": []
   },
   "outputs": [],
   "source": [
    "# column for party pre-combat HP (read from player_info)\n",
    "party_total_precombat_hp_list = []\n",
    "\n",
    "for index, row in final_combat_data_df_T.iterrows():\n",
    "  row_list = row['player_individual_hp_ratios']\n",
    "  hp_precombat_sum = 0\n",
    "  for hp_ratio in row_list:\n",
    "    if hp_ratio == None:\n",
    "      continue\n",
    "    hp_precombat_val = int(hp_ratio[-1])\n",
    "    hp_precombat_sum = hp_precombat_sum + hp_precombat_val\n",
    "  party_total_precombat_hp_list.append(hp_precombat_sum)\n",
    "\n",
    "final_combat_data_df_T['party_total_precombat_hp']  = party_total_precombat_hp_list\n",
    "  "
   ]
  },
  {
   "cell_type": "code",
   "execution_count": 22,
   "metadata": {
    "tags": []
   },
   "outputs": [],
   "source": [
    "# column for party post-combat HP (read from player_info)\n",
    "party_total_postcombat_hp_list = []\n",
    "\n",
    "for index, row in final_combat_data_df_T.iterrows():\n",
    "  row_list = row['player_individual_hp_ratios']\n",
    "  hp_postcombat_sum = 0\n",
    "  for hp_ratio in row_list:\n",
    "    if hp_ratio == None:\n",
    "      continue\n",
    "    hp_postcombat_val = int(hp_ratio[0])\n",
    "    hp_postcombat_sum = hp_postcombat_sum + hp_postcombat_val\n",
    "  party_total_postcombat_hp_list.append(hp_postcombat_sum)\n",
    "\n",
    "final_combat_data_df_T['party_total_postcombat_hp']  = party_total_postcombat_hp_list"
   ]
  },
  {
   "cell_type": "code",
   "execution_count": 23,
   "metadata": {
    "tags": []
   },
   "outputs": [],
   "source": [
    "# column for party HP ratio (expressed as a fraction of post:pre combat HP)\n",
    "party_total_hpratio_list = []\n",
    "\n",
    "for index, row in final_combat_data_df_T.iterrows():\n",
    "  hp_precombat_instance = row['party_total_precombat_hp']\n",
    "  hp_postcombat_instance = row['party_total_postcombat_hp']\n",
    "  if hp_postcombat_instance == 0:\n",
    "    party_hp_ratio = 'NA'\n",
    "  else: \n",
    "    party_hp_ratio = float(hp_postcombat_instance / hp_precombat_instance)\n",
    "  party_total_hpratio_list.append(party_hp_ratio)\n",
    "\n",
    "final_combat_data_df_T['party_total_hpratio']  = party_total_hpratio_list"
   ]
  },
  {
   "cell_type": "code",
   "execution_count": 24,
   "metadata": {
    "tags": []
   },
   "outputs": [],
   "source": [
    "# column for armor class (ac) ratings for each individual in a party\n",
    "player_individual_AC_list = []\n",
    "\n",
    "for index, row in final_combat_data_df_T.iterrows():\n",
    "    row_dict = row['player_info']\n",
    "    party_ac_values = [val.get('ac') for val in row_dict.values()]\n",
    "    player_individual_AC_list.append(party_ac_values)   \n",
    "\n",
    "final_combat_data_df_T['player_individual_ac']  = player_individual_AC_list\n"
   ]
  },
  {
   "cell_type": "code",
   "execution_count": 25,
   "metadata": {
    "tags": []
   },
   "outputs": [],
   "source": [
    "# column for total party ac\n",
    "party_total_AC_list = []\n",
    "\n",
    "for index, row in final_combat_data_df_T.iterrows():\n",
    "    row_list = row['player_individual_ac']\n",
    "    party_ac_sum = sum(row_list)\n",
    "    party_total_AC_list.append(party_ac_sum)   \n",
    "\n",
    "final_combat_data_df_T['party_total_ac']  = party_total_AC_list\n"
   ]
  },
  {
   "cell_type": "code",
   "execution_count": 26,
   "metadata": {
    "tags": []
   },
   "outputs": [],
   "source": [
    "# column for party ability scores (by player), grouped by ability\n",
    "player_individual_prof_bonus_scores_total_list = []\n",
    "player_individual_strength_scores_total_list = []\n",
    "player_individual_dex_scores_total_list = []\n",
    "player_individual_con_scores_total_list = []\n",
    "player_individual_int_scores_total_list = []\n",
    "player_individual_wis_scores_total_list = []\n",
    "player_individual_char_scores_total_list = []\n",
    "\n",
    "for index, row in final_combat_data_df_T.iterrows():\n",
    "    row_dict = row['player_info']\n",
    "    player_stats = [val.get('stats') for val in row_dict.values()]\n",
    "    player_individual_prof_bonus_scores = []\n",
    "    player_individual_strength_scores = []\n",
    "    player_individual_dex_scores = []\n",
    "    player_individual_con_scores= []\n",
    "    player_individual_int_scores = []\n",
    "    player_individual_wis_scores= []\n",
    "    player_individual_char_scores = []\n",
    "    for dict in player_stats:\n",
    "        player_prof_bonus_value = dict['prof_bonus']\n",
    "        player_strength_value = dict['strength']\n",
    "        player_dex_value = dict['dexterity']\n",
    "        player_con_value = dict['constitution']\n",
    "        player_int_value = dict['intelligence']\n",
    "        player_wis_value = dict['wisdom']\n",
    "        player_char_value = dict['charisma']\n",
    "        player_individual_prof_bonus_scores.append(player_prof_bonus_value)\n",
    "        player_individual_strength_scores.append(player_strength_value)\n",
    "        player_individual_dex_scores.append(player_dex_value)\n",
    "        player_individual_con_scores.append(player_con_value)\n",
    "        player_individual_int_scores.append(player_int_value)\n",
    "        player_individual_wis_scores.append(player_wis_value)\n",
    "        player_individual_char_scores.append(player_char_value)\n",
    "\n",
    "    player_individual_prof_bonus_scores_total_list.append(player_individual_prof_bonus_scores)\n",
    "    player_individual_strength_scores_total_list.append(player_individual_strength_scores)\n",
    "    player_individual_dex_scores_total_list.append(player_individual_dex_scores)\n",
    "    player_individual_con_scores_total_list.append(player_individual_con_scores)\n",
    "    player_individual_int_scores_total_list.append(player_individual_int_scores)\n",
    "    player_individual_wis_scores_total_list.append(player_individual_wis_scores)\n",
    "    player_individual_char_scores_total_list.append(player_individual_char_scores)\n",
    "  \n",
    "final_combat_data_df_T['player_individual_prof_bonus']  = player_individual_prof_bonus_scores_total_list\n",
    "final_combat_data_df_T['player_individual_strength']  = player_individual_strength_scores_total_list\n",
    "final_combat_data_df_T['player_individual_dexterity']  = player_individual_dex_scores_total_list\n",
    "final_combat_data_df_T['player_individual_constitution']  = player_individual_con_scores_total_list\n",
    "final_combat_data_df_T['player_individual_intelligence']  = player_individual_int_scores_total_list\n",
    "final_combat_data_df_T['player_individual_wisdom']  = player_individual_wis_scores_total_list\n",
    "final_combat_data_df_T['player_individual_charisma']  = player_individual_char_scores_total_list\n",
    "\n"
   ]
  },
  {
   "cell_type": "code",
   "execution_count": 27,
   "metadata": {
    "tags": []
   },
   "outputs": [],
   "source": [
    "# column for total party prof bonus\n",
    "party_prof_bonus_scores_total_list = []\n",
    "\n",
    "for index, row in final_combat_data_df_T.iterrows():\n",
    "    row_list = row['player_individual_prof_bonus']\n",
    "    party_prof_bonus_sum = sum(row_list)\n",
    "    party_prof_bonus_scores_total_list.append(party_prof_bonus_sum)   \n",
    "\n",
    "final_combat_data_df_T['party_total_prof_bonus']  = party_prof_bonus_scores_total_list\n"
   ]
  },
  {
   "cell_type": "code",
   "execution_count": 28,
   "metadata": {
    "tags": []
   },
   "outputs": [],
   "source": [
    "# column for total party ability scores\n",
    "## strength\n",
    "party_strength_scores_total_list = []\n",
    "\n",
    "for index, row in final_combat_data_df_T.iterrows():\n",
    "    row_list = row['player_individual_strength']\n",
    "    party_strength_sum = sum(row_list)\n",
    "    party_strength_scores_total_list.append(party_strength_sum)   \n",
    "\n",
    "final_combat_data_df_T['party_total_strength']  = party_strength_scores_total_list\n",
    "\n",
    "### dexterity\n",
    "party_dex_scores_total_list = []\n",
    "\n",
    "for index, row in final_combat_data_df_T.iterrows():\n",
    "    row_list = row['player_individual_dexterity']\n",
    "    party_dex_sum = sum(row_list)\n",
    "    party_dex_scores_total_list.append(party_dex_sum)   \n",
    "\n",
    "final_combat_data_df_T['party_total_dexterity']  = party_dex_scores_total_list\n",
    "\n",
    "### constitution\n",
    "party_con_scores_total_list = []\n",
    "\n",
    "for index, row in final_combat_data_df_T.iterrows():\n",
    "    row_list = row['player_individual_constitution']\n",
    "    party_con_sum = sum(row_list)\n",
    "    party_con_scores_total_list.append(party_con_sum)   \n",
    "\n",
    "final_combat_data_df_T['party_total_constitution']  = party_con_scores_total_list\n",
    "\n",
    "### intelligence\n",
    "party_int_scores_total_list = []\n",
    "\n",
    "for index, row in final_combat_data_df_T.iterrows():\n",
    "    row_list = row['player_individual_intelligence']\n",
    "    party_int_sum = sum(row_list)\n",
    "    party_int_scores_total_list.append(party_int_sum)   \n",
    "\n",
    "final_combat_data_df_T['party_total_intelligence']  = party_int_scores_total_list\n",
    "\n",
    "### wisdom\n",
    "party_wis_scores_total_list = []\n",
    "\n",
    "for index, row in final_combat_data_df_T.iterrows():\n",
    "    row_list = row['player_individual_wisdom']\n",
    "    party_wis_sum = sum(row_list)\n",
    "    party_wis_scores_total_list.append(party_wis_sum)   \n",
    "\n",
    "final_combat_data_df_T['party_total_wisdom']  = party_wis_scores_total_list\n",
    "\n",
    "### charisma\n",
    "party_chr_scores_total_list = []\n",
    "\n",
    "for index, row in final_combat_data_df_T.iterrows():\n",
    "    row_list = row['player_individual_charisma']\n",
    "    party_chr_sum = sum(row_list)\n",
    "    party_chr_scores_total_list.append(party_chr_sum)   \n",
    "\n",
    "final_combat_data_df_T['party_total_charisma']  = party_chr_scores_total_list"
   ]
  },
  {
   "cell_type": "code",
   "execution_count": 29,
   "metadata": {
    "tags": []
   },
   "outputs": [],
   "source": [
    "# column for all spell slots (seperated by slot level) (party total)\n",
    "party_level1_spellslot_list = []\n",
    "party_level2_spellslot_list = []\n",
    "party_level3_spellslot_list = []\n",
    "party_level4_spellslot_list = []\n",
    "party_level5_spellslot_list = []\n",
    "party_level6_spellslot_list = []\n",
    "party_level7_spellslot_list = []\n",
    "party_level8_spellslot_list = []\n",
    "party_level9_spellslot_list = []\n",
    "\n",
    "for index, row in final_combat_data_df_T.iterrows():\n",
    "    row_dict = row['total_max_slots']\n",
    "    if type(row_dict) == float:\n",
    "        party_level1_spellslot_list.append('NA')\n",
    "        party_level2_spellslot_list.append('NA')\n",
    "        party_level3_spellslot_list.append('NA')\n",
    "        party_level4_spellslot_list.append('NA')\n",
    "        party_level5_spellslot_list.append('NA')\n",
    "        party_level6_spellslot_list.append('NA')\n",
    "        party_level7_spellslot_list.append('NA')\n",
    "        party_level8_spellslot_list.append('NA')\n",
    "        party_level9_spellslot_list.append('NA')\n",
    "    else:\n",
    "        level1_sum = row_dict.get('1')\n",
    "        level2_sum = row_dict.get('2')\n",
    "        level3_sum = row_dict.get('3')\n",
    "        level4_sum = row_dict.get('4')\n",
    "        level5_sum = row_dict.get('5')\n",
    "        level6_sum = row_dict.get('6')\n",
    "        level7_sum = row_dict.get('7')\n",
    "        level8_sum = row_dict.get('8')\n",
    "        level9_sum = row_dict.get('9')\n",
    "        party_level1_spellslot_list.append(level1_sum)\n",
    "        party_level2_spellslot_list.append(level2_sum)\n",
    "        party_level3_spellslot_list.append(level3_sum)\n",
    "        party_level4_spellslot_list.append(level4_sum)\n",
    "        party_level5_spellslot_list.append(level5_sum)\n",
    "        party_level6_spellslot_list.append(level6_sum)\n",
    "        party_level7_spellslot_list.append(level7_sum)\n",
    "        party_level8_spellslot_list.append(level8_sum)\n",
    "        party_level9_spellslot_list.append(level9_sum)\n",
    "\n",
    "\n",
    "final_combat_data_df_T['party_level1_spellslots']  = party_level1_spellslot_list\n",
    "final_combat_data_df_T['party_level2_spellslots']  = party_level2_spellslot_list\n",
    "final_combat_data_df_T['party_level3_spellslots']  = party_level3_spellslot_list\n",
    "final_combat_data_df_T['party_level4_spellslots']  = party_level4_spellslot_list\n",
    "final_combat_data_df_T['party_level5_spellslots']  = party_level5_spellslot_list\n",
    "final_combat_data_df_T['party_level6_spellslots']  = party_level6_spellslot_list\n",
    "final_combat_data_df_T['party_level7_spellslots']  = party_level7_spellslot_list\n",
    "final_combat_data_df_T['party_level8_spellslots']  = party_level8_spellslot_list\n",
    "final_combat_data_df_T['party_level9_spellslots']  = party_level9_spellslot_list"
   ]
  },
  {
   "cell_type": "markdown",
   "metadata": {},
   "source": [
    "#### Monster Information"
   ]
  },
  {
   "cell_type": "code",
   "execution_count": 30,
   "metadata": {
    "tags": []
   },
   "outputs": [],
   "source": [
    "#rename monsters column to monsters_info\n",
    "final_combat_data_df_T.rename(columns = {'monsters':'monsters_info'}, inplace = True) "
   ]
  },
  {
   "cell_type": "code",
   "execution_count": 31,
   "metadata": {
    "tags": []
   },
   "outputs": [],
   "source": [
    "# parsing monster info (read from monsters_info)\n",
    "# column for monster types\n",
    "monster_type_total_list = []\n",
    "\n",
    "for index, row in final_combat_data_df_T.iterrows():\n",
    "  row_dict = row['monsters_info']\n",
    "  monster_type_list = []\n",
    "  for dic in row_dict:\n",
    "    monster_type_list.append(dic['monster_name'])\n",
    "  monster_type_total_list.append(monster_type_list)\n",
    "\n",
    "\n",
    "final_combat_data_df_T['monster_types']  = monster_type_total_list"
   ]
  },
  {
   "cell_type": "code",
   "execution_count": 32,
   "metadata": {
    "tags": []
   },
   "outputs": [],
   "source": [
    "# column for total number of monsters\n",
    "monster_number_list = []\n",
    "\n",
    "for index, row in final_combat_data_df_T.iterrows():\n",
    "  row_dict = row['monster_types']\n",
    "  num_monsters_val = len(row_dict)\n",
    "  monster_number_list.append(num_monsters_val)\n",
    "\n",
    "final_combat_data_df_T['monster_number']  = monster_number_list"
   ]
  },
  {
   "cell_type": "code",
   "execution_count": 33,
   "metadata": {
    "tags": []
   },
   "outputs": [],
   "source": [
    "# column for monster total level\n",
    "monster_level_total_list = []\n",
    "\n",
    "for index, row in final_combat_data_df_T.iterrows():\n",
    "    row_dict = row['monsters_info']\n",
    "    monster_level_list = []\n",
    "    monster_level_sum = 0\n",
    "    for dic in row_dict:\n",
    "        monster_level = float(dic['level'])\n",
    "        monster_level_list.append(monster_level)\n",
    "    monster_level_sum = sum(monster_level_list)\n",
    "    monster_level_total_list.append(monster_level_sum)\n",
    "\n",
    "final_combat_data_df_T['monster_total_level']  = monster_level_total_list"
   ]
  },
  {
   "cell_type": "markdown",
   "metadata": {},
   "source": [
    "#### Check Dataframe & Export to CSV"
   ]
  },
  {
   "cell_type": "code",
   "execution_count": 34,
   "metadata": {
    "tags": []
   },
   "outputs": [
    {
     "data": {
      "text/html": [
       "<div>\n",
       "<style scoped>\n",
       "    .dataframe tbody tr th:only-of-type {\n",
       "        vertical-align: middle;\n",
       "    }\n",
       "\n",
       "    .dataframe tbody tr th {\n",
       "        vertical-align: top;\n",
       "    }\n",
       "\n",
       "    .dataframe thead th {\n",
       "        text-align: right;\n",
       "    }\n",
       "</style>\n",
       "<table border=\"1\" class=\"dataframe\">\n",
       "  <thead>\n",
       "    <tr style=\"text-align: right;\">\n",
       "      <th></th>\n",
       "      <th>start_time</th>\n",
       "      <th>player_ids</th>\n",
       "      <th>player_info</th>\n",
       "      <th>total_slots</th>\n",
       "      <th>total_max_slots</th>\n",
       "      <th>monsters_info</th>\n",
       "      <th>party_size</th>\n",
       "      <th>party_classes_with_level</th>\n",
       "      <th>party_total_level</th>\n",
       "      <th>party_total_class_composition</th>\n",
       "      <th>...</th>\n",
       "      <th>party_level3_spellslots</th>\n",
       "      <th>party_level4_spellslots</th>\n",
       "      <th>party_level5_spellslots</th>\n",
       "      <th>party_level6_spellslots</th>\n",
       "      <th>party_level7_spellslots</th>\n",
       "      <th>party_level8_spellslots</th>\n",
       "      <th>party_level9_spellslots</th>\n",
       "      <th>monster_types</th>\n",
       "      <th>monster_number</th>\n",
       "      <th>monster_total_level</th>\n",
       "    </tr>\n",
       "    <tr>\n",
       "      <th>combat_id</th>\n",
       "      <th></th>\n",
       "      <th></th>\n",
       "      <th></th>\n",
       "      <th></th>\n",
       "      <th></th>\n",
       "      <th></th>\n",
       "      <th></th>\n",
       "      <th></th>\n",
       "      <th></th>\n",
       "      <th></th>\n",
       "      <th></th>\n",
       "      <th></th>\n",
       "      <th></th>\n",
       "      <th></th>\n",
       "      <th></th>\n",
       "      <th></th>\n",
       "      <th></th>\n",
       "      <th></th>\n",
       "      <th></th>\n",
       "      <th></th>\n",
       "      <th></th>\n",
       "    </tr>\n",
       "  </thead>\n",
       "  <tbody>\n",
       "    <tr>\n",
       "      <th>1658856717-0ee5416d-77c0-48c2-acdb-895f644be1c2</th>\n",
       "      <td>1658856717.372768</td>\n",
       "      <td>{651343489256905760, 919179080066629870, 13555...</td>\n",
       "      <td>{'Kay': {'hp_ratio': None, 'class': [('Blood H...</td>\n",
       "      <td>{'1': 42, '2': 20, '3': 0, '4': 0, '5': 0, '6'...</td>\n",
       "      <td>{'1': 50, '2': 28, '3': 0, '4': 0, '5': 0, '6'...</td>\n",
       "      <td>[{'monster_id': '539922a1-a879-401f-9655-90b38...</td>\n",
       "      <td>10</td>\n",
       "      <td>[[(Blood Hunter, 3)], [(Fighter, 3)], [(Warloc...</td>\n",
       "      <td>48</td>\n",
       "      <td>[Blood Hunter, Fighter, Warlock, Druid, Blood ...</td>\n",
       "      <td>...</td>\n",
       "      <td>0</td>\n",
       "      <td>0</td>\n",
       "      <td>0</td>\n",
       "      <td>0</td>\n",
       "      <td>0</td>\n",
       "      <td>0</td>\n",
       "      <td>0</td>\n",
       "      <td>[Winter Wolf, Winter Wolf, Mammoth, Mammoth, C...</td>\n",
       "      <td>79</td>\n",
       "      <td>148.5</td>\n",
       "    </tr>\n",
       "    <tr>\n",
       "      <th>1653817902-15ec25a2-6757-4ceb-ac41-d44352b97705</th>\n",
       "      <td>1653817902.7366</td>\n",
       "      <td>{209330647903743785}</td>\n",
       "      <td>{'Tægen Morlé': {'hp_ratio': [65, 65], 'class'...</td>\n",
       "      <td>{'1': 4, '2': 3, '3': 2, '4': 0, '5': 0, '6': ...</td>\n",
       "      <td>{'1': 4, '2': 3, '3': 2, '4': 0, '5': 0, '6': ...</td>\n",
       "      <td>[{'monster_id': 'c0cdb522-64c2-42ee-b1a8-6ef22...</td>\n",
       "      <td>1</td>\n",
       "      <td>[[(Ranger, 10)]]</td>\n",
       "      <td>10</td>\n",
       "      <td>[Ranger]</td>\n",
       "      <td>...</td>\n",
       "      <td>2</td>\n",
       "      <td>0</td>\n",
       "      <td>0</td>\n",
       "      <td>0</td>\n",
       "      <td>0</td>\n",
       "      <td>0</td>\n",
       "      <td>0</td>\n",
       "      <td>[Warrior (level 4)]</td>\n",
       "      <td>1</td>\n",
       "      <td>4.0</td>\n",
       "    </tr>\n",
       "    <tr>\n",
       "      <th>1653869455-12ddde04-29c5-4313-ac49-585f2f3bdf19</th>\n",
       "      <td>1653869455.30104</td>\n",
       "      <td>{259867457597965956}</td>\n",
       "      <td>{'Bompi': {'hp_ratio': [51, 51], 'class': [('A...</td>\n",
       "      <td>{'1': 4, '2': 2, '3': 0, '4': 0, '5': 0, '6': ...</td>\n",
       "      <td>{'1': 4, '2': 2, '3': 0, '4': 0, '5': 0, '6': ...</td>\n",
       "      <td>[{'monster_id': 'f233409e-008e-4f04-a66c-9a9d4...</td>\n",
       "      <td>1</td>\n",
       "      <td>[[(Artificer, 6)]]</td>\n",
       "      <td>6</td>\n",
       "      <td>[Artificer]</td>\n",
       "      <td>...</td>\n",
       "      <td>0</td>\n",
       "      <td>0</td>\n",
       "      <td>0</td>\n",
       "      <td>0</td>\n",
       "      <td>0</td>\n",
       "      <td>0</td>\n",
       "      <td>0</td>\n",
       "      <td>[Bandit, Bandit, Bandit, Bandit]</td>\n",
       "      <td>4</td>\n",
       "      <td>0.5</td>\n",
       "    </tr>\n",
       "    <tr>\n",
       "      <th>1653869871-e7fd0606-de62-4688-a55b-ae4c25a14beb</th>\n",
       "      <td>1653869871.83937</td>\n",
       "      <td>{176588704091156599}</td>\n",
       "      <td>{'Mehrunes': {'hp_ratio': [0, 38], 'class': [(...</td>\n",
       "      <td>{'1': 2, '2': 0, '3': 0, '4': 0, '5': 0, '6': ...</td>\n",
       "      <td>{'1': 2, '2': 0, '3': 0, '4': 0, '5': 0, '6': ...</td>\n",
       "      <td>[{'monster_id': '3bdb4cc1-6ca9-47e8-9610-d68ef...</td>\n",
       "      <td>1</td>\n",
       "      <td>[[(Monk, 4), (Cleric, 1)]]</td>\n",
       "      <td>5</td>\n",
       "      <td>[Monk, Cleric]</td>\n",
       "      <td>...</td>\n",
       "      <td>0</td>\n",
       "      <td>0</td>\n",
       "      <td>0</td>\n",
       "      <td>0</td>\n",
       "      <td>0</td>\n",
       "      <td>0</td>\n",
       "      <td>0</td>\n",
       "      <td>[Flying Sword, Flying Sword, Black Dragon Wyrm...</td>\n",
       "      <td>3</td>\n",
       "      <td>2.5</td>\n",
       "    </tr>\n",
       "    <tr>\n",
       "      <th>1653870265-3912208d-8851-4441-90a7-9473068eb93e</th>\n",
       "      <td>1653870266.000481</td>\n",
       "      <td>{219174602203404794, 743069156064144035}</td>\n",
       "      <td>{'Kaith Deathgaze': {'hp_ratio': [33, 73], 'cl...</td>\n",
       "      <td>{'1': 4, '2': 3, '3': 3, '4': 3, '5': 1, '6': ...</td>\n",
       "      <td>{'1': 7, '2': 3, '3': 3, '4': 3, '5': 1, '6': ...</td>\n",
       "      <td>[{'monster_id': '203bce70-7a28-4c79-a990-fba6f...</td>\n",
       "      <td>2</td>\n",
       "      <td>[[(Druid, 9)], [(Barbarian, 6), (Cleric, 2)]]</td>\n",
       "      <td>17</td>\n",
       "      <td>[Druid, Barbarian, Cleric]</td>\n",
       "      <td>...</td>\n",
       "      <td>3</td>\n",
       "      <td>3</td>\n",
       "      <td>1</td>\n",
       "      <td>0</td>\n",
       "      <td>0</td>\n",
       "      <td>0</td>\n",
       "      <td>0</td>\n",
       "      <td>[Elephant]</td>\n",
       "      <td>1</td>\n",
       "      <td>4.0</td>\n",
       "    </tr>\n",
       "  </tbody>\n",
       "</table>\n",
       "<p>5 rows × 42 columns</p>\n",
       "</div>"
      ],
      "text/plain": [
       "                                                        start_time  \\\n",
       "combat_id                                                            \n",
       "1658856717-0ee5416d-77c0-48c2-acdb-895f644be1c2  1658856717.372768   \n",
       "1653817902-15ec25a2-6757-4ceb-ac41-d44352b97705    1653817902.7366   \n",
       "1653869455-12ddde04-29c5-4313-ac49-585f2f3bdf19   1653869455.30104   \n",
       "1653869871-e7fd0606-de62-4688-a55b-ae4c25a14beb   1653869871.83937   \n",
       "1653870265-3912208d-8851-4441-90a7-9473068eb93e  1653870266.000481   \n",
       "\n",
       "                                                                                        player_ids  \\\n",
       "combat_id                                                                                            \n",
       "1658856717-0ee5416d-77c0-48c2-acdb-895f644be1c2  {651343489256905760, 919179080066629870, 13555...   \n",
       "1653817902-15ec25a2-6757-4ceb-ac41-d44352b97705                               {209330647903743785}   \n",
       "1653869455-12ddde04-29c5-4313-ac49-585f2f3bdf19                               {259867457597965956}   \n",
       "1653869871-e7fd0606-de62-4688-a55b-ae4c25a14beb                               {176588704091156599}   \n",
       "1653870265-3912208d-8851-4441-90a7-9473068eb93e           {219174602203404794, 743069156064144035}   \n",
       "\n",
       "                                                                                       player_info  \\\n",
       "combat_id                                                                                            \n",
       "1658856717-0ee5416d-77c0-48c2-acdb-895f644be1c2  {'Kay': {'hp_ratio': None, 'class': [('Blood H...   \n",
       "1653817902-15ec25a2-6757-4ceb-ac41-d44352b97705  {'Tægen Morlé': {'hp_ratio': [65, 65], 'class'...   \n",
       "1653869455-12ddde04-29c5-4313-ac49-585f2f3bdf19  {'Bompi': {'hp_ratio': [51, 51], 'class': [('A...   \n",
       "1653869871-e7fd0606-de62-4688-a55b-ae4c25a14beb  {'Mehrunes': {'hp_ratio': [0, 38], 'class': [(...   \n",
       "1653870265-3912208d-8851-4441-90a7-9473068eb93e  {'Kaith Deathgaze': {'hp_ratio': [33, 73], 'cl...   \n",
       "\n",
       "                                                                                       total_slots  \\\n",
       "combat_id                                                                                            \n",
       "1658856717-0ee5416d-77c0-48c2-acdb-895f644be1c2  {'1': 42, '2': 20, '3': 0, '4': 0, '5': 0, '6'...   \n",
       "1653817902-15ec25a2-6757-4ceb-ac41-d44352b97705  {'1': 4, '2': 3, '3': 2, '4': 0, '5': 0, '6': ...   \n",
       "1653869455-12ddde04-29c5-4313-ac49-585f2f3bdf19  {'1': 4, '2': 2, '3': 0, '4': 0, '5': 0, '6': ...   \n",
       "1653869871-e7fd0606-de62-4688-a55b-ae4c25a14beb  {'1': 2, '2': 0, '3': 0, '4': 0, '5': 0, '6': ...   \n",
       "1653870265-3912208d-8851-4441-90a7-9473068eb93e  {'1': 4, '2': 3, '3': 3, '4': 3, '5': 1, '6': ...   \n",
       "\n",
       "                                                                                   total_max_slots  \\\n",
       "combat_id                                                                                            \n",
       "1658856717-0ee5416d-77c0-48c2-acdb-895f644be1c2  {'1': 50, '2': 28, '3': 0, '4': 0, '5': 0, '6'...   \n",
       "1653817902-15ec25a2-6757-4ceb-ac41-d44352b97705  {'1': 4, '2': 3, '3': 2, '4': 0, '5': 0, '6': ...   \n",
       "1653869455-12ddde04-29c5-4313-ac49-585f2f3bdf19  {'1': 4, '2': 2, '3': 0, '4': 0, '5': 0, '6': ...   \n",
       "1653869871-e7fd0606-de62-4688-a55b-ae4c25a14beb  {'1': 2, '2': 0, '3': 0, '4': 0, '5': 0, '6': ...   \n",
       "1653870265-3912208d-8851-4441-90a7-9473068eb93e  {'1': 7, '2': 3, '3': 3, '4': 3, '5': 1, '6': ...   \n",
       "\n",
       "                                                                                     monsters_info  \\\n",
       "combat_id                                                                                            \n",
       "1658856717-0ee5416d-77c0-48c2-acdb-895f644be1c2  [{'monster_id': '539922a1-a879-401f-9655-90b38...   \n",
       "1653817902-15ec25a2-6757-4ceb-ac41-d44352b97705  [{'monster_id': 'c0cdb522-64c2-42ee-b1a8-6ef22...   \n",
       "1653869455-12ddde04-29c5-4313-ac49-585f2f3bdf19  [{'monster_id': 'f233409e-008e-4f04-a66c-9a9d4...   \n",
       "1653869871-e7fd0606-de62-4688-a55b-ae4c25a14beb  [{'monster_id': '3bdb4cc1-6ca9-47e8-9610-d68ef...   \n",
       "1653870265-3912208d-8851-4441-90a7-9473068eb93e  [{'monster_id': '203bce70-7a28-4c79-a990-fba6f...   \n",
       "\n",
       "                                                 party_size  \\\n",
       "combat_id                                                     \n",
       "1658856717-0ee5416d-77c0-48c2-acdb-895f644be1c2          10   \n",
       "1653817902-15ec25a2-6757-4ceb-ac41-d44352b97705           1   \n",
       "1653869455-12ddde04-29c5-4313-ac49-585f2f3bdf19           1   \n",
       "1653869871-e7fd0606-de62-4688-a55b-ae4c25a14beb           1   \n",
       "1653870265-3912208d-8851-4441-90a7-9473068eb93e           2   \n",
       "\n",
       "                                                                          party_classes_with_level  \\\n",
       "combat_id                                                                                            \n",
       "1658856717-0ee5416d-77c0-48c2-acdb-895f644be1c2  [[(Blood Hunter, 3)], [(Fighter, 3)], [(Warloc...   \n",
       "1653817902-15ec25a2-6757-4ceb-ac41-d44352b97705                                   [[(Ranger, 10)]]   \n",
       "1653869455-12ddde04-29c5-4313-ac49-585f2f3bdf19                                 [[(Artificer, 6)]]   \n",
       "1653869871-e7fd0606-de62-4688-a55b-ae4c25a14beb                         [[(Monk, 4), (Cleric, 1)]]   \n",
       "1653870265-3912208d-8851-4441-90a7-9473068eb93e      [[(Druid, 9)], [(Barbarian, 6), (Cleric, 2)]]   \n",
       "\n",
       "                                                 party_total_level  \\\n",
       "combat_id                                                            \n",
       "1658856717-0ee5416d-77c0-48c2-acdb-895f644be1c2                 48   \n",
       "1653817902-15ec25a2-6757-4ceb-ac41-d44352b97705                 10   \n",
       "1653869455-12ddde04-29c5-4313-ac49-585f2f3bdf19                  6   \n",
       "1653869871-e7fd0606-de62-4688-a55b-ae4c25a14beb                  5   \n",
       "1653870265-3912208d-8851-4441-90a7-9473068eb93e                 17   \n",
       "\n",
       "                                                                     party_total_class_composition  \\\n",
       "combat_id                                                                                            \n",
       "1658856717-0ee5416d-77c0-48c2-acdb-895f644be1c2  [Blood Hunter, Fighter, Warlock, Druid, Blood ...   \n",
       "1653817902-15ec25a2-6757-4ceb-ac41-d44352b97705                                           [Ranger]   \n",
       "1653869455-12ddde04-29c5-4313-ac49-585f2f3bdf19                                        [Artificer]   \n",
       "1653869871-e7fd0606-de62-4688-a55b-ae4c25a14beb                                     [Monk, Cleric]   \n",
       "1653870265-3912208d-8851-4441-90a7-9473068eb93e                         [Druid, Barbarian, Cleric]   \n",
       "\n",
       "                                                 ... party_level3_spellslots  \\\n",
       "combat_id                                        ...                           \n",
       "1658856717-0ee5416d-77c0-48c2-acdb-895f644be1c2  ...                       0   \n",
       "1653817902-15ec25a2-6757-4ceb-ac41-d44352b97705  ...                       2   \n",
       "1653869455-12ddde04-29c5-4313-ac49-585f2f3bdf19  ...                       0   \n",
       "1653869871-e7fd0606-de62-4688-a55b-ae4c25a14beb  ...                       0   \n",
       "1653870265-3912208d-8851-4441-90a7-9473068eb93e  ...                       3   \n",
       "\n",
       "                                                 party_level4_spellslots  \\\n",
       "combat_id                                                                  \n",
       "1658856717-0ee5416d-77c0-48c2-acdb-895f644be1c2                        0   \n",
       "1653817902-15ec25a2-6757-4ceb-ac41-d44352b97705                        0   \n",
       "1653869455-12ddde04-29c5-4313-ac49-585f2f3bdf19                        0   \n",
       "1653869871-e7fd0606-de62-4688-a55b-ae4c25a14beb                        0   \n",
       "1653870265-3912208d-8851-4441-90a7-9473068eb93e                        3   \n",
       "\n",
       "                                                 party_level5_spellslots  \\\n",
       "combat_id                                                                  \n",
       "1658856717-0ee5416d-77c0-48c2-acdb-895f644be1c2                        0   \n",
       "1653817902-15ec25a2-6757-4ceb-ac41-d44352b97705                        0   \n",
       "1653869455-12ddde04-29c5-4313-ac49-585f2f3bdf19                        0   \n",
       "1653869871-e7fd0606-de62-4688-a55b-ae4c25a14beb                        0   \n",
       "1653870265-3912208d-8851-4441-90a7-9473068eb93e                        1   \n",
       "\n",
       "                                                party_level6_spellslots  \\\n",
       "combat_id                                                                 \n",
       "1658856717-0ee5416d-77c0-48c2-acdb-895f644be1c2                       0   \n",
       "1653817902-15ec25a2-6757-4ceb-ac41-d44352b97705                       0   \n",
       "1653869455-12ddde04-29c5-4313-ac49-585f2f3bdf19                       0   \n",
       "1653869871-e7fd0606-de62-4688-a55b-ae4c25a14beb                       0   \n",
       "1653870265-3912208d-8851-4441-90a7-9473068eb93e                       0   \n",
       "\n",
       "                                                party_level7_spellslots  \\\n",
       "combat_id                                                                 \n",
       "1658856717-0ee5416d-77c0-48c2-acdb-895f644be1c2                       0   \n",
       "1653817902-15ec25a2-6757-4ceb-ac41-d44352b97705                       0   \n",
       "1653869455-12ddde04-29c5-4313-ac49-585f2f3bdf19                       0   \n",
       "1653869871-e7fd0606-de62-4688-a55b-ae4c25a14beb                       0   \n",
       "1653870265-3912208d-8851-4441-90a7-9473068eb93e                       0   \n",
       "\n",
       "                                                 party_level8_spellslots  \\\n",
       "combat_id                                                                  \n",
       "1658856717-0ee5416d-77c0-48c2-acdb-895f644be1c2                        0   \n",
       "1653817902-15ec25a2-6757-4ceb-ac41-d44352b97705                        0   \n",
       "1653869455-12ddde04-29c5-4313-ac49-585f2f3bdf19                        0   \n",
       "1653869871-e7fd0606-de62-4688-a55b-ae4c25a14beb                        0   \n",
       "1653870265-3912208d-8851-4441-90a7-9473068eb93e                        0   \n",
       "\n",
       "                                                party_level9_spellslots  \\\n",
       "combat_id                                                                 \n",
       "1658856717-0ee5416d-77c0-48c2-acdb-895f644be1c2                       0   \n",
       "1653817902-15ec25a2-6757-4ceb-ac41-d44352b97705                       0   \n",
       "1653869455-12ddde04-29c5-4313-ac49-585f2f3bdf19                       0   \n",
       "1653869871-e7fd0606-de62-4688-a55b-ae4c25a14beb                       0   \n",
       "1653870265-3912208d-8851-4441-90a7-9473068eb93e                       0   \n",
       "\n",
       "                                                                                     monster_types  \\\n",
       "combat_id                                                                                            \n",
       "1658856717-0ee5416d-77c0-48c2-acdb-895f644be1c2  [Winter Wolf, Winter Wolf, Mammoth, Mammoth, C...   \n",
       "1653817902-15ec25a2-6757-4ceb-ac41-d44352b97705                                [Warrior (level 4)]   \n",
       "1653869455-12ddde04-29c5-4313-ac49-585f2f3bdf19                   [Bandit, Bandit, Bandit, Bandit]   \n",
       "1653869871-e7fd0606-de62-4688-a55b-ae4c25a14beb  [Flying Sword, Flying Sword, Black Dragon Wyrm...   \n",
       "1653870265-3912208d-8851-4441-90a7-9473068eb93e                                         [Elephant]   \n",
       "\n",
       "                                                monster_number  \\\n",
       "combat_id                                                        \n",
       "1658856717-0ee5416d-77c0-48c2-acdb-895f644be1c2             79   \n",
       "1653817902-15ec25a2-6757-4ceb-ac41-d44352b97705              1   \n",
       "1653869455-12ddde04-29c5-4313-ac49-585f2f3bdf19              4   \n",
       "1653869871-e7fd0606-de62-4688-a55b-ae4c25a14beb              3   \n",
       "1653870265-3912208d-8851-4441-90a7-9473068eb93e              1   \n",
       "\n",
       "                                                monster_total_level  \n",
       "combat_id                                                            \n",
       "1658856717-0ee5416d-77c0-48c2-acdb-895f644be1c2               148.5  \n",
       "1653817902-15ec25a2-6757-4ceb-ac41-d44352b97705                 4.0  \n",
       "1653869455-12ddde04-29c5-4313-ac49-585f2f3bdf19                 0.5  \n",
       "1653869871-e7fd0606-de62-4688-a55b-ae4c25a14beb                 2.5  \n",
       "1653870265-3912208d-8851-4441-90a7-9473068eb93e                 4.0  \n",
       "\n",
       "[5 rows x 42 columns]"
      ]
     },
     "execution_count": 34,
     "metadata": {},
     "output_type": "execute_result"
    }
   ],
   "source": [
    "#check updated dataframe\n",
    "final_combat_data_df_T.head()"
   ]
  },
  {
   "cell_type": "code",
   "execution_count": 35,
   "metadata": {
    "tags": []
   },
   "outputs": [
    {
     "name": "stdout",
     "output_type": "stream",
     "text": [
      "C:\\Erdos\\Project\\DnDFireballProject\n"
     ]
    }
   ],
   "source": [
    "print(os.getcwd())\n"
   ]
  },
  {
   "cell_type": "code",
   "execution_count": 38,
   "metadata": {
    "tags": []
   },
   "outputs": [],
   "source": [
    "# # Export to CSV\n",
    "\n",
    "final_combat_data_df_T.to_csv(os.getcwd() + \"\\\\combat_data.csv\", index=True)"
   ]
  },
  {
   "cell_type": "code",
   "execution_count": 39,
   "metadata": {
    "tags": []
   },
   "outputs": [
    {
     "data": {
      "text/plain": [
       "(19069, 42)"
      ]
     },
     "execution_count": 39,
     "metadata": {},
     "output_type": "execute_result"
    }
   ],
   "source": [
    "final_combat_data_df_T.shape"
   ]
  },
  {
   "cell_type": "code",
   "execution_count": null,
   "metadata": {},
   "outputs": [],
   "source": []
  }
 ],
 "metadata": {
  "kernelspec": {
   "display_name": "Python 3 (ipykernel)",
   "language": "python",
   "name": "python3"
  },
  "language_info": {
   "codemirror_mode": {
    "name": "ipython",
    "version": 3
   },
   "file_extension": ".py",
   "mimetype": "text/x-python",
   "name": "python",
   "nbconvert_exporter": "python",
   "pygments_lexer": "ipython3",
   "version": "3.11.5"
  }
 },
 "nbformat": 4,
 "nbformat_minor": 4
}
