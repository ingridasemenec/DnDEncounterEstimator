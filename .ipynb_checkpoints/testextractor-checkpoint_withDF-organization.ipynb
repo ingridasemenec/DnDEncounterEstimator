{
 "cells": [
  {
   "cell_type": "code",
   "execution_count": null,
   "metadata": {
    "tags": []
   },
   "outputs": [],
   "source": [
    "import pandas as pd\n",
    "import numpy as np\n",
    "import gzip\n",
    "import json\n",
    "import os\n",
    "import yaml\n",
    "from tqdm import tqdm\n",
    "import re"
   ]
  },
  {
   "cell_type": "code",
   "execution_count": null,
   "metadata": {
    "tags": []
   },
   "outputs": [],
   "source": [
    "# Code to take a peak at the data structure\n",
    "\n",
    "file_path = '/Users/noahwaller/Documents/GitHub/DnDFireballProject/anonymized/data/1669402286-23f22c8e-c0d5-4a5f-8137-44af8bf7a97e.jsonl.gz'\n",
    "\n",
    "logs = []\n",
    "with gzip.open(file_path, 'rt', encoding='utf-8') as file:\n",
    "        for line in file:\n",
    "            event = json.loads(line)\n",
    "            if event.get(\"event_type\") == \"combat_state_update\":\n",
    "                combat = event.get(\"data\")\n",
    "                for actor in combat.get(\"combatants\", []):\n",
    "                    if actor[\"type\"] == \"monster\":\n",
    "                        logs.append(actor)\n",
    "                        \n",
    "logs[1]"
   ]
  },
  {
   "cell_type": "code",
   "execution_count": null,
   "metadata": {
    "tags": []
   },
   "outputs": [],
   "source": [
    "# Main function that parses each combat session\n",
    "\n",
    "from collections import defaultdict\n",
    "combat_data = defaultdict(lambda: {\n",
    "     'start_time': None, \n",
    "     'player_ids': set(),\n",
    "     'player_info': {} \n",
    "})\n",
    "def process_file(file_path):\n",
    "    monsters_found = False\n",
    "    players_found = False\n",
    "    with gzip.open(file_path, 'rt', encoding='utf-8') as file:\n",
    "        for line in file:\n",
    "            event = json.loads(line)\n",
    "            if event.get(\"event_type\") == \"combat_state_update\":\n",
    "                combat = event.get(\"data\")\n",
    "                for actor in combat.get(\"combatants\", []):\n",
    "                    if actor[\"type\"] == \"monster\":\n",
    "                        monsters_found = True\n",
    "                    elif actor[\"type\"] == \"player\":\n",
    "                        players_found = True\n",
    "                    if monsters_found and players_found:\n",
    "                        break  # Break from the inner loop if both found\n",
    "                if monsters_found and players_found:\n",
    "                    break  # Break from the outer loop if both found\n",
    "\n",
    "    # If no monsters or players were found, return immediately\n",
    "    if not monsters_found or not players_found:\n",
    "        return None  # Or an appropriate indicator that the file was skipped\n",
    "    \n",
    "    \n",
    "\n",
    "    last_human_readable = {}\n",
    "\n",
    "    with gzip.open(file_path, 'rt', encoding='utf-8') as file:\n",
    "        for line in file:\n",
    "            event = json.loads(line)\n",
    "            combat_id = event.get(\"combat_id\")\n",
    "\n",
    "            # Checking for combat start and getting timestamp (dont think we actually need timestamp)\n",
    "            if event.get(\"event_type\") == \"combat_start\":\n",
    "                combat_data[combat_id]['start_time'] = event.get(\"timestamp\")\n",
    "\n",
    "            # counting players who joined initiative\n",
    "            elif event.get(\"event_type\") == \"command\" and event.get(\"command_name\") == \"init join\":\n",
    "                player_id = event.get(\"author_id\")\n",
    "                player_name = event.get(\"caster\", {}).get(\"name\", event.get(\"author_name\"))\n",
    "                combat_data[combat_id]['player_ids'].add(player_id)\n",
    "                combat_data[combat_id]['player_info'][player_name] = {'hp_ratio': None}\n",
    "                classes_dict = event['caster']['levels']['classes']\n",
    "                combat_data[combat_id]['player_info'][player_name]['class'] = list(classes_dict.items())\n",
    "\n",
    "\n",
    "            elif event.get(\"event_type\") == \"combat_state_update\":\n",
    "                combat = event.get(\"data\")\n",
    "                for actor in combat.get(\"combatants\", []):\n",
    "                    if actor[\"type\"] == \"monster\":\n",
    "                        # Ensure 'monsters' is initialized as a list if it doesn't already exist\n",
    "                        if 'monsters' not in combat_data[combat_id]:\n",
    "                            combat_data[combat_id]['monsters'] = []\n",
    "\n",
    "                        # Define a helper function to check if the monster is already added\n",
    "                        def monster_exists(monster_list, monster_id):\n",
    "                            return any(monster['monster_id'] == monster_id for monster in monster_list)\n",
    "\n",
    "                        # Check if this monster is already added, to avoid duplication\n",
    "                        if not monster_exists(combat_data[combat_id]['monsters'], actor[\"id\"]):\n",
    "                            # If the monster is not in the list, add it with all its details\n",
    "                            combat_data[combat_id]['monsters'].append({\n",
    "                                'monster_id': actor[\"id\"],\n",
    "                                'monster_code': actor[\"name\"],\n",
    "                                'monster_name': actor['monster_name'],\n",
    "                                'level': actor['levels']['total_level']\n",
    "                            })\n",
    "\n",
    "\n",
    "                #trying to get that human readable part\n",
    "                human_readable = event.get(\"human_readable\")\n",
    "\n",
    "                if human_readable:\n",
    "                    last_human_readable[combat_id] = human_readable\n",
    "  \n",
    "    # Grab player names from combat_data dictionary\n",
    "    player_names = ', '.join(str(key) for key in combat_data[combat_id]['player_info'].keys())\n",
    "    if len(player_names) != 0:\n",
    "        player_names = player_names.split(',')\n",
    "        player_names = [name.lstrip() for name in player_names]\n",
    "\n",
    "    \n",
    "\n",
    "\n",
    "    if last_human_readable[combat_id]:\n",
    "        # print(last_human_readable[combat_id])\n",
    "\n",
    "        # Iterating through player names and finding their health in the human_readable string\n",
    "        if len(player_names) != 0:\n",
    "            for player in player_names:\n",
    "                try: \n",
    "                    pattern = rf\"{player} <(\\d+)/(\\d+) HP>\"\n",
    "\n",
    "                    match = re.search(pattern, last_human_readable[combat_id])\n",
    "\n",
    "                    if match:\n",
    "                        current_hp, max_hp = match.groups()\n",
    "\n",
    "                        if player in combat_data[combat_id]['player_info'] and current_hp and max_hp:\n",
    "                            combat_data[combat_id]['player_info'][player]['hp_ratio'] = [int(current_hp), int(max_hp)]\n",
    "                        else:\n",
    "                            continue\n",
    "                except re.error:\n",
    "                    print(f\"Skipping due to an error with pattern: {pattern}\")\n",
    "                    continue\n",
    "\n",
    "\n",
    "#     # Processing the last human_readable to extract HP ratios (this is not working ....)\n",
    "#     for cid, human_readable in last_human_readable.items():\n",
    "#         pattern = r'\\d+: ([\\w\\s.-]+) <(\\d+/\\d+ HP)>'\n",
    "#         matches = re.findall(pattern, human_readable)\n",
    "\n",
    "#         for name, hp_ratio in matches:\n",
    "#             if name in combat_data[cid]['player_info']:\n",
    "#                 combat_data[cid]['player_info'][name]['hp_ratio'] = hp_ratio\n",
    "\n",
    "#     # Printing the last human_readable string for each combat ID\n",
    "#     for cid, human_readable in last_human_readable.items():\n",
    "#         print(f\"Last 'human_readable' for {cid}: {human_readable}\")\n",
    "\n",
    "    # # Creating the DataFrame from collected data\n",
    "    # processed_data = []\n",
    "    # for cid, data in combat_data.items():\n",
    "    #     processed_data.append({\n",
    "    #         \"combat_id\": cid,\n",
    "    #         \"start_time\": data['start_time'],\n",
    "    #         \"num_player_actors\": len(data['player_ids']),\n",
    "    #         \"player_info\": data['player_info'],\n",
    "    #         \"num_monster_actors\": len(data['monster_ids']),\n",
    "    #         \"monster_ids\": list(data['monster_ids']),\n",
    "    #         \"monster_names\": list(data['monster_names']),\n",
    "    #     })\n",
    "\n",
    "    # return pd.DataFrame(processed_data)\n",
    "    return combat_data\n",
    "    \n"
   ]
  },
  {
   "cell_type": "code",
   "execution_count": null,
   "metadata": {},
   "outputs": [],
   "source": [
    "# Define a file path\n",
    "file_path = '/Users/noahwaller/Documents/GitHub/DnDFireballProject/anonymized/data/1669407306-9f1295bf-4615-43d8-beab-b2027cb3ed97.jsonl.gz'\n",
    "\n",
    "# Process the file and create DataFrame\n",
    "combat_data = process_file(file_path)\n",
    "\n",
    "# # Export to CSV\n",
    "# csv_file_path = 'C:/Users/josep/OneDrive/Desktop/Erdos/anonymized/data/combat_analysis_with_hp.csv'\n",
    "# df.to_csv(csv_file_path, index=False)\n",
    "\n",
    "# print(f\"Data exported to CSV file at: {csv_file_path}\")\n",
    "\n",
    "combat_data"
   ]
  },
  {
   "cell_type": "code",
   "execution_count": null,
   "metadata": {
    "tags": []
   },
   "outputs": [],
   "source": [
    "# Function that takes the above function and iterates it over a directory of files\n",
    "\n",
    "directory_path = '/Users/noahwaller/Documents/GitHub/data-science-spring-2024-hardcopy/dnd_project/anonymized/data'\n",
    "files = [os.path.join(directory_path, f) for f in os.listdir(directory_path) if f.endswith('.jsonl.gz')]\n",
    "files = files[:500] #testing on a handful of 5\n",
    "def process_combat_files(file_paths):\n",
    "    combat_datas = {}  # This will store the combined data from all files\n",
    "\n",
    "    for file_path in tqdm(file_paths, desc=\"Processing files\"):\n",
    "        # Process each file to get its combat data\n",
    "        combat_data_latest = process_file(file_path)\n",
    "        \n",
    "        # If combat_data_latest is None (file was skipped), continue to the next file\n",
    "        if combat_data_latest is None:\n",
    "            continue\n",
    "\n",
    "        # Merge the data into combat_datas\n",
    "        # Assuming combat_data_latest contains data keyed by combat_id\n",
    "        for combat_id, data in combat_data_latest.items():\n",
    "            if combat_id in combat_datas:\n",
    "                # If combat_id already exists, merge or update data as needed\n",
    "                # This part depends on how you want to handle duplicate combat_ids\n",
    "                # For simplicity, let's just update the existing data with the new one\n",
    "                combat_datas[combat_id].update(data)\n",
    "            else:\n",
    "                # Add the new combat_id and its data to combat_datas\n",
    "                combat_datas[combat_id] = data\n",
    "\n",
    "    return combat_datas\n"
   ]
  },
  {
   "cell_type": "code",
   "execution_count": null,
   "metadata": {},
   "outputs": [],
   "source": [
    "\n",
    "final_combat_data = process_combat_files(files)\n"
   ]
  },
  {
   "cell_type": "code",
   "execution_count": null,
   "metadata": {
    "tags": []
   },
   "outputs": [],
   "source": [
    "final_combat_data[list(final_combat_data.keys())[np.random.randint(0,len(final_combat_data))]] # Randomly selecting an item from the list to see if the function is working properly"
   ]
  },
  {
   "cell_type": "code",
   "execution_count": null,
   "metadata": {
    "tags": []
   },
   "outputs": [],
   "source": [
    "len(final_combat_data)"
   ]
  },
  {
   "cell_type": "code",
   "execution_count": null,
   "metadata": {
    "tags": []
   },
   "outputs": [],
   "source": [
    "from tqdm import tqdm\n",
    "import numpy as np\n",
    "\n",
    "def calculate_averages_for_encounters(encounters_dict):\n",
    "    monster_levels = []  # List to accumulate monster levels\n",
    "    player_healths = []  # List to accumulate player health percentages\n",
    "\n",
    "    for encounter_name in tqdm(encounters_dict.keys(), desc=\"Calculating averages\"):\n",
    "        encounter_data = encounters_dict[encounter_name]\n",
    "\n",
    "        # Accumulate monster levels\n",
    "        total_level = sum(monster['level'] for monster in encounter_data['monsters'])\n",
    "        monster_levels.append(total_level) if encounter_data['monsters'] else 0\n",
    "\n",
    "        # Handle missing or None hp_ratio\n",
    "        player_infos = encounter_data['player_info'].values()\n",
    "        total_health_ratio = sum(player['hp_ratio'][0] for player in player_infos if player.get('hp_ratio'))\n",
    "        total_max_health = sum(player['hp_ratio'][1] for player in player_infos if player.get('hp_ratio'))\n",
    "        \n",
    "        # Calculate and accumulate average health left over, handling division by zero\n",
    "        if total_max_health > 0:\n",
    "            player_healths.append(total_health_ratio / total_max_health * 100)\n",
    "        else:\n",
    "            player_healths.append(0)  # Default value or handle as appropriate\n",
    "\n",
    "    # Convert lists to NumPy arrays for final calculation\n",
    "    monster_levels_array = np.array(monster_levels)\n",
    "    player_healths_array = np.array(player_healths)\n",
    "\n",
    "    # Calculate overall averages\n",
    "    monster_average = np.mean(monster_levels_array)\n",
    "    player_average = np.mean(player_healths_array)\n",
    "\n",
    "    return monster_levels, player_healths, monster_average, player_average\n",
    "\n",
    "\n",
    "mls,phs, monster_average, player_average = calculate_averages_for_encounters(final_combat_data)"
   ]
  },
  {
   "cell_type": "code",
   "execution_count": null,
   "metadata": {
    "tags": []
   },
   "outputs": [],
   "source": [
    "\n",
    "final_combat_data[list(final_combat_data.keys())[0]]"
   ]
  },
  {
   "cell_type": "code",
   "execution_count": null,
   "metadata": {
    "tags": []
   },
   "outputs": [],
   "source": [
    "monster_average, player_average"
   ]
  },
  {
   "cell_type": "markdown",
   "metadata": {},
   "source": [
    "Conversion to Dataframe, Transposition, and Variable Organization Begins Here"
   ]
  },
  {
   "cell_type": "code",
   "execution_count": null,
   "metadata": {},
   "outputs": [],
   "source": [
    "# create dataframe from final dictionary\n",
    "final_combat_data_df = pd.DataFrame.from_dict(final_combat_data)"
   ]
  },
  {
   "cell_type": "code",
   "execution_count": null,
   "metadata": {},
   "outputs": [],
   "source": [
    "# transpose dataframe to improve readability\n",
    "final_combat_data_df_T = final_combat_data_df.transpose()\n",
    "final_combat_data_df_T"
   ]
  },
  {
   "cell_type": "code",
   "execution_count": null,
   "metadata": {},
   "outputs": [],
   "source": [
    "# add column for party size (read from number of player_ids)\n",
    "player_number_list = []\n",
    "\n",
    "for index, row in final_combat_data_df_T.iterrows():\n",
    "  num_players_val = len(row['player_ids'])\n",
    "  player_number_list.append(num_players_val)\n",
    "\n",
    "final_combat_data_df_T['party_size']  = player_number_list"
   ]
  },
  {
   "cell_type": "code",
   "execution_count": null,
   "metadata": {},
   "outputs": [],
   "source": [
    "# parsing player info (read from player_info)\n",
    "# column for class and level\n",
    "party_class_list = []\n",
    "\n",
    "for index, row in final_combat_data_df_T.iterrows():\n",
    "  row_dict = row['player_info']\n",
    "  party_classes_and_levels = [val.get('class') for val in row_dict.values()]\n",
    "  party_class_list.append(party_classes_and_levels)\n",
    "\n",
    "final_combat_data_df_T['party_classes_with_level']  = party_class_list"
   ]
  },
  {
   "cell_type": "code",
   "execution_count": null,
   "metadata": {},
   "outputs": [],
   "source": [
    "# column for total party level\n",
    "party_total_level_list = []\n",
    "\n",
    "for index, row in final_combat_data_df_T.iterrows():\n",
    "  row_dict = row['party_classes_with_level']\n",
    "  party_total_level = 0\n",
    "  for x in row_dict:\n",
    "    for y in x:\n",
    "      class_level = y[-1]\n",
    "      party_total_level = party_total_level + class_level\n",
    "  party_total_level_list.append(party_total_level)\n",
    "\n",
    "final_combat_data_df_T['party_total_level']  = party_total_level_list"
   ]
  },
  {
   "cell_type": "code",
   "execution_count": null,
   "metadata": {},
   "outputs": [],
   "source": [
    "# column for party class composition\n",
    "party_total_class_composition_list = []\n",
    "\n",
    "for index, row in final_combat_data_df_T.iterrows():\n",
    "  row_dict = row['party_classes_with_level']\n",
    "  party_class_composition_list = []\n",
    "  for x in row_dict:\n",
    "    for y in x:\n",
    "      class_type = y[0]\n",
    "      party_class_composition_list.append(class_type)\n",
    "  party_total_class_composition_list.append(party_class_composition_list)\n",
    "\n",
    "final_combat_data_df_T['party_total_class_composition']  = party_total_class_composition_list"
   ]
  },
  {
   "cell_type": "code",
   "execution_count": null,
   "metadata": {},
   "outputs": [],
   "source": [
    "# column for HP ratios (by party member)\n",
    "player_individual_hpratio_list = []\n",
    "\n",
    "for index, row in final_combat_data_df_T.iterrows():\n",
    "  row_dict = row['player_info']\n",
    "  player_hpratio = [val.get('hp_ratio') for val in row_dict.values()]\n",
    "  player_individual_hpratio_list.append(player_hpratio)\n",
    "\n",
    "final_combat_data_df_T['player_individual_hp_ratios']  = player_individual_hpratio_list"
   ]
  },
  {
   "cell_type": "code",
   "execution_count": null,
   "metadata": {},
   "outputs": [],
   "source": [
    "#rename monsters column to monsters_info\n",
    "final_combat_data_df_T.rename(columns = {'monsters':'monsters_info'}, inplace = True) "
   ]
  },
  {
   "cell_type": "code",
   "execution_count": null,
   "metadata": {},
   "outputs": [],
   "source": [
    "# parsing monster info (read from monsters_info)\n",
    "# column for total number of monsters\n",
    "monster_number_list = []\n",
    "\n",
    "for index, row in final_combat_data_df_T.iterrows():\n",
    "  num_monsters_val = sum(1 for i in row['monsters_info'] if type(i) == dict)\n",
    "  monster_number_list.append(num_monsters_val)\n",
    "\n",
    "final_combat_data_df_T['monster_number']  = monster_number_list"
   ]
  },
  {
   "cell_type": "code",
   "execution_count": null,
   "metadata": {},
   "outputs": [],
   "source": [
    "# column for monster types\n",
    "monster_type_total_list = []\n",
    "\n",
    "for index, row in final_combat_data_df_T.iterrows():\n",
    "  row_dict = row['monsters_info']\n",
    "  monster_type_list = []\n",
    "  for dic in row_dict:\n",
    "    monster_type_list.append(dic['monster_name'])\n",
    "  monster_type_total_list.append(monster_type_list)\n",
    "\n",
    "\n",
    "final_combat_data_df_T['monster_types']  = monster_type_total_list"
   ]
  },
  {
   "cell_type": "code",
   "execution_count": null,
   "metadata": {},
   "outputs": [],
   "source": [
    "# column for monster total level\n",
    "monster_level_total_list = []\n",
    "\n",
    "for index, row in final_combat_data_df_T.iterrows():\n",
    "    row_dict = row['monsters_info']\n",
    "    monster_level_list = []\n",
    "    monster_level_sum = 0\n",
    "    for dic in row_dict:\n",
    "        monster_level = int(dic['level'])\n",
    "        monster_level_list.append(monster_level)\n",
    "    monster_level_sum = sum(monster_level_list)\n",
    "    monster_level_total_list.append(monster_level_sum)\n",
    "\n",
    "final_combat_data_df_T['monster_total_level']  = monster_level_total_list"
   ]
  },
  {
   "cell_type": "code",
   "execution_count": null,
   "metadata": {},
   "outputs": [],
   "source": [
    "#check updated dataframe\n",
    "final_combat_data_df_T"
   ]
  },
  {
   "cell_type": "code",
   "execution_count": null,
   "metadata": {},
   "outputs": [],
   "source": [
    "# # Export to CSV\n",
    "csv_file_path = '/Users/noahwaller/Documents/final_combat_data_df_T_03-22.csv'\n",
    "final_combat_data_df_T.to_csv(csv_file_path, index=False)"
   ]
  }
 ],
 "metadata": {
  "kernelspec": {
   "display_name": "Python 3 (ipykernel)",
   "language": "python",
   "name": "python3"
  },
  "language_info": {
   "codemirror_mode": {
    "name": "ipython",
    "version": 3
   },
   "file_extension": ".py",
   "mimetype": "text/x-python",
   "name": "python",
   "nbconvert_exporter": "python",
   "pygments_lexer": "ipython3",
   "version": "3.11.7"
  }
 },
 "nbformat": 4,
 "nbformat_minor": 4
}
