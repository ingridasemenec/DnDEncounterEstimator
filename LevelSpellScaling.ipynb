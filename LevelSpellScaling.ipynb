{
 "cells": [
  {
   "cell_type": "code",
   "execution_count": 2,
   "metadata": {
    "tags": []
   },
   "outputs": [],
   "source": [
    "import pandas as pd"
   ]
  },
  {
   "cell_type": "code",
   "execution_count": 3,
   "metadata": {
    "tags": []
   },
   "outputs": [],
   "source": [
    "\n",
    "# Load the CSV file\n",
    "df = pd.read_csv('filtered_24_4_17.csv')\n"
   ]
  },
  {
   "cell_type": "code",
   "execution_count": 4,
   "metadata": {
    "tags": []
   },
   "outputs": [],
   "source": [
    "\n",
    "# Function to calculate the weighted monster level\n",
    "def weighted_monster_level(row):\n",
    "    monster_number = row['monster_number']\n",
    "    monster_level = row['monster_total_level']\n",
    "\n",
    "    if monster_number == 1:\n",
    "        multiplier = 1\n",
    "    elif monster_number == 2:\n",
    "        multiplier = 1.5\n",
    "    elif 3 <= monster_number <= 6:\n",
    "        multiplier = 2\n",
    "    elif 7 <= monster_number <= 10:\n",
    "        multiplier = 2.5\n",
    "    elif 11 <= monster_number <= 14:\n",
    "        multiplier = 3\n",
    "    else:  # 15 or more\n",
    "        multiplier = 4\n",
    "    \n",
    "    return monster_level * multiplier\n",
    "\n",
    "# Apply the function to create a new column\n",
    "df['weighted_monster_level'] = df.apply(weighted_monster_level, axis=1)\n",
    "\n",
    "\n"
   ]
  },
  {
   "cell_type": "code",
   "execution_count": 5,
   "metadata": {
    "tags": []
   },
   "outputs": [],
   "source": [
    "#Now lest add the scalling for spell slots. There's no sure way to truly weigh the spells but we can try to take the spell point table from page 289 of DMG to add some weight values to each level spell\n",
    "# The point values for each spell slot level\n",
    "slot_weights = {\n",
    "    'party_level1_spellslots': 6,\n",
    "    'party_level2_spellslots': 17,\n",
    "    'party_level3_spellslots': 32,\n",
    "    'party_level4_spellslots': 44,\n",
    "    'party_level5_spellslots': 64,\n",
    "    'party_level6_spellslots': 73,\n",
    "    'party_level7_spellslots': 83,\n",
    "    'party_level8_spellslots': 94,\n",
    "    'party_level9_spellslots': 133\n",
    "}\n",
    "\n",
    "# Function to calculate weighted spell slots\n",
    "def calculate_weighted_spell_slots(row):\n",
    "    total_weighted_slots = 0\n",
    "    for slot_level, weight in slot_weights.items():\n",
    "        total_weighted_slots += row[slot_level] * weight\n",
    "    return total_weighted_slots\n",
    "\n",
    "# Apply the function to create a new column\n",
    "df['weighted_spell_slots'] = df.apply(calculate_weighted_spell_slots, axis=1)"
   ]
  },
  {
   "cell_type": "code",
   "execution_count": 10,
   "metadata": {
    "tags": []
   },
   "outputs": [
    {
     "data": {
      "text/plain": [
       "Index(['combat_id', 'start_time', 'number_of_rounds', 'player_ids',\n",
       "       'player_info', 'monsters_info', 'party_size', 'total_slots',\n",
       "       'total_max_slots', 'party_classes_with_level',\n",
       "       'party_total_class_composition', 'player_individual_hp_ratios',\n",
       "       'player_individual_ac', 'player_individual_prof_bonus',\n",
       "       'player_individual_strength', 'player_individual_dexterity',\n",
       "       'player_individual_constitution', 'player_individual_intelligence',\n",
       "       'player_individual_wisdom', 'player_individual_charisma',\n",
       "       'monster_types', 'monster_number', 'monster_total_level',\n",
       "       'party_total_level', 'party_level1_spellslots',\n",
       "       'party_level2_spellslots', 'party_level3_spellslots',\n",
       "       'party_level4_spellslots', 'party_level5_spellslots',\n",
       "       'party_level6_spellslots', 'party_level7_spellslots',\n",
       "       'party_level8_spellslots', 'party_level9_spellslots', 'party_total_ac',\n",
       "       'party_total_precombat_hp', 'party_total_postcombat_hp',\n",
       "       'party_total_hpratio', 'party_total_prof_bonus', 'party_total_strength',\n",
       "       'party_total_dexterity', 'party_total_constitution',\n",
       "       'party_total_intelligence', 'party_total_wisdom',\n",
       "       'party_total_charisma', 'player_monster_ratio', 'monster_player_ratio',\n",
       "       'party_max_hp', 'Wizard', 'Monk', 'Rogue', 'Paladin', 'Sorcerer',\n",
       "       'Barbarian', 'Bard', 'Druid', 'Warlock', 'Fighter', 'Blood Hunter',\n",
       "       'Ranger', 'Cleric', 'martial_percentage', 'spellcaster_percentage',\n",
       "       'hybrid_percentage', 'weighted_monster_level', 'weighted_spell_slots'],\n",
       "      dtype='object')"
      ]
     },
     "execution_count": 10,
     "metadata": {},
     "output_type": "execute_result"
    }
   ],
   "source": [
    "df.columns"
   ]
  },
  {
   "cell_type": "code",
   "execution_count": 9,
   "metadata": {
    "tags": []
   },
   "outputs": [],
   "source": [
    "csv_file_path = './scaled_filtered_24_4_17.csv'\n",
    "df.to_csv(csv_file_path, index=False)"
   ]
  }
 ],
 "metadata": {
  "kernelspec": {
   "display_name": "Python 3 (ipykernel)",
   "language": "python",
   "name": "python3"
  },
  "language_info": {
   "codemirror_mode": {
    "name": "ipython",
    "version": 3
   },
   "file_extension": ".py",
   "mimetype": "text/x-python",
   "name": "python",
   "nbconvert_exporter": "python",
   "pygments_lexer": "ipython3",
   "version": "3.11.5"
  }
 },
 "nbformat": 4,
 "nbformat_minor": 4
}
