{
 "cells": [
  {
   "cell_type": "markdown",
   "metadata": {},
   "source": [
    "# Libraries"
   ]
  },
  {
   "cell_type": "code",
   "execution_count": 21,
   "metadata": {
    "tags": []
   },
   "outputs": [],
   "source": [
    "import numpy as np\n",
    "import pandas as pd\n",
    "import json\n",
    "import glob\n",
    "import ast\n",
    "import gzip\n",
    "import os\n",
    "import yaml\n",
    "from tqdm import tqdm\n",
    "import re\n",
    "from collections import defaultdict\n",
    "import seaborn as sns\n",
    "import matplotlib.pyplot as plt"
   ]
  },
  {
   "cell_type": "code",
   "execution_count": 48,
   "metadata": {
    "tags": []
   },
   "outputs": [],
   "source": [
    "# Load data\n",
    "\n",
    "df = pd.read_csv('../extracted_data_24_4_9.csv')"
   ]
  },
  {
   "cell_type": "markdown",
   "metadata": {
    "tags": []
   },
   "source": [
    "# Functions"
   ]
  },
  {
   "cell_type": "code",
   "execution_count": 49,
   "metadata": {
    "tags": []
   },
   "outputs": [],
   "source": [
    "### Run this code on the unfiltered CSV that was extracted from the raw data\n",
    "\n",
    "# Applying some reasonable filters\n",
    "\n",
    "def filter_std_player_classes_monsters(df):\n",
    "    # Convert the list of standard classes to a set for faster membership checks\n",
    "    standard_classes = {\n",
    "        'Barbarian', 'Bard', 'Cleric', 'Druid', 'Fighter', 'Monk', \n",
    "        'Paladin', 'Ranger', 'Rogue', 'Sorcerer', 'Warlock', 'Wizard', 'Blood Hunter'\n",
    "    }\n",
    "\n",
    "    def are_all_classes_standard(player_list_str):\n",
    "        # Convert the string representation of the list only once\n",
    "        player_list = ast.literal_eval(player_list_str)\n",
    "        for player in player_list:\n",
    "            # Iterate through each class information tuple\n",
    "            for class_info in player['class']:\n",
    "                # Check against the set of standard classes\n",
    "                if class_info[0].strip() not in standard_classes:\n",
    "                    return False\n",
    "        return True\n",
    "    \n",
    "    # Filter rows based on player_info\n",
    "    tqdm.pandas(desc=\"Filtering Players\")\n",
    "    df_filtered = df[df['player_info'].progress_apply(are_all_classes_standard)]\n",
    "    \n",
    "    # Filter rows based on monsters_info\n",
    "    df_filtered = df_filtered[df_filtered['monsters_info'] != \"[]\"]\n",
    "\n",
    "    # Filter rows based on party total hpratio\n",
    "    df_filtered = df_filtered.dropna(subset=['party_total_hpratio'])\n",
    "    \n",
    "    # Filter rows based on party_total_precombat_hp\n",
    "    df_filtered = df_filtered[df_filtered['party_total_precombat_hp']<1e10]\n",
    "\n",
    "    # Filter rows based on party_total_precombat_hp\n",
    "    df_filtered = df_filtered[df_filtered['party_total_postcombat_hp']<1e10]\n",
    "    \n",
    "    return df_filtered"
   ]
  },
  {
   "cell_type": "code",
   "execution_count": 50,
   "metadata": {
    "tags": []
   },
   "outputs": [
    {
     "name": "stderr",
     "output_type": "stream",
     "text": [
      "Filtering Players: 100%|██████████| 24748/24748 [00:07<00:00, 3446.60it/s]\n"
     ]
    }
   ],
   "source": [
    "filtered_df = filter_std_player_classes_monsters(df)\n"
   ]
  },
  {
   "cell_type": "code",
   "execution_count": 51,
   "metadata": {
    "tags": []
   },
   "outputs": [
    {
     "data": {
      "text/plain": [
       "(10842, 43)"
      ]
     },
     "execution_count": 51,
     "metadata": {},
     "output_type": "execute_result"
    }
   ],
   "source": [
    "# Applying agreed upon filters\n",
    "\n",
    "\n",
    "# Dropping party sizes below 10\n",
    "filtered_df = filtered_df[filtered_df['party_size'] < 10]\n",
    "\n",
    "\n",
    "rows_to_drop = []\n",
    "\n",
    "# Dropping levels above 20\n",
    "for index, row in filtered_df.iterrows():\n",
    "    player_info = ast.literal_eval(row['player_info'])\n",
    "    for d in player_info:\n",
    "        total_lvl = sum(class_lvl[1] for class_lvl in d['class'])\n",
    "        if total_lvl > 20:\n",
    "            rows_to_drop.append(index)\n",
    "            break  # No need to check further dicts in this row\n",
    "\n",
    "filtered_df = filtered_df.drop(rows_to_drop)\n",
    "\n",
    "\n",
    "rows_to_drop = []\n",
    "\n",
    "# Droping those with either no hp ratio or hp's above 350\n",
    "for index, row in filtered_df.iterrows():\n",
    "    player_info = ast.literal_eval(row['player_info'])\n",
    "    for d in player_info:\n",
    "        # Corrected the check for None\n",
    "        if d['hp_ratio'] is None:\n",
    "            rows_to_drop.append(index)  # Appending index for consistency\n",
    "            break  # Exit the loop after finding the condition met\n",
    "        else:\n",
    "            max_health = d['hp_ratio'][1]\n",
    "            if max_health > 350:\n",
    "                rows_to_drop.append(index)\n",
    "                break  # No need to check further dicts in this row\n",
    "\n",
    "                \n",
    "filtered_df = filtered_df.drop(rows_to_drop)\n",
    "\n",
    "\n",
    "rows_to_drop = []\n",
    "\n",
    "# Dropping those either with no AC value(s) or AC's above 38\n",
    "for index, row in filtered_df.iterrows():\n",
    "    player_info = ast.literal_eval(row['player_info'])\n",
    "    for d in player_info:\n",
    "        # Corrected the check for None\n",
    "        if d['ac'] is None:\n",
    "            rows_to_drop.append(index)  # Appending index for consistency\n",
    "            break  # Exit the loop after finding the condition met\n",
    "        else:\n",
    "            ac = d['ac']\n",
    "            if ac > 38:\n",
    "                rows_to_drop.append(index)\n",
    "                break  # No need to check further dicts in this row\n",
    "\n",
    "\n",
    "filtered_df = filtered_df.drop(rows_to_drop)\n",
    "\n",
    "\n",
    "# Dropping who either do not have an ability score or if an ability score is above 22\n",
    "stats = ['strength', 'dexterity', 'constitution', 'intelligence', 'wisdom', 'charisma']\n",
    "\n",
    "rows_to_drop = []\n",
    "for index, row in filtered_df.iterrows():\n",
    "    player_info = ast.literal_eval(row['player_info'])\n",
    "    for d in player_info:\n",
    "        # Check if 'stats' is None\n",
    "        if d['stats'] is None:\n",
    "            rows_to_drop.append(index)  # Appending index for consistency\n",
    "            break  # Exit the loop after finding the condition met\n",
    "        else:\n",
    "            # Iterate over the items in the 'stats' dictionary\n",
    "            for key, value in d['stats'].items():\n",
    "                if key in stats and value > 22:\n",
    "                    rows_to_drop.append(index)\n",
    "                    break  # Exit the loop after finding a stat greater than 22\n",
    "\n",
    "\n",
    "filtered_df = filtered_df.drop(rows_to_drop)\n",
    "\n",
    "filtered_df.shape"
   ]
  },
  {
   "cell_type": "code",
   "execution_count": 52,
   "metadata": {
    "tags": []
   },
   "outputs": [],
   "source": [
    "# Adding player to monster and monster to player ratios \n",
    "filtered_df['player_monster_ratio'] = filtered_df['party_size']/filtered_df['monster_number']\n",
    "\n",
    "filtered_df['monster_player_ratio'] = filtered_df['monster_number']/filtered_df['party_size']\n",
    "\n",
    "# Creating empty column for party_max_hp\n",
    "filtered_df['party_max_hp'] = 0\n",
    "\n",
    "# Correcting total_precombat_hp column and calculating party max hp\n",
    "for index, row in filtered_df.iterrows():\n",
    "    precombat_hp = 0\n",
    "    max_hp = 0\n",
    "    player_info = ast.literal_eval(row['player_info'])\n",
    "    for h in player_info:\n",
    "        precombat_hp += h.get('health_begin', 0)  # Use .get to avoid KeyError if 'health_begin' is missing\n",
    "        max_hp += h['hp_ratio'][1]  # Assuming 'hp_ratio' always exists and has two elements\n",
    "\n",
    "    # Assign calculated values back to the DataFrame\n",
    "    filtered_df.at[index, 'party_total_precombat_hp'] = precombat_hp\n",
    "    filtered_df.at[index, 'party_max_hp'] = max_hp\n",
    "\n",
    "    # Calculate 'party_total_hpratio'\n",
    "    if precombat_hp == 0:\n",
    "        filtered_df.at[index, 'party_total_hpratio'] = 0\n",
    "    else:\n",
    "        filtered_df.at[index, 'party_total_hpratio'] = row['party_total_postcombat_hp'] / precombat_hp"
   ]
  },
  {
   "cell_type": "code",
   "execution_count": 53,
   "metadata": {
    "tags": []
   },
   "outputs": [],
   "source": [
    "# One-hot encoding all the classews\n",
    "\n",
    "filtered_df['party_total_class_composition'] = filtered_df['party_total_class_composition'].apply(lambda x: ast.literal_eval(x))\n",
    "\n",
    "# Get all unique classes\n",
    "all_classes_str = set(class_name.strip() for sublist in filtered_df['party_total_class_composition'] for class_name in sublist)\n",
    "\n",
    "# Initialize columns for each class with zeros\n",
    "for class_name in all_classes_str:\n",
    "    filtered_df[class_name] = 0\n",
    "\n",
    "# Fill in the DataFrame with one-hot encoding\n",
    "for index, row in filtered_df.iterrows():\n",
    "    corrected_class_names = []\n",
    "    for class_name in row['party_total_class_composition']:\n",
    "        # Correct the class name if needed\n",
    "        if class_name == 'Barbarian ':\n",
    "            class_name = 'Barbarian'\n",
    "        corrected_class_names.append(class_name)\n",
    "        filtered_df.at[index, class_name.strip()] = 1\n",
    "    # Update the row with corrected class names if necessary\n",
    "    filtered_df.at[index, 'party_total_class_composition'] = corrected_class_names\n",
    "\n"
   ]
  },
  {
   "cell_type": "code",
   "execution_count": 54,
   "metadata": {
    "tags": []
   },
   "outputs": [
    {
     "data": {
      "text/plain": [
       "(10842, 59)"
      ]
     },
     "execution_count": 54,
     "metadata": {},
     "output_type": "execute_result"
    }
   ],
   "source": [
    "filtered_df.shape"
   ]
  },
  {
   "cell_type": "code",
   "execution_count": 55,
   "metadata": {
    "tags": []
   },
   "outputs": [
    {
     "data": {
      "text/plain": [
       "Index(['combat_id', 'start_time', 'player_ids', 'player_info', 'monsters_info',\n",
       "       'party_size', 'total_slots', 'total_max_slots',\n",
       "       'party_classes_with_level', 'party_total_class_composition',\n",
       "       'player_individual_hp_ratios', 'player_individual_ac',\n",
       "       'player_individual_prof_bonus', 'player_individual_strength',\n",
       "       'player_individual_dexterity', 'player_individual_constitution',\n",
       "       'player_individual_intelligence', 'player_individual_wisdom',\n",
       "       'player_individual_charisma', 'monster_types', 'monster_number',\n",
       "       'monster_total_level', 'party_total_level', 'party_level1_spellslots',\n",
       "       'party_level2_spellslots', 'party_level3_spellslots',\n",
       "       'party_level4_spellslots', 'party_level5_spellslots',\n",
       "       'party_level6_spellslots', 'party_level7_spellslots',\n",
       "       'party_level8_spellslots', 'party_level9_spellslots', 'party_total_ac',\n",
       "       'party_total_precombat_hp', 'party_total_postcombat_hp',\n",
       "       'party_total_hpratio', 'party_total_prof_bonus', 'party_total_strength',\n",
       "       'party_total_dexterity', 'party_total_constitution',\n",
       "       'party_total_intelligence', 'party_total_wisdom',\n",
       "       'party_total_charisma', 'player_monster_ratio', 'monster_player_ratio',\n",
       "       'party_max_hp', 'Cleric', 'Druid', 'Monk', 'Blood Hunter', 'Bard',\n",
       "       'Paladin', 'Sorcerer', 'Barbarian', 'Ranger', 'Rogue', 'Fighter',\n",
       "       'Wizard', 'Warlock'],\n",
       "      dtype='object')"
      ]
     },
     "execution_count": 55,
     "metadata": {},
     "output_type": "execute_result"
    }
   ],
   "source": [
    "filtered_df.columns"
   ]
  },
  {
   "cell_type": "code",
   "execution_count": 56,
   "metadata": {
    "tags": []
   },
   "outputs": [],
   "source": [
    "filtered_df.to_csv('filtered_24_4_10')"
   ]
  },
  {
   "cell_type": "code",
   "execution_count": null,
   "metadata": {},
   "outputs": [],
   "source": []
  }
 ],
 "metadata": {
  "kernelspec": {
   "display_name": "Python 3 (ipykernel)",
   "language": "python",
   "name": "python3"
  },
  "language_info": {
   "codemirror_mode": {
    "name": "ipython",
    "version": 3
   },
   "file_extension": ".py",
   "mimetype": "text/x-python",
   "name": "python",
   "nbconvert_exporter": "python",
   "pygments_lexer": "ipython3",
   "version": "3.11.5"
  }
 },
 "nbformat": 4,
 "nbformat_minor": 4
}
