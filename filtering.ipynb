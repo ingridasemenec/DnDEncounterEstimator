{
 "cells": [
  {
   "cell_type": "markdown",
   "metadata": {},
   "source": [
    "# Libraries"
   ]
  },
  {
   "cell_type": "code",
   "execution_count": 1,
   "metadata": {},
   "outputs": [],
   "source": [
    "import numpy as np\n",
    "import pandas as pd\n",
    "import json\n",
    "import glob\n",
    "import ast\n",
    "import gzip\n",
    "import os\n",
    "import yaml\n",
    "from tqdm import tqdm\n",
    "import re\n",
    "from collections import defaultdict"
   ]
  },
  {
   "cell_type": "markdown",
   "metadata": {},
   "source": [
    "# Functions"
   ]
  },
  {
   "cell_type": "code",
   "execution_count": 2,
   "metadata": {},
   "outputs": [],
   "source": [
    "def filter_std_player_classes_monsters(df):\n",
    "    # Convert the list of standard classes to a set for faster membership checks\n",
    "    standard_classes = {\n",
    "        'Barbarian', 'Bard', 'Cleric', 'Druid', 'Fighter', 'Monk', \n",
    "        'Paladin', 'Ranger', 'Rogue', 'Sorcerer', 'Warlock', 'Wizard', 'Blood Hunter'\n",
    "    }\n",
    "\n",
    "    def are_all_classes_standard(player_list_str):\n",
    "        # Convert the string representation of the list only once\n",
    "        player_list = ast.literal_eval(player_list_str)\n",
    "        for player in player_list:\n",
    "            # Iterate through each class information tuple\n",
    "            for class_info in player['class']:\n",
    "                # Check against the set of standard classes\n",
    "                if class_info[0].strip() not in standard_classes:\n",
    "                    return False\n",
    "        return True\n",
    "    \n",
    "    # Filter rows based on player_info\n",
    "    tqdm.pandas(desc=\"Filtering Players\")\n",
    "    df_filtered = df[df['player_info'].progress_apply(are_all_classes_standard)]\n",
    "    \n",
    "    # Filter rows based on monsters_info\n",
    "    df_filtered = df_filtered[df_filtered['monsters_info'] != \"[]\"]\n",
    "    \n",
    "    return df_filtered"
   ]
  },
  {
   "cell_type": "markdown",
   "metadata": {},
   "source": [
    "# Workflow"
   ]
  },
  {
   "cell_type": "code",
   "execution_count": 3,
   "metadata": {},
   "outputs": [
    {
     "name": "stdout",
     "output_type": "stream",
     "text": [
      "(24748, 44)\n"
     ]
    },
    {
     "name": "stderr",
     "output_type": "stream",
     "text": [
      "Filtering Players: 100%|██████████| 24748/24748 [00:06<00:00, 3840.21it/s]\n"
     ]
    },
    {
     "name": "stdout",
     "output_type": "stream",
     "text": [
      "(14824, 44)\n"
     ]
    }
   ],
   "source": [
    "combat_data_df = pd.read_csv(\"final_combat_data_df_03-25_FULL.csv\")\n",
    "print(combat_data_df.shape)\n",
    "\n",
    "combat_data_filtered_df = filter_std_player_classes_monsters(combat_data_df)\n",
    "print(combat_data_filtered_df.shape)"
   ]
  },
  {
   "cell_type": "code",
   "execution_count": 4,
   "metadata": {},
   "outputs": [],
   "source": [
    "csv_file_path = './filtered_combat_data_df.csv'\n",
    "combat_data_filtered_df.to_csv(csv_file_path, index=True)"
   ]
  },
  {
   "cell_type": "code",
   "execution_count": null,
   "metadata": {},
   "outputs": [],
   "source": []
  }
 ],
 "metadata": {
  "kernelspec": {
   "display_name": "Python 3",
   "language": "python",
   "name": "python3"
  },
  "language_info": {
   "codemirror_mode": {
    "name": "ipython",
    "version": 3
   },
   "file_extension": ".py",
   "mimetype": "text/x-python",
   "name": "python",
   "nbconvert_exporter": "python",
   "pygments_lexer": "ipython3",
   "version": "3.11.7"
  }
 },
 "nbformat": 4,
 "nbformat_minor": 2
}
