{
 "cells": [
  {
   "cell_type": "markdown",
   "metadata": {},
   "source": [
    "# Libraries"
   ]
  },
  {
   "cell_type": "code",
   "execution_count": 1,
   "metadata": {
    "tags": []
   },
   "outputs": [],
   "source": [
    "import numpy as np\n",
    "import pandas as pd\n",
    "import json\n",
    "import glob\n",
    "import ast\n",
    "import gzip\n",
    "import os\n",
    "import ast\n",
    "from tqdm import tqdm\n",
    "import re\n",
    "from collections import defaultdict\n",
    "import seaborn as sns\n",
    "import matplotlib.pyplot as plt"
   ]
  },
  {
   "cell_type": "code",
   "execution_count": 2,
   "metadata": {
    "tags": []
   },
   "outputs": [],
   "source": [
    "# Load data\n",
    "\n",
    "df = pd.read_csv('extracted_data.csv')"
   ]
  },
  {
   "cell_type": "markdown",
   "metadata": {
    "tags": []
   },
   "source": [
    "# Functions"
   ]
  },
  {
   "cell_type": "code",
   "execution_count": 3,
   "metadata": {
    "tags": []
   },
   "outputs": [],
   "source": [
    "# Applying some reasonable filters\n",
    "\n",
    "# Filtering for standard classes\n",
    "def filter_std_player_classes_monsters(df):\n",
    "    # Convert the list of standard classes to a set for faster membership checks\n",
    "    standard_classes = {\n",
    "        'Barbarian', 'Bard', 'Cleric', 'Druid', 'Fighter', 'Monk', \n",
    "        'Paladin', 'Ranger', 'Rogue', 'Sorcerer', 'Warlock', 'Wizard', 'Blood Hunter'\n",
    "    }\n",
    "    loss = {'initial': df.shape[0]}\n",
    "\n",
    "    def are_all_classes_standard(player_list_str):\n",
    "        # Convert the string representation of the list only once\n",
    "        player_list = ast.literal_eval(player_list_str)\n",
    "        for player in player_list:\n",
    "            # Iterate through each class information tuple\n",
    "            for class_info in player['class']:\n",
    "                # Check against the set of standard classes\n",
    "                if class_info[0].strip() not in standard_classes:\n",
    "                    return False\n",
    "        return True\n",
    "    \n",
    "    # Filter rows based on player_info\n",
    "    tqdm.pandas(desc=\"Filtering Players\")\n",
    "    df_filtered = df[df['player_info'].progress_apply(are_all_classes_standard)]\n",
    "    loss['removal of standard classes'] = df_filtered.shape[0]\n",
    "    \n",
    "    # Grabbing only those combat instances that have monsters\n",
    "    df_filtered = df_filtered[df_filtered['monsters_info'] != \"[]\"]\n",
    "    loss['removal of combat instances with no combat'] = df_filtered.shape[0]\n",
    "\n",
    "    # Grabbing only combat instances that have health information\n",
    "    df_filtered = df_filtered.dropna(subset=['party_total_hpratio'])\n",
    "    loss['removal of combats with no health information'] = df_filtered.shape[0]\n",
    "    \n",
    "    # Filtering out rows with extreme precombat health values\n",
    "    df_filtered = df_filtered[df_filtered['party_total_precombat_hp']<1e10]\n",
    "    loss['removal of extreme pre-combat hp'] = df_filtered.shape[0]\n",
    "\n",
    "    # Filtering out rows with extreme postcombat health values\n",
    "    df_filtered = df_filtered[df_filtered['party_total_postcombat_hp']<1e10]\n",
    "    loss['removal of extreme post-combat hp'] = df_filtered.shape[0]\n",
    "    \n",
    "    return df_filtered, loss"
   ]
  },
  {
   "cell_type": "code",
   "execution_count": 4,
   "metadata": {
    "tags": []
   },
   "outputs": [
    {
     "name": "stderr",
     "output_type": "stream",
     "text": [
      "Filtering Players: 100%|██████████| 24748/24748 [00:07<00:00, 3263.19it/s]\n"
     ]
    },
    {
     "data": {
      "text/plain": [
       "{'initial': 24748,\n",
       " 'removal of standard classes': 18590,\n",
       " 'removal of combat instances with no combat': 14824,\n",
       " 'removal of combats with no health information': 13775,\n",
       " 'removal of extreme pre-combat hp': 13774,\n",
       " 'removal of extreme post-combat hp': 13774}"
      ]
     },
     "execution_count": 4,
     "metadata": {},
     "output_type": "execute_result"
    }
   ],
   "source": [
    "# Applying the above function and looking at how many rows we are losing\n",
    "filtered_df, loss = filter_std_player_classes_monsters(df)\n",
    "loss"
   ]
  },
  {
   "cell_type": "code",
   "execution_count": 5,
   "metadata": {
    "tags": []
   },
   "outputs": [
    {
     "data": {
      "text/plain": [
       "(10842, 44)"
      ]
     },
     "execution_count": 5,
     "metadata": {},
     "output_type": "execute_result"
    }
   ],
   "source": [
    "# Applying more filters\n",
    "\n",
    "# Dropping party sizes below 10\n",
    "filtered_df = filtered_df[filtered_df['party_size'] < 10]\n",
    "loss['removal of party sizes 10 and above'] = filtered_df.shape[0]\n",
    "\n",
    "rows_to_drop = []\n",
    "\n",
    "# Dropping levels above 20\n",
    "for index, row in filtered_df.iterrows():\n",
    "    player_info = ast.literal_eval(row['player_info'])\n",
    "    for d in player_info:\n",
    "        total_lvl = sum(class_lvl[1] for class_lvl in d['class'])\n",
    "        if total_lvl > 20:\n",
    "            rows_to_drop.append(index)\n",
    "            break  # No need to check further dicts in this row\n",
    "\n",
    "filtered_df = filtered_df.drop(rows_to_drop)\n",
    "loss['removal of parties with levels above 20'] = filtered_df.shape[0]\n",
    "\n",
    "\n",
    "rows_to_drop = []\n",
    "\n",
    "# Droping those rows with either no hp ratios (double checking) or hp's above 350\n",
    "for index, row in filtered_df.iterrows():\n",
    "    player_info = ast.literal_eval(row['player_info'])\n",
    "    for d in player_info:\n",
    "        # Corrected the check for None\n",
    "        if d['hp_ratio'] is None:\n",
    "            rows_to_drop.append(index)  # Appending index for consistency\n",
    "            break  # Exit the loop after finding the condition met\n",
    "        else:\n",
    "            max_health = d['hp_ratio'][1]\n",
    "            if max_health > 350:\n",
    "                rows_to_drop.append(index)\n",
    "                break  # No need to check further dicts in this row\n",
    "\n",
    "                \n",
    "filtered_df = filtered_df.drop(rows_to_drop)\n",
    "loss['removal of parties with either no or too high health'] = filtered_df.shape[0]\n",
    "\n",
    "\n",
    "rows_to_drop = []\n",
    "\n",
    "# Dropping those either with no AC value(s) or AC's above 38\n",
    "for index, row in filtered_df.iterrows():\n",
    "    player_info = ast.literal_eval(row['player_info'])\n",
    "    for d in player_info:\n",
    "        # Corrected the check for None\n",
    "        if d['ac'] is None:\n",
    "            rows_to_drop.append(index)  # Appending index for consistency\n",
    "            break  # Exit the loop after finding the condition met\n",
    "        else:\n",
    "            ac = d['ac']\n",
    "            if ac > 38:\n",
    "                rows_to_drop.append(index)\n",
    "                break  # No need to check further dicts in this row\n",
    "\n",
    "\n",
    "filtered_df = filtered_df.drop(rows_to_drop)\n",
    "loss['removal of parties with ACs above 38'] = filtered_df.shape[0]\n",
    "\n",
    "\n",
    "# Dropping the rows with either no ability scores or if an ability score is above 22\n",
    "stats = ['strength', 'dexterity', 'constitution', 'intelligence', 'wisdom', 'charisma']\n",
    "\n",
    "rows_to_drop = []\n",
    "for index, row in filtered_df.iterrows():\n",
    "    player_info = ast.literal_eval(row['player_info'])\n",
    "    for d in player_info:\n",
    "        # Check if 'stats' is None\n",
    "        if d['stats'] is None:\n",
    "            rows_to_drop.append(index)  # Appending index for consistency\n",
    "            break  # Exit the loop after finding the condition met\n",
    "        else:\n",
    "            # Iterate over the items in the 'stats' dictionary\n",
    "            for key, value in d['stats'].items():\n",
    "                if key in stats and value > 22:\n",
    "                    rows_to_drop.append(index)\n",
    "                    break  # Exit the loop after finding a stat greater than 22\n",
    "\n",
    "\n",
    "filtered_df = filtered_df.drop(rows_to_drop)\n",
    "loss['removal of parties with an ability score above 22'] = filtered_df.shape[0]\n",
    "\n",
    "# Looking at row numbers after all the filters have been applied\n",
    "filtered_df.shape"
   ]
  },
  {
   "cell_type": "code",
   "execution_count": 6,
   "metadata": {
    "tags": []
   },
   "outputs": [
    {
     "data": {
      "text/plain": [
       "{'initial': 24748,\n",
       " 'removal of standard classes': 18590,\n",
       " 'removal of combat instances with no combat': 14824,\n",
       " 'removal of combats with no health information': 13775,\n",
       " 'removal of extreme pre-combat hp': 13774,\n",
       " 'removal of extreme post-combat hp': 13774,\n",
       " 'removal of party sizes 10 and above': 13762,\n",
       " 'removal of parties with levels above 20': 12865,\n",
       " 'removal of parties with either no or too high health': 11847,\n",
       " 'removal of parties with ACs above 38': 11844,\n",
       " 'removal of parties with an ability score above 22': 10842}"
      ]
     },
     "execution_count": 6,
     "metadata": {},
     "output_type": "execute_result"
    }
   ],
   "source": [
    "loss"
   ]
  },
  {
   "cell_type": "code",
   "execution_count": 7,
   "metadata": {
    "tags": []
   },
   "outputs": [],
   "source": [
    "# Adding player to monster and monster to player ratios \n",
    "filtered_df['player_monster_ratio'] = filtered_df['party_size']/filtered_df['monster_number']\n",
    "\n",
    "filtered_df['monster_player_ratio'] = filtered_df['monster_number']/filtered_df['party_size']\n",
    "\n",
    "# Creating empty column for party_max_hp\n",
    "filtered_df['party_max_hp'] = 0\n",
    "\n",
    "# Correcting total_precombat_hp column and calculating party max hp\n",
    "for index, row in filtered_df.iterrows():\n",
    "    precombat_hp = 0\n",
    "    max_hp = 0\n",
    "    player_info = ast.literal_eval(row['player_info'])\n",
    "    for h in player_info:\n",
    "        precombat_hp += h.get('health_begin', 0)  # Use .get to avoid KeyError if 'health_begin' is missing\n",
    "        max_hp += h['hp_ratio'][1]  # Assuming 'hp_ratio' always exists and has two elements\n",
    "\n",
    "    # Assign calculated values back to the DataFrame\n",
    "    filtered_df.at[index, 'party_total_precombat_hp'] = precombat_hp\n",
    "    filtered_df.at[index, 'party_max_hp'] = max_hp\n",
    "\n",
    "    # Calculate 'party_total_hpratio'\n",
    "    if precombat_hp == 0:\n",
    "        filtered_df.at[index, 'party_total_hpratio'] = 0\n",
    "    else:\n",
    "        filtered_df.at[index, 'party_total_hpratio'] = row['party_total_postcombat_hp'] / precombat_hp\n",
    "        \n"
   ]
  },
  {
   "cell_type": "code",
   "execution_count": 8,
   "metadata": {
    "tags": []
   },
   "outputs": [],
   "source": [
    "# One-hot encoding all the classes\n",
    "\n",
    "filtered_df['party_total_class_composition'] = filtered_df['party_total_class_composition'].apply(lambda x: ast.literal_eval(x))\n",
    "\n",
    "# Get all unique classes\n",
    "all_classes_str = set(class_name.strip() for sublist in filtered_df['party_total_class_composition'] for class_name in sublist)\n",
    "\n",
    "# Initialize columns for each class with zeros\n",
    "for class_name in all_classes_str:\n",
    "    filtered_df[class_name] = 0\n",
    "\n",
    "# Fill in the DataFrame with one-hot encoding\n",
    "for index, row in filtered_df.iterrows():\n",
    "    corrected_class_names = []\n",
    "    for class_name in row['party_total_class_composition']:\n",
    "        # Correct the class name if needed\n",
    "        if class_name == 'Barbarian ':\n",
    "            class_name = 'Barbarian'\n",
    "        corrected_class_names.append(class_name)\n",
    "        filtered_df.at[index, class_name.strip()] = 1\n",
    "    # Update the row with corrected class names if necessary\n",
    "    filtered_df.at[index, 'party_total_class_composition'] = corrected_class_names\n",
    "\n"
   ]
  },
  {
   "cell_type": "code",
   "execution_count": 9,
   "metadata": {
    "tags": []
   },
   "outputs": [],
   "source": [
    "# Saving a csv that has information about the loss of data at each filtration step\n",
    "loss_df = pd.DataFrame(list(loss.items()), columns=['Step', 'Loss'])\n",
    "loss_df.to_csv('loss_of_data.csv')"
   ]
  },
  {
   "cell_type": "code",
   "execution_count": 10,
   "metadata": {
    "tags": []
   },
   "outputs": [],
   "source": [
    "# Saving the now filtered file\n",
    "filtered_df.to_csv('filtered.csv',index = False)"
   ]
  },
  {
   "cell_type": "code",
   "execution_count": null,
   "metadata": {},
   "outputs": [],
   "source": []
  }
 ],
 "metadata": {
  "kernelspec": {
   "display_name": "Python 3 (ipykernel)",
   "language": "python",
   "name": "python3"
  },
  "language_info": {
   "codemirror_mode": {
    "name": "ipython",
    "version": 3
   },
   "file_extension": ".py",
   "mimetype": "text/x-python",
   "name": "python",
   "nbconvert_exporter": "python",
   "pygments_lexer": "ipython3",
   "version": "3.11.5"
  }
 },
 "nbformat": 4,
 "nbformat_minor": 4
}
