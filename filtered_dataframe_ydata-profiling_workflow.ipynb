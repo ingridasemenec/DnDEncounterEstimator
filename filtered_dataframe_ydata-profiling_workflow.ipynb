{
 "cells": [
  {
   "cell_type": "code",
   "execution_count": 1,
   "metadata": {},
   "outputs": [
    {
     "name": "stderr",
     "output_type": "stream",
     "text": [
      "/Users/noahwaller/opt/anaconda3/envs/erdos_sp_2024/lib/python3.11/site-packages/tqdm/auto.py:21: TqdmWarning: IProgress not found. Please update jupyter and ipywidgets. See https://ipywidgets.readthedocs.io/en/stable/user_install.html\n",
      "  from .autonotebook import tqdm as notebook_tqdm\n"
     ]
    }
   ],
   "source": [
    "# import relevant packages\n",
    "import numpy as np\n",
    "import pandas as pd\n",
    "from ydata_profiling import ProfileReport"
   ]
  },
  {
   "cell_type": "code",
   "execution_count": 14,
   "metadata": {},
   "outputs": [],
   "source": [
    "# assign most recent filtered combat data .csv to dataframe (using local path for now, will change to relative path if committing to main)\n",
    "df = pd.read_csv('scaled_filtered_noTPK_hpratio<07.csv')"
   ]
  },
  {
   "cell_type": "code",
   "execution_count": 15,
   "metadata": {},
   "outputs": [],
   "source": [
    "# create profile report\n",
    "profile = ProfileReport(df, title=\"Filtered & Scaled Combat Data 04-05 Profiling Report - No TPK & HP Ratio < 0.7\")"
   ]
  },
  {
   "cell_type": "code",
   "execution_count": 16,
   "metadata": {},
   "outputs": [
    {
     "name": "stderr",
     "output_type": "stream",
     "text": [
      "Summarize dataset:   0%|          | 0/5 [00:00<?, ?it/s]"
     ]
    },
    {
     "name": "stderr",
     "output_type": "stream",
     "text": [
      "Summarize dataset: 100%|██████████| 798/798 [01:02<00:00, 12.76it/s, Completed]                                                   \n",
      "Generate report structure: 100%|██████████| 1/1 [00:14<00:00, 14.74s/it]\n",
      "Render HTML: 100%|██████████| 1/1 [00:10<00:00, 10.48s/it]\n",
      "Export report to file: 100%|██████████| 1/1 [00:00<00:00,  9.43it/s]\n"
     ]
    }
   ],
   "source": [
    "# export report to .html (again, should be changed to relative file path before merging to main)\n",
    "profile.to_file(\"scaled_filtered_noTPK_hpratio<07_profiling_report.html\")"
   ]
  }
 ],
 "metadata": {
  "kernelspec": {
   "display_name": "erdos_sp_2024",
   "language": "python",
   "name": "python3"
  },
  "language_info": {
   "codemirror_mode": {
    "name": "ipython",
    "version": 3
   },
   "file_extension": ".py",
   "mimetype": "text/x-python",
   "name": "python",
   "nbconvert_exporter": "python",
   "pygments_lexer": "ipython3",
   "version": "3.11.7"
  }
 },
 "nbformat": 4,
 "nbformat_minor": 2
}
