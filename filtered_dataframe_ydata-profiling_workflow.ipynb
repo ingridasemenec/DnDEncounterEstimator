{
 "cells": [
  {
   "cell_type": "code",
   "execution_count": 7,
   "metadata": {},
   "outputs": [
    {
     "name": "stderr",
     "output_type": "stream",
     "text": [
      "/Users/noahwaller/opt/anaconda3/envs/erdos_sp_2024/lib/python3.11/site-packages/tqdm/auto.py:21: TqdmWarning: IProgress not found. Please update jupyter and ipywidgets. See https://ipywidgets.readthedocs.io/en/stable/user_install.html\n",
      "  from .autonotebook import tqdm as notebook_tqdm\n"
     ]
    }
   ],
   "source": [
    "# import relevant packages\n",
    "import numpy as np\n",
    "import pandas as pd\n",
    "from ydata_profiling import ProfileReport"
   ]
  },
  {
   "cell_type": "code",
   "execution_count": 9,
   "metadata": {},
   "outputs": [],
   "source": [
    "# assign most recent filtered combat data .csv to dataframe (using local path for now, will change to relative path if committing to main)\n",
    "df = pd.read_csv('../../../Downloads/filtered_combat_data_df_04-01.csv')"
   ]
  },
  {
   "cell_type": "code",
   "execution_count": 10,
   "metadata": {},
   "outputs": [],
   "source": [
    "# create profile report\n",
    "profile = ProfileReport(df, title=\"Filtered Combat Data 04-01 Profiling Report\")"
   ]
  },
  {
   "cell_type": "code",
   "execution_count": 11,
   "metadata": {},
   "outputs": [
    {
     "name": "stderr",
     "output_type": "stream",
     "text": [
      "Summarize dataset: 100%|██████████| 784/784 [01:00<00:00, 13.04it/s, Completed]                                                   \n",
      "Generate report structure: 100%|██████████| 1/1 [00:11<00:00, 11.58s/it]\n",
      "Render HTML: 100%|██████████| 1/1 [00:10<00:00, 10.28s/it]\n",
      "Export report to file: 100%|██████████| 1/1 [00:00<00:00, 13.51it/s]\n"
     ]
    }
   ],
   "source": [
    "# export report to .html (again, should be changed to relative file path before merging to main)\n",
    "profile.to_file(\"filtered_combat_data_df_04-01_profiling_report.html\")"
   ]
  }
 ],
 "metadata": {
  "kernelspec": {
   "display_name": "erdos_sp_2024",
   "language": "python",
   "name": "python3"
  },
  "language_info": {
   "codemirror_mode": {
    "name": "ipython",
    "version": 3
   },
   "file_extension": ".py",
   "mimetype": "text/x-python",
   "name": "python",
   "nbconvert_exporter": "python",
   "pygments_lexer": "ipython3",
   "version": "3.11.7"
  }
 },
 "nbformat": 4,
 "nbformat_minor": 2
}
