{
 "cells": [
  {
   "cell_type": "code",
   "execution_count": 151,
   "metadata": {},
   "outputs": [],
   "source": [
    "import pandas as pd\n",
    "import matplotlib.pyplot as plt\n",
    "import seaborn as sns\n",
    "import numpy as np"
   ]
  },
  {
   "cell_type": "code",
   "execution_count": 152,
   "metadata": {},
   "outputs": [
    {
     "data": {
      "text/html": [
       "<div>\n",
       "<style scoped>\n",
       "    .dataframe tbody tr th:only-of-type {\n",
       "        vertical-align: middle;\n",
       "    }\n",
       "\n",
       "    .dataframe tbody tr th {\n",
       "        vertical-align: top;\n",
       "    }\n",
       "\n",
       "    .dataframe thead th {\n",
       "        text-align: right;\n",
       "    }\n",
       "</style>\n",
       "<table border=\"1\" class=\"dataframe\">\n",
       "  <thead>\n",
       "    <tr style=\"text-align: right;\">\n",
       "      <th></th>\n",
       "      <th>Unnamed: 0</th>\n",
       "      <th>combat_id</th>\n",
       "      <th>start_time</th>\n",
       "      <th>number_of_rounds</th>\n",
       "      <th>player_ids</th>\n",
       "      <th>player_info</th>\n",
       "      <th>monsters_info</th>\n",
       "      <th>party_size</th>\n",
       "      <th>total_slots</th>\n",
       "      <th>total_max_slots</th>\n",
       "      <th>...</th>\n",
       "      <th>Cleric</th>\n",
       "      <th>Warlock</th>\n",
       "      <th>Ranger</th>\n",
       "      <th>Barbarian</th>\n",
       "      <th>Druid</th>\n",
       "      <th>Monk</th>\n",
       "      <th>Sorcerer</th>\n",
       "      <th>Rogue</th>\n",
       "      <th>weighted_monster_level</th>\n",
       "      <th>weighted_spell_slots</th>\n",
       "    </tr>\n",
       "  </thead>\n",
       "  <tbody>\n",
       "    <tr>\n",
       "      <th>0</th>\n",
       "      <td>21</td>\n",
       "      <td>1653817902-15ec25a2-6757-4ceb-ac41-d44352b97705</td>\n",
       "      <td>1.653818e+09</td>\n",
       "      <td>1</td>\n",
       "      <td>['209330647903743785']</td>\n",
       "      <td>[{'hp_ratio': (65, 65), 'class': [('Ranger', 1...</td>\n",
       "      <td>[{'monster_id': 'c0cdb522-64c2-42ee-b1a8-6ef22...</td>\n",
       "      <td>1</td>\n",
       "      <td>{'1': 4, '2': 3, '3': 2, '4': 0, '5': 0, '6': ...</td>\n",
       "      <td>{'1': 4, '2': 3, '3': 2, '4': 0, '5': 0, '6': ...</td>\n",
       "      <td>...</td>\n",
       "      <td>0</td>\n",
       "      <td>0</td>\n",
       "      <td>1</td>\n",
       "      <td>0</td>\n",
       "      <td>0</td>\n",
       "      <td>0</td>\n",
       "      <td>0</td>\n",
       "      <td>0</td>\n",
       "      <td>4.0</td>\n",
       "      <td>139</td>\n",
       "    </tr>\n",
       "    <tr>\n",
       "      <th>1</th>\n",
       "      <td>14</td>\n",
       "      <td>1653869871-e7fd0606-de62-4688-a55b-ae4c25a14beb</td>\n",
       "      <td>1.653870e+09</td>\n",
       "      <td>2</td>\n",
       "      <td>['176588704091156599']</td>\n",
       "      <td>[{'hp_ratio': (0, 38), 'class': [('Monk', 4), ...</td>\n",
       "      <td>[{'monster_id': '3bdb4cc1-6ca9-47e8-9610-d68ef...</td>\n",
       "      <td>1</td>\n",
       "      <td>{'1': 2, '2': 0, '3': 0, '4': 0, '5': 0, '6': ...</td>\n",
       "      <td>{'1': 2, '2': 0, '3': 0, '4': 0, '5': 0, '6': ...</td>\n",
       "      <td>...</td>\n",
       "      <td>1</td>\n",
       "      <td>0</td>\n",
       "      <td>0</td>\n",
       "      <td>0</td>\n",
       "      <td>0</td>\n",
       "      <td>1</td>\n",
       "      <td>0</td>\n",
       "      <td>0</td>\n",
       "      <td>5.0</td>\n",
       "      <td>12</td>\n",
       "    </tr>\n",
       "    <tr>\n",
       "      <th>2</th>\n",
       "      <td>15</td>\n",
       "      <td>1653870265-3912208d-8851-4441-90a7-9473068eb93e</td>\n",
       "      <td>1.653870e+09</td>\n",
       "      <td>4</td>\n",
       "      <td>['743069156064144035', '219174602203404794']</td>\n",
       "      <td>[{'hp_ratio': (33, 73), 'class': [('Druid', 9)...</td>\n",
       "      <td>[{'monster_id': '203bce70-7a28-4c79-a990-fba6f...</td>\n",
       "      <td>2</td>\n",
       "      <td>{'1': 4, '2': 3, '3': 3, '4': 3, '5': 1, '6': ...</td>\n",
       "      <td>{'1': 7, '2': 3, '3': 3, '4': 3, '5': 1, '6': ...</td>\n",
       "      <td>...</td>\n",
       "      <td>1</td>\n",
       "      <td>0</td>\n",
       "      <td>0</td>\n",
       "      <td>1</td>\n",
       "      <td>1</td>\n",
       "      <td>0</td>\n",
       "      <td>0</td>\n",
       "      <td>0</td>\n",
       "      <td>4.0</td>\n",
       "      <td>367</td>\n",
       "    </tr>\n",
       "    <tr>\n",
       "      <th>3</th>\n",
       "      <td>18</td>\n",
       "      <td>1653872787-dd8c22a6-4f2b-46f9-901a-17c887a64f29</td>\n",
       "      <td>1.653873e+09</td>\n",
       "      <td>6</td>\n",
       "      <td>['743069156064144035', '219174602203404794']</td>\n",
       "      <td>[{'hp_ratio': (61, 81), 'class': [('Barbarian'...</td>\n",
       "      <td>[{'monster_id': 'aed32ba7-a864-41ca-a4b3-1314d...</td>\n",
       "      <td>2</td>\n",
       "      <td>{'1': 7, '2': 3, '3': 3, '4': 3, '5': 2, '6': ...</td>\n",
       "      <td>{'1': 7, '2': 3, '3': 3, '4': 3, '5': 2, '6': ...</td>\n",
       "      <td>...</td>\n",
       "      <td>1</td>\n",
       "      <td>0</td>\n",
       "      <td>0</td>\n",
       "      <td>1</td>\n",
       "      <td>1</td>\n",
       "      <td>0</td>\n",
       "      <td>0</td>\n",
       "      <td>0</td>\n",
       "      <td>12.0</td>\n",
       "      <td>449</td>\n",
       "    </tr>\n",
       "    <tr>\n",
       "      <th>4</th>\n",
       "      <td>32</td>\n",
       "      <td>1653896334-b9e6fdf9-8623-4f4f-999f-723261516a9f</td>\n",
       "      <td>1.653896e+09</td>\n",
       "      <td>2</td>\n",
       "      <td>['244501817820067418', '252441296436920394', '...</td>\n",
       "      <td>[{'hp_ratio': (42, 47), 'class': [('Paladin', ...</td>\n",
       "      <td>[{'monster_id': '6acfea01-ab7a-4a14-b17c-e05a9...</td>\n",
       "      <td>4</td>\n",
       "      <td>{'1': 18, '2': 11, '3': 5, '4': 3, '5': 2, '6'...</td>\n",
       "      <td>{'1': 19, '2': 11, '3': 5, '4': 3, '5': 2, '6'...</td>\n",
       "      <td>...</td>\n",
       "      <td>1</td>\n",
       "      <td>1</td>\n",
       "      <td>0</td>\n",
       "      <td>1</td>\n",
       "      <td>1</td>\n",
       "      <td>0</td>\n",
       "      <td>0</td>\n",
       "      <td>0</td>\n",
       "      <td>1.0</td>\n",
       "      <td>871</td>\n",
       "    </tr>\n",
       "    <tr>\n",
       "      <th>5</th>\n",
       "      <td>34</td>\n",
       "      <td>1653898977-2468e700-6ee0-4827-8d03-2315cb828041</td>\n",
       "      <td>1.653899e+09</td>\n",
       "      <td>2</td>\n",
       "      <td>['244501817820067418', '252441296436920394', '...</td>\n",
       "      <td>[{'hp_ratio': (41, 47), 'class': [('Paladin', ...</td>\n",
       "      <td>[{'monster_id': '3132bb2e-464e-44ad-932c-cbdfb...</td>\n",
       "      <td>4</td>\n",
       "      <td>{'1': 18, '2': 11, '3': 5, '4': 3, '5': 2, '6'...</td>\n",
       "      <td>{'1': 19, '2': 11, '3': 5, '4': 3, '5': 2, '6'...</td>\n",
       "      <td>...</td>\n",
       "      <td>1</td>\n",
       "      <td>1</td>\n",
       "      <td>0</td>\n",
       "      <td>1</td>\n",
       "      <td>1</td>\n",
       "      <td>0</td>\n",
       "      <td>0</td>\n",
       "      <td>0</td>\n",
       "      <td>5.0</td>\n",
       "      <td>871</td>\n",
       "    </tr>\n",
       "    <tr>\n",
       "      <th>6</th>\n",
       "      <td>46</td>\n",
       "      <td>1653924516-8d813715-7205-407d-ad04-35247e4f91f4</td>\n",
       "      <td>1.653925e+09</td>\n",
       "      <td>8</td>\n",
       "      <td>['116270686338891460', '313872666094206309', '...</td>\n",
       "      <td>[{'hp_ratio': (15, 27), 'class': [('Ranger', 2...</td>\n",
       "      <td>[{'monster_id': 'c881f078-9a64-48bd-86a1-1c105...</td>\n",
       "      <td>5</td>\n",
       "      <td>{'1': 7, '2': 4, '3': 0, '4': 0, '5': 0, '6': ...</td>\n",
       "      <td>{'1': 7, '2': 5, '3': 0, '4': 0, '5': 0, '6': ...</td>\n",
       "      <td>...</td>\n",
       "      <td>1</td>\n",
       "      <td>1</td>\n",
       "      <td>1</td>\n",
       "      <td>1</td>\n",
       "      <td>0</td>\n",
       "      <td>0</td>\n",
       "      <td>0</td>\n",
       "      <td>0</td>\n",
       "      <td>9.0</td>\n",
       "      <td>110</td>\n",
       "    </tr>\n",
       "    <tr>\n",
       "      <th>7</th>\n",
       "      <td>47</td>\n",
       "      <td>1653925023-6bbb2449-ecf9-448c-a31b-c3d3367c939d</td>\n",
       "      <td>1.653925e+09</td>\n",
       "      <td>5</td>\n",
       "      <td>['545114601377345713', '193641129595148192', '...</td>\n",
       "      <td>[{'hp_ratio': (30, 36), 'class': [('Rogue', 3)...</td>\n",
       "      <td>[{'monster_id': '4d23eb72-48f7-4f2c-a2f9-979ba...</td>\n",
       "      <td>3</td>\n",
       "      <td>{'1': 3, '2': 0, '3': 0, '4': 0, '5': 0, '6': ...</td>\n",
       "      <td>{'1': 3, '2': 0, '3': 0, '4': 0, '5': 0, '6': ...</td>\n",
       "      <td>...</td>\n",
       "      <td>0</td>\n",
       "      <td>1</td>\n",
       "      <td>1</td>\n",
       "      <td>0</td>\n",
       "      <td>0</td>\n",
       "      <td>0</td>\n",
       "      <td>0</td>\n",
       "      <td>1</td>\n",
       "      <td>1.5</td>\n",
       "      <td>18</td>\n",
       "    </tr>\n",
       "    <tr>\n",
       "      <th>8</th>\n",
       "      <td>49</td>\n",
       "      <td>1653931304-e7e532b1-cd41-46a8-a71c-435dbe1a4e9c</td>\n",
       "      <td>1.653931e+09</td>\n",
       "      <td>2</td>\n",
       "      <td>['244501817820067418', '252441296436920394', '...</td>\n",
       "      <td>[{'hp_ratio': (41, 47), 'class': [('Paladin', ...</td>\n",
       "      <td>[{'monster_id': '70214ca2-4356-48ab-9052-c4293...</td>\n",
       "      <td>4</td>\n",
       "      <td>{'1': 18, '2': 11, '3': 4, '4': 3, '5': 2, '6'...</td>\n",
       "      <td>{'1': 19, '2': 11, '3': 5, '4': 3, '5': 2, '6'...</td>\n",
       "      <td>...</td>\n",
       "      <td>1</td>\n",
       "      <td>1</td>\n",
       "      <td>0</td>\n",
       "      <td>1</td>\n",
       "      <td>1</td>\n",
       "      <td>0</td>\n",
       "      <td>0</td>\n",
       "      <td>0</td>\n",
       "      <td>40.0</td>\n",
       "      <td>839</td>\n",
       "    </tr>\n",
       "    <tr>\n",
       "      <th>9</th>\n",
       "      <td>51</td>\n",
       "      <td>1653933994-a44b833a-a23e-4772-acc3-fad0b754aba4</td>\n",
       "      <td>1.653934e+09</td>\n",
       "      <td>7</td>\n",
       "      <td>['743069156064144035', '294037842287691462']</td>\n",
       "      <td>[{'hp_ratio': (12, 91), 'class': [('Barbarian'...</td>\n",
       "      <td>[{'monster_id': 'dc06fdfd-13f5-46ba-a82b-afc39...</td>\n",
       "      <td>2</td>\n",
       "      <td>{'1': 4, '2': 0, '3': 0, '4': 0, '5': 0, '6': ...</td>\n",
       "      <td>{'1': 6, '2': 0, '3': 0, '4': 0, '5': 0, '6': ...</td>\n",
       "      <td>...</td>\n",
       "      <td>1</td>\n",
       "      <td>0</td>\n",
       "      <td>0</td>\n",
       "      <td>1</td>\n",
       "      <td>0</td>\n",
       "      <td>1</td>\n",
       "      <td>0</td>\n",
       "      <td>0</td>\n",
       "      <td>4.0</td>\n",
       "      <td>24</td>\n",
       "    </tr>\n",
       "  </tbody>\n",
       "</table>\n",
       "<p>10 rows × 63 columns</p>\n",
       "</div>"
      ],
      "text/plain": [
       "   Unnamed: 0                                        combat_id    start_time  \\\n",
       "0          21  1653817902-15ec25a2-6757-4ceb-ac41-d44352b97705  1.653818e+09   \n",
       "1          14  1653869871-e7fd0606-de62-4688-a55b-ae4c25a14beb  1.653870e+09   \n",
       "2          15  1653870265-3912208d-8851-4441-90a7-9473068eb93e  1.653870e+09   \n",
       "3          18  1653872787-dd8c22a6-4f2b-46f9-901a-17c887a64f29  1.653873e+09   \n",
       "4          32  1653896334-b9e6fdf9-8623-4f4f-999f-723261516a9f  1.653896e+09   \n",
       "5          34  1653898977-2468e700-6ee0-4827-8d03-2315cb828041  1.653899e+09   \n",
       "6          46  1653924516-8d813715-7205-407d-ad04-35247e4f91f4  1.653925e+09   \n",
       "7          47  1653925023-6bbb2449-ecf9-448c-a31b-c3d3367c939d  1.653925e+09   \n",
       "8          49  1653931304-e7e532b1-cd41-46a8-a71c-435dbe1a4e9c  1.653931e+09   \n",
       "9          51  1653933994-a44b833a-a23e-4772-acc3-fad0b754aba4  1.653934e+09   \n",
       "\n",
       "   number_of_rounds                                         player_ids  \\\n",
       "0                 1                             ['209330647903743785']   \n",
       "1                 2                             ['176588704091156599']   \n",
       "2                 4       ['743069156064144035', '219174602203404794']   \n",
       "3                 6       ['743069156064144035', '219174602203404794']   \n",
       "4                 2  ['244501817820067418', '252441296436920394', '...   \n",
       "5                 2  ['244501817820067418', '252441296436920394', '...   \n",
       "6                 8  ['116270686338891460', '313872666094206309', '...   \n",
       "7                 5  ['545114601377345713', '193641129595148192', '...   \n",
       "8                 2  ['244501817820067418', '252441296436920394', '...   \n",
       "9                 7       ['743069156064144035', '294037842287691462']   \n",
       "\n",
       "                                         player_info  \\\n",
       "0  [{'hp_ratio': (65, 65), 'class': [('Ranger', 1...   \n",
       "1  [{'hp_ratio': (0, 38), 'class': [('Monk', 4), ...   \n",
       "2  [{'hp_ratio': (33, 73), 'class': [('Druid', 9)...   \n",
       "3  [{'hp_ratio': (61, 81), 'class': [('Barbarian'...   \n",
       "4  [{'hp_ratio': (42, 47), 'class': [('Paladin', ...   \n",
       "5  [{'hp_ratio': (41, 47), 'class': [('Paladin', ...   \n",
       "6  [{'hp_ratio': (15, 27), 'class': [('Ranger', 2...   \n",
       "7  [{'hp_ratio': (30, 36), 'class': [('Rogue', 3)...   \n",
       "8  [{'hp_ratio': (41, 47), 'class': [('Paladin', ...   \n",
       "9  [{'hp_ratio': (12, 91), 'class': [('Barbarian'...   \n",
       "\n",
       "                                       monsters_info  party_size  \\\n",
       "0  [{'monster_id': 'c0cdb522-64c2-42ee-b1a8-6ef22...           1   \n",
       "1  [{'monster_id': '3bdb4cc1-6ca9-47e8-9610-d68ef...           1   \n",
       "2  [{'monster_id': '203bce70-7a28-4c79-a990-fba6f...           2   \n",
       "3  [{'monster_id': 'aed32ba7-a864-41ca-a4b3-1314d...           2   \n",
       "4  [{'monster_id': '6acfea01-ab7a-4a14-b17c-e05a9...           4   \n",
       "5  [{'monster_id': '3132bb2e-464e-44ad-932c-cbdfb...           4   \n",
       "6  [{'monster_id': 'c881f078-9a64-48bd-86a1-1c105...           5   \n",
       "7  [{'monster_id': '4d23eb72-48f7-4f2c-a2f9-979ba...           3   \n",
       "8  [{'monster_id': '70214ca2-4356-48ab-9052-c4293...           4   \n",
       "9  [{'monster_id': 'dc06fdfd-13f5-46ba-a82b-afc39...           2   \n",
       "\n",
       "                                         total_slots  \\\n",
       "0  {'1': 4, '2': 3, '3': 2, '4': 0, '5': 0, '6': ...   \n",
       "1  {'1': 2, '2': 0, '3': 0, '4': 0, '5': 0, '6': ...   \n",
       "2  {'1': 4, '2': 3, '3': 3, '4': 3, '5': 1, '6': ...   \n",
       "3  {'1': 7, '2': 3, '3': 3, '4': 3, '5': 2, '6': ...   \n",
       "4  {'1': 18, '2': 11, '3': 5, '4': 3, '5': 2, '6'...   \n",
       "5  {'1': 18, '2': 11, '3': 5, '4': 3, '5': 2, '6'...   \n",
       "6  {'1': 7, '2': 4, '3': 0, '4': 0, '5': 0, '6': ...   \n",
       "7  {'1': 3, '2': 0, '3': 0, '4': 0, '5': 0, '6': ...   \n",
       "8  {'1': 18, '2': 11, '3': 4, '4': 3, '5': 2, '6'...   \n",
       "9  {'1': 4, '2': 0, '3': 0, '4': 0, '5': 0, '6': ...   \n",
       "\n",
       "                                     total_max_slots  ... Cleric Warlock  \\\n",
       "0  {'1': 4, '2': 3, '3': 2, '4': 0, '5': 0, '6': ...  ...      0       0   \n",
       "1  {'1': 2, '2': 0, '3': 0, '4': 0, '5': 0, '6': ...  ...      1       0   \n",
       "2  {'1': 7, '2': 3, '3': 3, '4': 3, '5': 1, '6': ...  ...      1       0   \n",
       "3  {'1': 7, '2': 3, '3': 3, '4': 3, '5': 2, '6': ...  ...      1       0   \n",
       "4  {'1': 19, '2': 11, '3': 5, '4': 3, '5': 2, '6'...  ...      1       1   \n",
       "5  {'1': 19, '2': 11, '3': 5, '4': 3, '5': 2, '6'...  ...      1       1   \n",
       "6  {'1': 7, '2': 5, '3': 0, '4': 0, '5': 0, '6': ...  ...      1       1   \n",
       "7  {'1': 3, '2': 0, '3': 0, '4': 0, '5': 0, '6': ...  ...      0       1   \n",
       "8  {'1': 19, '2': 11, '3': 5, '4': 3, '5': 2, '6'...  ...      1       1   \n",
       "9  {'1': 6, '2': 0, '3': 0, '4': 0, '5': 0, '6': ...  ...      1       0   \n",
       "\n",
       "  Ranger Barbarian Druid Monk Sorcerer Rogue weighted_monster_level  \\\n",
       "0      1         0     0    0        0     0                    4.0   \n",
       "1      0         0     0    1        0     0                    5.0   \n",
       "2      0         1     1    0        0     0                    4.0   \n",
       "3      0         1     1    0        0     0                   12.0   \n",
       "4      0         1     1    0        0     0                    1.0   \n",
       "5      0         1     1    0        0     0                    5.0   \n",
       "6      1         1     0    0        0     0                    9.0   \n",
       "7      1         0     0    0        0     1                    1.5   \n",
       "8      0         1     1    0        0     0                   40.0   \n",
       "9      0         1     0    1        0     0                    4.0   \n",
       "\n",
       "  weighted_spell_slots  \n",
       "0                  139  \n",
       "1                   12  \n",
       "2                  367  \n",
       "3                  449  \n",
       "4                  871  \n",
       "5                  871  \n",
       "6                  110  \n",
       "7                   18  \n",
       "8                  839  \n",
       "9                   24  \n",
       "\n",
       "[10 rows x 63 columns]"
      ]
     },
     "metadata": {},
     "output_type": "display_data"
    }
   ],
   "source": [
    "df = pd.read_csv('scaled_filtered_24_4_10.csv')\n",
    "display(df.head(10))"
   ]
  },
  {
   "cell_type": "code",
   "execution_count": 153,
   "metadata": {},
   "outputs": [],
   "source": [
    "#lets apply some additional filters to the data\n",
    "filtered_df= df[df['party_total_hpratio']<1]\n",
    "\n",
    "#filtered_df = df[df['number_of_rounds'] > 1]"
   ]
  },
  {
   "cell_type": "code",
   "execution_count": 154,
   "metadata": {},
   "outputs": [
    {
     "name": "stdout",
     "output_type": "stream",
     "text": [
      "Number of combats lost to the filter: 4619\n"
     ]
    },
    {
     "data": {
      "text/plain": [
       "332"
      ]
     },
     "execution_count": 154,
     "metadata": {},
     "output_type": "execute_result"
    }
   ],
   "source": [
    "lost_combats = len(df['combat_id'].unique()) - len(filtered_df['combat_id'].unique())\n",
    "print(f\"Number of combats lost to the filter: {lost_combats}\")\n",
    "len(filtered_df[filtered_df['party_total_hpratio'] == 0])"
   ]
  },
  {
   "cell_type": "code",
   "execution_count": 155,
   "metadata": {},
   "outputs": [],
   "source": [
    "filtered_df = filtered_df[filtered_df['party_size'] <= 10]"
   ]
  },
  {
   "cell_type": "code",
   "execution_count": 156,
   "metadata": {},
   "outputs": [
    {
     "name": "stdout",
     "output_type": "stream",
     "text": [
      "Number of combats lost to the filter: 4619\n"
     ]
    },
    {
     "data": {
      "text/plain": [
       "332"
      ]
     },
     "execution_count": 156,
     "metadata": {},
     "output_type": "execute_result"
    }
   ],
   "source": [
    "lost_combats = len(df['combat_id'].unique()) - len(filtered_df['combat_id'].unique())\n",
    "print(f\"Number of combats lost to the filter: {lost_combats}\")\n",
    "len(filtered_df[filtered_df['party_total_hpratio'] == 0])"
   ]
  },
  {
   "cell_type": "code",
   "execution_count": 157,
   "metadata": {},
   "outputs": [],
   "source": [
    "filtered_df = filtered_df[filtered_df['party_total_level']/filtered_df['party_size']  <= 20]"
   ]
  },
  {
   "cell_type": "code",
   "execution_count": 158,
   "metadata": {},
   "outputs": [
    {
     "name": "stdout",
     "output_type": "stream",
     "text": [
      "Number of combats lost to the filter: 4646\n"
     ]
    },
    {
     "data": {
      "text/plain": [
       "332"
      ]
     },
     "execution_count": 158,
     "metadata": {},
     "output_type": "execute_result"
    }
   ],
   "source": [
    "lost_combats = len(df['combat_id'].unique()) - len(filtered_df['combat_id'].unique())\n",
    "print(f\"Number of combats lost to the filter: {lost_combats}\")\n",
    "len(filtered_df[filtered_df['party_total_hpratio'] == 0])"
   ]
  },
  {
   "cell_type": "code",
   "execution_count": 159,
   "metadata": {},
   "outputs": [],
   "source": [
    "filtered_df = filtered_df[filtered_df['party_total_ac']/filtered_df['party_size']  <= 38]"
   ]
  },
  {
   "cell_type": "code",
   "execution_count": 160,
   "metadata": {},
   "outputs": [
    {
     "name": "stdout",
     "output_type": "stream",
     "text": [
      "Number of combats lost to the filter: 4653\n"
     ]
    },
    {
     "data": {
      "text/plain": [
       "332"
      ]
     },
     "execution_count": 160,
     "metadata": {},
     "output_type": "execute_result"
    }
   ],
   "source": [
    "lost_combats = len(df['combat_id'].unique()) - len(filtered_df['combat_id'].unique())\n",
    "print(f\"Number of combats lost to the filter: {lost_combats}\")\n",
    "len(filtered_df[filtered_df['party_total_hpratio'] == 0])"
   ]
  },
  {
   "cell_type": "code",
   "execution_count": 161,
   "metadata": {},
   "outputs": [],
   "source": [
    "filtered_df = filtered_df[filtered_df['party_total_precombat_hp']/filtered_df['party_size'] <350]"
   ]
  },
  {
   "cell_type": "code",
   "execution_count": 163,
   "metadata": {},
   "outputs": [
    {
     "name": "stdout",
     "output_type": "stream",
     "text": [
      "Number of combats lost to the filter: 4655\n"
     ]
    },
    {
     "data": {
      "text/plain": [
       "332"
      ]
     },
     "execution_count": 163,
     "metadata": {},
     "output_type": "execute_result"
    }
   ],
   "source": [
    "lost_combats = len(df['combat_id'].unique()) - len(filtered_df['combat_id'].unique())\n",
    "print(f\"Number of combats lost to the filter: {lost_combats}\")\n",
    "len(filtered_df[filtered_df['party_total_hpratio'] == 0])"
   ]
  },
  {
   "cell_type": "code",
   "execution_count": 164,
   "metadata": {},
   "outputs": [
    {
     "data": {
      "text/plain": [
       "332"
      ]
     },
     "execution_count": 164,
     "metadata": {},
     "output_type": "execute_result"
    }
   ],
   "source": [
    "filtered_df['avg_party_level'] = filtered_df['party_total_level'] / filtered_df['party_size']\n",
    "#filtered_df['avg_monster_level'] = filtered_df['monster_total_level'] / filtered_df['monster_number']\n",
    "filtered_df['avg_hp_ratio'] = (filtered_df['party_total_precombat_hp']-filtered_df['party_total_postcombat_hp'])/ filtered_df['party_max_hp']\n",
    "len(filtered_df[filtered_df['party_total_hpratio'] == 0])"
   ]
  },
  {
   "cell_type": "code",
   "execution_count": 165,
   "metadata": {},
   "outputs": [
    {
     "data": {
      "image/png": "[encoded data removed]",
      "text/plain": [
       "<Figure size 1000x600 with 1 Axes>"
      ]
     },
     "metadata": {},
     "output_type": "display_data"
    }
   ],
   "source": [
    "import matplotlib.pyplot as plt\n",
    "\n",
    "filtered_df['weighted_monster_level'].replace(0, np.nan, inplace=True)\n",
    "\n",
    "# Calculate the ratio of average party level to average monster level\n",
    "filtered_df['level_ratio'] = filtered_df['party_total_level'] / filtered_df['weighted_monster_level']\n",
    "\n",
    "\n",
    "plt.figure(figsize=(10, 6))\n",
    "plt.scatter(filtered_df['level_ratio'],filtered_df['avg_hp_ratio'])\n",
    "plt.xlabel('Party Level / Weighted Monster Level')\n",
    "plt.ylabel('Party HP Ratio')\n",
    "plt.title('Party Level to Weighted Monster Level Ratio vs. Party HP Ratio')\n",
    "plt.show()\n"
   ]
  },
  {
   "cell_type": "code",
   "execution_count": 166,
   "metadata": {},
   "outputs": [
    {
     "data": {
      "image/png": "[encoded data removed]",
      "text/plain": [
       "<Figure size 1000x600 with 1 Axes>"
      ]
     },
     "metadata": {},
     "output_type": "display_data"
    },
    {
     "data": {
      "text/plain": [
       "320"
      ]
     },
     "execution_count": 166,
     "metadata": {},
     "output_type": "execute_result"
    }
   ],
   "source": [
    "\n",
    "\n",
    "# extra filtering removing all the \"outliers\" , making the party more well matched to monster level\n",
    "\n",
    "filtered_df = filtered_df[(filtered_df['level_ratio'] <50)]\n",
    "\n",
    "plt.figure(figsize=(10, 6))\n",
    "plt.scatter(filtered_df['level_ratio'],filtered_df['avg_hp_ratio'])\n",
    "plt.xscale('log')\n",
    "plt.xlabel('Party Level / Weighted Monster Level')\n",
    "plt.ylabel('Party HP Ratio')\n",
    "plt.title('Party Level to Weighted Monster Level Ratio vs. Party HP Ratio')\n",
    "plt.show()\n",
    "len(filtered_df[filtered_df['party_total_hpratio'] == 0])\n"
   ]
  },
  {
   "cell_type": "code",
   "execution_count": 167,
   "metadata": {},
   "outputs": [],
   "source": [
    "#creating new column where tpk is 1 and no tpk is 0\n",
    "filtered_df['tpk'] = (filtered_df['party_total_postcombat_hp'] == 0).astype(int)\n"
   ]
  },
  {
   "cell_type": "code",
   "execution_count": 168,
   "metadata": {},
   "outputs": [],
   "source": [
    "#our data has less tpks than not, we should balance out the data.. first lets separate:\n",
    "\n",
    "from sklearn.utils import resample\n",
    "\n",
    "# Separate majority and minority classes\n",
    "df_majority = filtered_df[filtered_df.tpk == 0]\n",
    "df_minority = filtered_df[filtered_df.tpk == 1]"
   ]
  },
  {
   "cell_type": "code",
   "execution_count": 169,
   "metadata": {},
   "outputs": [
    {
     "name": "stdout",
     "output_type": "stream",
     "text": [
      "tpk\n",
      "0    310\n",
      "1    310\n",
      "Name: count, dtype: int64\n"
     ]
    }
   ],
   "source": [
    "# ok.... maybe lets try to downsample the majority class...\n",
    "\n",
    "# Downsample majority class\n",
    "df_majority_downsampled = resample(df_majority,\n",
    "                                   replace=False,    # sample without replacement\n",
    "                                   n_samples=len(df_minority),     # to match minority class\n",
    "                                   random_state=123) # reproducible results\n",
    "\n",
    "# Combine minority class with downsampled majority class\n",
    "df_balanced = pd.concat([df_majority_downsampled, df_minority])\n",
    "\n",
    "# Display new class counts\n",
    "print(df_balanced.tpk.value_counts())\n"
   ]
  },
  {
   "cell_type": "code",
   "execution_count": 170,
   "metadata": {},
   "outputs": [],
   "source": [
    "\n",
    "feature_columns = ['party_total_level', 'weighted_monster_level', 'party_size', 'monster_number']\n",
    "X = df_balanced[feature_columns]\n",
    "y = df_balanced['tpk']\n",
    "\n",
    "# Split data\n",
    "X_train, X_test, y_train, y_test = train_test_split(X, y, test_size=0.3, random_state=42)\n"
   ]
  },
  {
   "cell_type": "code",
   "execution_count": 171,
   "metadata": {},
   "outputs": [],
   "source": [
    "from sklearn.model_selection import train_test_split\n",
    "\n",
    "X_train, X_test, y_train, y_test = train_test_split(X, y, test_size=0.3, random_state=42)\n"
   ]
  },
  {
   "cell_type": "code",
   "execution_count": 172,
   "metadata": {},
   "outputs": [],
   "source": [
    "from sklearn.linear_model import LogisticRegression\n",
    "from sklearn.metrics import classification_report, accuracy_score\n",
    "\n",
    "# Initialize the classifier\n",
    "model = LogisticRegression()\n",
    "\n",
    "# Train the model\n",
    "model.fit(X_train, y_train)\n",
    "\n",
    "# Predict on the test set\n",
    "y_pred = model.predict(X_test)\n"
   ]
  },
  {
   "cell_type": "code",
   "execution_count": 182,
   "metadata": {},
   "outputs": [
    {
     "name": "stdout",
     "output_type": "stream",
     "text": [
      "              precision    recall  f1-score   support\n",
      "\n",
      "           0       0.86      0.57      0.68       104\n",
      "           1       0.62      0.88      0.72        82\n",
      "\n",
      "    accuracy                           0.70       186\n",
      "   macro avg       0.74      0.72      0.70       186\n",
      "weighted avg       0.75      0.70      0.70       186\n",
      "\n"
     ]
    }
   ],
   "source": [
    "print(classification_report(y_test, y_pred))"
   ]
  },
  {
   "cell_type": "code",
   "execution_count": 181,
   "metadata": {},
   "outputs": [],
   "source": [
    "# Predicting probabilities\n",
    "y_pred_proba_lr = model.predict_proba(X_test)[:, 1]  # Get the probability of TPK\n"
   ]
  },
  {
   "cell_type": "code",
   "execution_count": 184,
   "metadata": {},
   "outputs": [
    {
     "name": "stdout",
     "output_type": "stream",
     "text": [
      "       Actual  Predicted  Probability of TPK\n",
      "8608        0          0            0.374908\n",
      "9298        1          1            0.711288\n",
      "4801        0          0            0.407129\n",
      "10629       0          0            0.174136\n",
      "7800        0          1            0.663297\n",
      "10424       1          1            0.614164\n",
      "5457        0          1            0.706666\n",
      "1612        1          1            0.556578\n",
      "813         1          1            0.534776\n",
      "7846        1          1            0.748975\n",
      "7184        0          0            0.177322\n",
      "6220        1          0            0.489870\n",
      "4293        0          0            0.289451\n",
      "5818        0          0            0.357677\n",
      "1198        0          0            0.279424\n",
      "5718        0          1            0.675965\n",
      "9180        1          1            0.726738\n",
      "4331        1          1            0.692489\n",
      "4947        0          0            0.022228\n",
      "3317        1          1            0.739119\n"
     ]
    }
   ],
   "source": [
    "\n",
    "predictions_lr_df = pd.DataFrame({\n",
    "    'Actual': y_test,\n",
    "    'Predicted': y_pred,\n",
    "    'Probability of TPK': y_pred_proba_lr\n",
    "})\n",
    "\n",
    "print(predictions_lr_df.head(20))\n"
   ]
  },
  {
   "cell_type": "code",
   "execution_count": 183,
   "metadata": {},
   "outputs": [],
   "source": [
    "from sklearn.tree import DecisionTreeClassifier\n"
   ]
  },
  {
   "cell_type": "code",
   "execution_count": 177,
   "metadata": {},
   "outputs": [
    {
     "data": {
      "text/html": [
       "<style>#sk-container-id-2 {color: black;}#sk-container-id-2 pre{padding: 0;}#sk-container-id-2 div.sk-toggleable {background-color: white;}#sk-container-id-2 label.sk-toggleable__label {cursor: pointer;display: block;width: 100%;margin-bottom: 0;padding: 0.3em;box-sizing: border-box;text-align: center;}#sk-container-id-2 label.sk-toggleable__label-arrow:before {content: \"▸\";float: left;margin-right: 0.25em;color: #696969;}#sk-container-id-2 label.sk-toggleable__label-arrow:hover:before {color: black;}#sk-container-id-2 div.sk-estimator:hover label.sk-toggleable__label-arrow:before {color: black;}#sk-container-id-2 div.sk-toggleable__content {max-height: 0;max-width: 0;overflow: hidden;text-align: left;background-color: #f0f8ff;}#sk-container-id-2 div.sk-toggleable__content pre {margin: 0.2em;color: black;border-radius: 0.25em;background-color: #f0f8ff;}#sk-container-id-2 input.sk-toggleable__control:checked~div.sk-toggleable__content {max-height: 200px;max-width: 100%;overflow: auto;}#sk-container-id-2 input.sk-toggleable__control:checked~label.sk-toggleable__label-arrow:before {content: \"▾\";}#sk-container-id-2 div.sk-estimator input.sk-toggleable__control:checked~label.sk-toggleable__label {background-color: #d4ebff;}#sk-container-id-2 div.sk-label input.sk-toggleable__control:checked~label.sk-toggleable__label {background-color: #d4ebff;}#sk-container-id-2 input.sk-hidden--visually {border: 0;clip: rect(1px 1px 1px 1px);clip: rect(1px, 1px, 1px, 1px);height: 1px;margin: -1px;overflow: hidden;padding: 0;position: absolute;width: 1px;}#sk-container-id-2 div.sk-estimator {font-family: monospace;background-color: #f0f8ff;border: 1px dotted black;border-radius: 0.25em;box-sizing: border-box;margin-bottom: 0.5em;}#sk-container-id-2 div.sk-estimator:hover {background-color: #d4ebff;}#sk-container-id-2 div.sk-parallel-item::after {content: \"\";width: 100%;border-bottom: 1px solid gray;flex-grow: 1;}#sk-container-id-2 div.sk-label:hover label.sk-toggleable__label {background-color: #d4ebff;}#sk-container-id-2 div.sk-serial::before {content: \"\";position: absolute;border-left: 1px solid gray;box-sizing: border-box;top: 0;bottom: 0;left: 50%;z-index: 0;}#sk-container-id-2 div.sk-serial {display: flex;flex-direction: column;align-items: center;background-color: white;padding-right: 0.2em;padding-left: 0.2em;position: relative;}#sk-container-id-2 div.sk-item {position: relative;z-index: 1;}#sk-container-id-2 div.sk-parallel {display: flex;align-items: stretch;justify-content: center;background-color: white;position: relative;}#sk-container-id-2 div.sk-item::before, #sk-container-id-2 div.sk-parallel-item::before {content: \"\";position: absolute;border-left: 1px solid gray;box-sizing: border-box;top: 0;bottom: 0;left: 50%;z-index: -1;}#sk-container-id-2 div.sk-parallel-item {display: flex;flex-direction: column;z-index: 1;position: relative;background-color: white;}#sk-container-id-2 div.sk-parallel-item:first-child::after {align-self: flex-end;width: 50%;}#sk-container-id-2 div.sk-parallel-item:last-child::after {align-self: flex-start;width: 50%;}#sk-container-id-2 div.sk-parallel-item:only-child::after {width: 0;}#sk-container-id-2 div.sk-dashed-wrapped {border: 1px dashed gray;margin: 0 0.4em 0.5em 0.4em;box-sizing: border-box;padding-bottom: 0.4em;background-color: white;}#sk-container-id-2 div.sk-label label {font-family: monospace;font-weight: bold;display: inline-block;line-height: 1.2em;}#sk-container-id-2 div.sk-label-container {text-align: center;}#sk-container-id-2 div.sk-container {/* jupyter's `normalize.less` sets `[hidden] { display: none; }` but bootstrap.min.css set `[hidden] { display: none !important; }` so we also need the `!important` here to be able to override the default hidden behavior on the sphinx rendered scikit-learn.org. See: https://github.com/scikit-learn/scikit-learn/issues/21755 */display: inline-block !important;position: relative;}#sk-container-id-2 div.sk-text-repr-fallback {display: none;}</style><div id=\"sk-container-id-2\" class=\"sk-top-container\"><div class=\"sk-text-repr-fallback\"><pre>DecisionTreeClassifier(random_state=42)</pre><b>In a Jupyter environment, please rerun this cell to show the HTML representation or trust the notebook. <br />On GitHub, the HTML representation is unable to render, please try loading this page with nbviewer.org.</b></div><div class=\"sk-container\" hidden><div class=\"sk-item\"><div class=\"sk-estimator sk-toggleable\"><input class=\"sk-toggleable__control sk-hidden--visually\" id=\"sk-estimator-id-2\" type=\"checkbox\" checked><label for=\"sk-estimator-id-2\" class=\"sk-toggleable__label sk-toggleable__label-arrow\">DecisionTreeClassifier</label><div class=\"sk-toggleable__content\"><pre>DecisionTreeClassifier(random_state=42)</pre></div></div></div></div></div>"
      ],
      "text/plain": [
       "DecisionTreeClassifier(random_state=42)"
      ]
     },
     "execution_count": 177,
     "metadata": {},
     "output_type": "execute_result"
    }
   ],
   "source": [
    "dt_model = DecisionTreeClassifier(random_state=42)\n",
    "\n",
    "dt_model.fit(X_train, y_train)\n"
   ]
  },
  {
   "cell_type": "code",
   "execution_count": 178,
   "metadata": {},
   "outputs": [
    {
     "name": "stdout",
     "output_type": "stream",
     "text": [
      "              precision    recall  f1-score   support\n",
      "\n",
      "           0       0.75      0.74      0.75       104\n",
      "           1       0.68      0.70      0.69        82\n",
      "\n",
      "    accuracy                           0.72       186\n",
      "   macro avg       0.72      0.72      0.72       186\n",
      "weighted avg       0.72      0.72      0.72       186\n",
      "\n"
     ]
    }
   ],
   "source": [
    "# Predicting classes\n",
    "y_pred_dt = dt_model.predict(X_test)\n",
    "print(classification_report(y_test, y_pred_dt))\n",
    "\n",
    "# Predicting probabilities\n",
    "y_pred_proba_dt = dt_model.predict_proba(X_test)[:, 1]  # Probabilities of the positive class\n"
   ]
  },
  {
   "cell_type": "code",
   "execution_count": 179,
   "metadata": {},
   "outputs": [
    {
     "name": "stdout",
     "output_type": "stream",
     "text": [
      "       Actual  Predicted  Probability of TPK\n",
      "8608        0          0            0.000000\n",
      "9298        1          1            1.000000\n",
      "4801        0          0            0.000000\n",
      "10629       0          0            0.000000\n",
      "7800        0          0            0.000000\n",
      "10424       1          1            1.000000\n",
      "5457        0          1            1.000000\n",
      "1612        1          1            1.000000\n",
      "813         1          0            0.000000\n",
      "7846        1          1            1.000000\n",
      "7184        0          0            0.000000\n",
      "6220        1          1            1.000000\n",
      "4293        0          0            0.000000\n",
      "5818        0          0            0.000000\n",
      "1198        0          0            0.000000\n",
      "5718        0          0            0.125000\n",
      "9180        1          1            1.000000\n",
      "4331        1          0            0.333333\n",
      "4947        0          0            0.000000\n",
      "3317        1          1            1.000000\n"
     ]
    }
   ],
   "source": [
    "# Create a DataFrame to view predictions and their probabilities\n",
    "predictions_df = pd.DataFrame({\n",
    "    'Actual': y_test,\n",
    "    'Predicted': y_pred_dt,\n",
    "    'Probability of TPK': y_pred_proba_dt\n",
    "})\n",
    "\n",
    "print(predictions_df.head(20))\n"
   ]
  },
  {
   "cell_type": "code",
   "execution_count": 180,
   "metadata": {},
   "outputs": [
    {
     "data": {
      "image/png": "[encoded data removed]",
      "text/plain": [
       "<Figure size 800x600 with 1 Axes>"
      ]
     },
     "metadata": {},
     "output_type": "display_data"
    }
   ],
   "source": [
    "from sklearn.metrics import roc_curve, auc\n",
    "import matplotlib.pyplot as plt\n",
    "\n",
    "# Calculate ROC curve from both models\n",
    "fpr_log, tpr_log, _ = roc_curve(y_test, model.predict_proba(X_test)[:, 1])\n",
    "fpr_dt, tpr_dt, _ = roc_curve(y_test, dt_model.predict_proba(X_test)[:, 1])\n",
    "\n",
    "# Calculate AUC (Area under the ROC Curve)\n",
    "auc_log = auc(fpr_log, tpr_log)\n",
    "auc_dt = auc(fpr_dt, tpr_dt)\n",
    "\n",
    "# Plotting\n",
    "plt.figure(figsize=(8, 6))\n",
    "plt.plot(fpr_log, tpr_log, label=f'Logistic Regression (AUC = {auc_log:.2f})', color='blue')\n",
    "plt.plot(fpr_dt, tpr_dt, label=f'Decision Tree (AUC = {auc_dt:.2f})', color='green')\n",
    "plt.plot([0, 1], [0, 1], color='darkgrey', linestyle='--')\n",
    "plt.xlabel('False Positive Rate')\n",
    "plt.ylabel('True Positive Rate')\n",
    "plt.title('ROC Curve')\n",
    "plt.legend()\n",
    "plt.show()\n"
   ]
  }
 ],
 "metadata": {
  "kernelspec": {
   "display_name": "base",
   "language": "python",
   "name": "python3"
  },
  "language_info": {
   "codemirror_mode": {
    "name": "ipython",
    "version": 3
   },
   "file_extension": ".py",
   "mimetype": "text/x-python",
   "name": "python",
   "nbconvert_exporter": "python",
   "pygments_lexer": "ipython3",
   "version": "3.11.5"
  }
 },
 "nbformat": 4,
 "nbformat_minor": 2
}
