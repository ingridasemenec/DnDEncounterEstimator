{
 "cells": [
  {
   "cell_type": "markdown",
   "metadata": {},
   "source": [
    "test codes to see if i can just get timestamps and export it to cvs file fot easier handling"
   ]
  },
  {
   "cell_type": "code",
   "execution_count": 1,
   "metadata": {},
   "outputs": [
    {
     "name": "stdout",
     "output_type": "stream",
     "text": [
      "      timestamp\n",
      "0  1.653863e+09\n",
      "Data exported to CSV file at: C:/Users/josep/OneDrive/Desktop/Erdos/anonymized/data/combat_start_timestamps.csv\n"
     ]
    }
   ],
   "source": [
    "import pandas as pd\n",
    "import gzip\n",
    "import json\n",
    "\n",
    "file_path = 'C:/Users/josep/OneDrive/Desktop/Erdos/anonymized/data/1653862941-dcfb4c8f-dc3e-4247-a564-45e1ab536dac.jsonl.gz'\n",
    "\n",
    "# Extract data from the file\n",
    "data = []\n",
    "with gzip.open(file_path, 'rt', encoding='utf-8') as file:\n",
    "    for line in file:\n",
    "        json_obj = json.loads(line)\n",
    "        if json_obj.get('event_type') == 'combat_start':\n",
    "            data.append({'timestamp': json_obj.get('timestamp')})\n",
    "\n",
    "# Convert the extracted data to a DataFrame\n",
    "df = pd.DataFrame(data)\n",
    "\n",
    "# Display the DataFrame\n",
    "print(df)\n",
    "\n",
    "# Export to CSV\n",
    "csv_file_path = 'C:/Users/josep/OneDrive/Desktop/Erdos/anonymized/data/combat_start_timestamps.csv'\n",
    "df.to_csv(csv_file_path, index=False)\n",
    "\n",
    "print(f\"Data exported to CSV file at: {csv_file_path}\")\n"
   ]
  },
  {
   "cell_type": "markdown",
   "metadata": {},
   "source": [
    "test code to see if i can also get combat id, for the combat id to get combat start timestamp, number of player combatants and number of monster combatants. Also gets character names and monster names too."
   ]
  },
  {
   "cell_type": "code",
   "execution_count": 4,
   "metadata": {},
   "outputs": [
    {
     "name": "stdout",
     "output_type": "stream",
     "text": [
      "Data exported to CSV file at: C:/Users/josep/OneDrive/Desktop/Erdos/anonymized/data/combat_analysistest.csv\n"
     ]
    }
   ],
   "source": [
    "import pandas as pd\n",
    "import gzip\n",
    "import json\n",
    "from collections import defaultdict\n",
    "\n",
    "def process_file(file_path):\n",
    "    # Dictionary to hold combat start times and actor details\n",
    "    combat_data = defaultdict(lambda: {'start_time': None, 'player_ids': set(), 'player_names': set(),\n",
    "        'monster_ids': set(), 'monster_names': set()})\n",
    "\n",
    "    with gzip.open(file_path, 'rt', encoding='utf-8') as file:\n",
    "        for line in file:\n",
    "            event = json.loads(line)\n",
    "            combat_id = event.get(\"combat_id\")\n",
    "\n",
    "            # Check for combat start event\n",
    "            if event.get(\"event_type\") == \"combat_start\":\n",
    "                combat_data[combat_id]['start_time'] = event.get(\"timestamp\")\n",
    "\n",
    "            # Check for player actor join events\n",
    "            elif event.get(\"event_type\") == \"command\" and event.get(\"command_name\") == \"init join\":\n",
    "                player_id = event.get(\"author_id\")\n",
    "                player_name = event.get(\"caster\", {}).get(\"name\", event.get(\"author_name\")) # Default to author_name if caster name is not present\n",
    "                combat_data[combat_id]['player_ids'].add(player_id)\n",
    "                combat_data[combat_id]['player_names'].add(player_name)\n",
    "\n",
    "            # Check for monster actor events\n",
    "            elif event.get(\"event_type\") == \"combat_state_update\":\n",
    "                combat = event.get(\"data\")\n",
    "                for actor in combat.get(\"combatants\", []):\n",
    "                    if actor[\"type\"] == \"group\":\n",
    "                        for group_actor in actor[\"combatants\"]:\n",
    "                            if group_actor[\"type\"] == \"monster\":\n",
    "                                combat_data[combat_id]['monster_ids'].add(group_actor[\"id\"])\n",
    "                                combat_data[combat_id]['monster_names'].add(group_actor[\"name\"])\n",
    "                    elif actor[\"type\"] == \"monster\":\n",
    "                        combat_data[combat_id]['monster_ids'].add(actor[\"id\"])\n",
    "                        combat_data[combat_id]['monster_names'].add(actor[\"name\"])\n",
    "\n",
    "    # Convert to a more structured format\n",
    "    processed_data = []\n",
    "    for cid, data in combat_data.items():\n",
    "        processed_data.append({\n",
    "            \"combat_id\": cid,\n",
    "            \"start_time\": data['start_time'],\n",
    "            \"num_player_actors\": len(data['player_ids']),\n",
    "            \"player_ids\": list(data['player_ids']),\n",
    "            \"player_names\": list(data['player_names']),\n",
    "            \"num_monster_actors\": len(data['monster_ids']),\n",
    "            \"monster_ids\": list(data['monster_ids']),\n",
    "            \"monster_names\": list(data['monster_names'])\n",
    "        })\n",
    "\n",
    "    return processed_data\n",
    "\n",
    "# Define file path\n",
    "\n",
    "file_path = 'C:/Users/josep/OneDrive/Desktop/Erdos/anonymized/data/1669628280-3853b404-f342-41b6-ab08-02389ab64493.jsonl.gz'\n",
    "# Process the file\n",
    "combat_info = process_file(file_path)\n",
    "\n",
    "# Convert to DataFrame\n",
    "df = pd.DataFrame(combat_info)\n",
    "\n",
    "# Export to CSV\n",
    "csv_file_path = 'C:/Users/josep/OneDrive/Desktop/Erdos/anonymized/data/combat_analysistest.csv'\n",
    "df.to_csv(csv_file_path, index=False)\n",
    "\n",
    "print(f\"Data exported to CSV file at: {csv_file_path}\")\n"
   ]
  },
  {
   "cell_type": "markdown",
   "metadata": {},
   "source": [
    "test if i can get hp out of human readable string "
   ]
  },
  {
   "cell_type": "code",
   "execution_count": 56,
   "metadata": {},
   "outputs": [
    {
     "name": "stdout",
     "output_type": "stream",
     "text": [
      "{'Ellianna Elara Esmeray-Heisenberg': '26/184 HP'}\n"
     ]
    }
   ],
   "source": [
    "import re\n",
    "\n",
    "# Example string from the \"human_readable\" section\n",
    "human_readable = \"... 22: Ellianna Elara Esmeray-Heisenberg <26/184 HP> ...\"\n",
    "\n",
    "# Regex pattern to match the player names and HP ratios\n",
    "pattern = r'\\d+: ([\\w\\s.-]+) <(\\d+/\\d+ HP)>'\n",
    "\n",
    "# Find all matches\n",
    "matches = re.findall(pattern, human_readable)\n",
    "\n",
    "# Extract info like hp with the name\n",
    "extracted_info = {}\n",
    "for match in matches:\n",
    "    name, hp_ratio = match\n",
    "    extracted_info[name] = hp_ratio\n",
    "\n",
    "# Display the extracted info\n",
    "print(extracted_info)\n"
   ]
  },
  {
   "cell_type": "markdown",
   "metadata": {},
   "source": [
    "test if I can get human_readable part and save the hp associated with player_name. and HP ratio!"
   ]
  },
  {
   "cell_type": "code",
   "execution_count": 1,
   "metadata": {},
   "outputs": [
    {
     "name": "stdout",
     "output_type": "stream",
     "text": [
      "Last 'human_readable' for 1669628280-3853b404-f342-41b6-ab08-02389ab64493: ```md\n",
      "Current initiative: 31 (round 8)\n",
      "================================\n",
      "  37: Merizon Aerialis <1/314 HP> (AC 45, Hasted [4 rounds], Hero.3 [3 rounds], Envelops with intense love, Enveloped by love, Aura of Protection, Aura of Warding, Total Cover, Paladin Supreme, Charismatic, Juro's Ancient Protector, Blessed [9 rounds], All-Seeing [10 rounds])\n",
      "  36: Talia Draculesti <70/200 HP> (AC 40, Death Ward [8.0 hours], Conjure Animals [59.3 minutes], Envelops with intense love, Enveloped by love, Aura of Protection, Aura of Warding, Total Cover, Paladin Supreme, Charismatic, Juro's Ancient Protector)\n",
      "# 31: Dragahree <384/407 HP> (AC 39, Envelops with intense love, Enveloped by love, Prone, Aura of Protection, Aura of Warding, Total Cover, Paladin Supreme, Charismatic, Juro's Ancient Protector)\n",
      "  22: Ellianna Elara Esmeray-Heisenberg <26/184 HP> (AC 31, Death Ward [8.0 hours], Envelops with intense love, Enveloped by love, Trance of Order [5 rounds], Aura of Protection, Aura of Warding, Total Cover, Paladin Supreme, Charismatic, Juro's Ancient Protector, Conjure Elemental [60.0 minutes])\n",
      "  21: Jobella (Mr.Jo-Star) <102/264 HP> (AC 30, Envelops with intense love, Enveloped by love, Aura of Protection, Aura of Warding, Total Cover, Paladin Supreme, Charismatic, Juro's Ancient Protector)\n",
      "  18: Danielle <1/300 HP> (AC 34, saves, Death Ward [8.0 hours], Envelops with intense love, Enveloped by love, Prone, Aura of Protection, Aura of Warding, Total Cover, Paladin Supreme, Charismatic, Juro's Ancient Protector, Verta's Defender, Ward of The Ancient Protector)\n",
      "   5: EE1 <126/126 HP> ```\n",
      "Data exported to CSV file at: C:/Users/josep/OneDrive/Desktop/Erdos/anonymized/data/combat_analysis_with_hp.csv\n"
     ]
    }
   ],
   "source": [
    "import pandas as pd\n",
    "import gzip\n",
    "import json\n",
    "import re\n",
    "from collections import defaultdict\n",
    "\n",
    "def process_file(file_path):\n",
    "    combat_data = defaultdict(lambda: {\n",
    "        'start_time': None, \n",
    "        'player_ids': set(),\n",
    "        'player_info': {},\n",
    "        'monster_ids': set(), \n",
    "        'monster_names': set()\n",
    "    })\n",
    "    last_human_readable = {}\n",
    "\n",
    "    with gzip.open(file_path, 'rt', encoding='utf-8') as file:\n",
    "        for line in file:\n",
    "            event = json.loads(line)\n",
    "            combat_id = event.get(\"combat_id\")\n",
    "\n",
    "            # Checking for combat start and getting timestamp (dont think we actually need timestamp)\n",
    "            if event.get(\"event_type\") == \"combat_start\":\n",
    "                combat_data[combat_id]['start_time'] = event.get(\"timestamp\")\n",
    "\n",
    "            # counting players who joined initiative\n",
    "            elif event.get(\"event_type\") == \"command\" and event.get(\"command_name\") == \"init join\":\n",
    "                player_id = event.get(\"author_id\")\n",
    "                player_name = event.get(\"caster\", {}).get(\"name\", event.get(\"author_name\"))\n",
    "                combat_data[combat_id]['player_ids'].add(player_id)\n",
    "                combat_data[combat_id]['player_info'][player_name] = {'hp_ratio': None}\n",
    "\n",
    "            # counting monsters\n",
    "            elif event.get(\"event_type\") == \"combat_state_update\":\n",
    "                combat = event.get(\"data\")\n",
    "                for actor in combat.get(\"combatants\", []):\n",
    "                    if actor[\"type\"] == \"monster\":\n",
    "                        combat_data[combat_id]['monster_ids'].add(actor[\"id\"])\n",
    "                        combat_data[combat_id]['monster_names'].add(actor[\"name\"])\n",
    "                \n",
    "                #trying to get that human readable part\n",
    "                human_readable = event.get(\"human_readable\", \"\")\n",
    "                if human_readable:\n",
    "                    last_human_readable[combat_id] = human_readable\n",
    "\n",
    "    # Processing the last human_readable to extract HP ratios (this is not working ....)\n",
    "    for cid, human_readable in last_human_readable.items():\n",
    "        pattern = r'\\d+: ([\\w\\s.-]+) <(\\d+/\\d+ HP)>'\n",
    "        matches = re.findall(pattern, human_readable)\n",
    "\n",
    "        for name, hp_ratio in matches:\n",
    "            if name in combat_data[cid]['player_info']:\n",
    "                combat_data[cid]['player_info'][name]['hp_ratio'] = hp_ratio\n",
    "\n",
    "    # Printing the last human_readable string for each combat ID\n",
    "    for cid, human_readable in last_human_readable.items():\n",
    "        print(f\"Last 'human_readable' for {cid}: {human_readable}\")\n",
    "\n",
    "    # Creating the DataFrame from collected data\n",
    "    processed_data = []\n",
    "    for cid, data in combat_data.items():\n",
    "        processed_data.append({\n",
    "            \"combat_id\": cid,\n",
    "            \"start_time\": data['start_time'],\n",
    "            \"num_player_actors\": len(data['player_ids']),\n",
    "            \"player_info\": data['player_info'],\n",
    "            \"num_monster_actors\": len(data['monster_ids']),\n",
    "            \"monster_ids\": list(data['monster_ids']),\n",
    "            \"monster_names\": list(data['monster_names']),\n",
    "        })\n",
    "\n",
    "    return pd.DataFrame(processed_data)\n",
    "\n",
    "# Define file path\n",
    "file_path = 'C:/Users/josep/OneDrive/Desktop/Erdos/anonymized/data/1669628280-3853b404-f342-41b6-ab08-02389ab64493.jsonl.gz'\n",
    "\n",
    "# Process the file and create DataFrame\n",
    "df = process_file(file_path)\n",
    "\n",
    "# Export to CSV\n",
    "csv_file_path = 'C:/Users/josep/OneDrive/Desktop/Erdos/anonymized/data/combat_analysis_with_hp.csv'\n",
    "df.to_csv(csv_file_path, index=False)\n",
    "\n",
    "print(f\"Data exported to CSV file at: {csv_file_path}\")\n",
    "\n"
   ]
  }
 ],
 "metadata": {
  "kernelspec": {
   "display_name": "erdos_sp_2024",
   "language": "python",
   "name": "python3"
  },
  "language_info": {
   "codemirror_mode": {
    "name": "ipython",
    "version": 3
   },
   "file_extension": ".py",
   "mimetype": "text/x-python",
   "name": "python",
   "nbconvert_exporter": "python",
   "pygments_lexer": "ipython3",
   "version": "3.11.7"
  }
 },
 "nbformat": 4,
 "nbformat_minor": 2
}
